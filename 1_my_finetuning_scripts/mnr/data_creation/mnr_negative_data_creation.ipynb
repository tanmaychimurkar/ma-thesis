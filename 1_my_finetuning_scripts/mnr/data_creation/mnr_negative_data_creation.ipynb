{
 "cells": [
  {
   "cell_type": "code",
   "execution_count": 1,
   "id": "33eb7b17",
   "metadata": {},
   "outputs": [
    {
     "name": "stdout",
     "output_type": "stream",
     "text": [
      "INFO: Pandarallel will run on 128 workers.\n",
      "INFO: Pandarallel will use Memory file system to transfer data between the main process and workers.\n"
     ]
    },
    {
     "name": "stderr",
     "output_type": "stream",
     "text": [
      "[nltk_data] Downloading package stopwords to\n",
      "[nltk_data]     /cluster/home/yakram/nltk_data...\n",
      "[nltk_data]   Package stopwords is already up-to-date!\n"
     ]
    },
    {
     "data": {
      "text/plain": [
       "True"
      ]
     },
     "execution_count": 1,
     "metadata": {},
     "output_type": "execute_result"
    }
   ],
   "source": [
    "import pandas as pd\n",
    "import numpy as np\n",
    "import pandas as pd\n",
    "from tqdm import tqdm\n",
    "import os\n",
    "from nltk.corpus import stopwords\n",
    "import itertools\n",
    "import nltk\n",
    "import re\n",
    "tqdm.pandas()\n",
    "import ast\n",
    "\n",
    "from pandarallel import pandarallel\n",
    "pandarallel.initialize(progress_bar=True)\n",
    "\n",
    "nltk.download('stopwords')"
   ]
  },
  {
   "cell_type": "code",
   "execution_count": 2,
   "id": "4332165e",
   "metadata": {},
   "outputs": [],
   "source": [
    "LANGUAGE = 'de'\n",
    "DATA_DIR = 'german'\n",
    "stop_words = stopwords.words(DATA_DIR)"
   ]
  },
  {
   "cell_type": "code",
   "execution_count": 3,
   "id": "10f54bbe",
   "metadata": {},
   "outputs": [],
   "source": [
    "SPARQL_DIR = f'/cluster/scratch/yakram/sbert-copy/turtle_files/{DATA_DIR}_data/'\n",
    "\n",
    "concept_schemes = pd.read_csv(os.path.join(SPARQL_DIR, 'query_concept_schemes_combined.rq'), sep='\\t',\n",
    "                              index_col=[0])\n",
    "\n",
    "negatives_file = pd.read_csv('/cluster/scratch/yakram/sbert-copy/turtle_files/negative_100.csv', sep='\\t',\n",
    "                            index_col=[0])\n",
    "\n",
    "MemConcept_prefLabel = pd.read_csv(os.path.join(SPARQL_DIR, 'query_MemConcept_prefLabel.rq'), sep='\\t', index_col=[0])\n",
    "SkillsHier_prefLabel = pd.read_csv(os.path.join(SPARQL_DIR, 'query_SkillsHier_prefLabel.rq'), sep='\\t', index_col=[0])\n",
    "\n",
    "MemConcept_altLabel = pd.read_csv(os.path.join(SPARQL_DIR, 'query_MemConcept_altLabel.rq'), sep='\\t', index_col=[0])\n",
    "SkillsHier_altLabel = pd.read_csv(os.path.join(SPARQL_DIR, 'query_SkillsHier_altLabel.rq'), sep='\\t', index_col=[0])\n",
    "\n",
    "\n",
    "MemConcept_hiddenLabel = pd.read_csv(os.path.join(SPARQL_DIR, 'query_MemConcept_hiddenLabel.rq'), sep='\\t', index_col=[0])\n",
    "SkillsHier_hiddenLabel = pd.read_csv(os.path.join(SPARQL_DIR, 'query_SkillsHier_hiddenLabel.rq'), sep='\\t', index_col=[0])\n",
    "\n",
    "MemConcept_description = pd.read_csv(os.path.join(SPARQL_DIR, 'query_MemConcept_description.rq'), sep='\\t', index_col=[0])\n",
    "SkillsHier_description = pd.read_csv(os.path.join(SPARQL_DIR, 'query_SkillsHier_description.rq'), sep='\\t', index_col=[0])\n",
    "\n",
    "memconcept_skills_prefLabel_combined = pd.concat([MemConcept_prefLabel, SkillsHier_prefLabel])\n",
    "memconcept_skills_altLabel_combined = pd.concat([MemConcept_altLabel, SkillsHier_altLabel])\n",
    "memconcept_skills_hiddenLabel_combined = pd.concat([MemConcept_hiddenLabel, SkillsHier_hiddenLabel])\n",
    "memconcept_skills_description_combined = pd.concat([MemConcept_description, SkillsHier_description])\n",
    "\n",
    "\n",
    "##### useful datasets #####\n",
    "\n",
    "\n",
    "memconcept_skills_prefLabel = concept_schemes.merge(memconcept_skills_prefLabel_combined, on=['?a'], how='left')\n",
    "memconcept_skills_altLabel = concept_schemes.merge(memconcept_skills_altLabel_combined, on=['?a'], how='left')\n",
    "memconcept_skills_hiddenLabel = concept_schemes.merge(memconcept_skills_hiddenLabel_combined, on=['?a'], how='left')\n",
    "memconcept_skills_description = concept_schemes.merge(memconcept_skills_description_combined, on=['?a'], how='left')"
   ]
  },
  {
   "cell_type": "code",
   "execution_count": 4,
   "id": "e2b1728c",
   "metadata": {},
   "outputs": [],
   "source": [
    "del MemConcept_prefLabel\n",
    "del SkillsHier_prefLabel\n",
    "del MemConcept_altLabel\n",
    "del SkillsHier_altLabel\n",
    "del MemConcept_hiddenLabel\n",
    "del SkillsHier_hiddenLabel\n",
    "del MemConcept_description\n",
    "del SkillsHier_description\n",
    "del memconcept_skills_prefLabel_combined\n",
    "del memconcept_skills_altLabel_combined\n",
    "del memconcept_skills_hiddenLabel_combined\n",
    "del memconcept_skills_description_combined"
   ]
  },
  {
   "cell_type": "code",
   "execution_count": 5,
   "id": "81560443",
   "metadata": {},
   "outputs": [
    {
     "data": {
      "text/html": [
       "<div>\n",
       "<style scoped>\n",
       "    .dataframe tbody tr th:only-of-type {\n",
       "        vertical-align: middle;\n",
       "    }\n",
       "\n",
       "    .dataframe tbody tr th {\n",
       "        vertical-align: top;\n",
       "    }\n",
       "\n",
       "    .dataframe thead th {\n",
       "        text-align: right;\n",
       "    }\n",
       "</style>\n",
       "<table border=\"1\" class=\"dataframe\">\n",
       "  <thead>\n",
       "    <tr style=\"text-align: right;\">\n",
       "      <th></th>\n",
       "      <th>main_uri</th>\n",
       "      <th>negative_uris</th>\n",
       "    </tr>\n",
       "  </thead>\n",
       "  <tbody>\n",
       "    <tr>\n",
       "      <th>0</th>\n",
       "      <td>http://data.europa.eu/esco/isced-f/00</td>\n",
       "      <td>['http://data.europa.eu/esco/skill/b74fd765-e1...</td>\n",
       "    </tr>\n",
       "    <tr>\n",
       "      <th>1</th>\n",
       "      <td>http://data.europa.eu/esco/isced-f/000</td>\n",
       "      <td>['http://data.europa.eu/esco/skill/b779205e-37...</td>\n",
       "    </tr>\n",
       "    <tr>\n",
       "      <th>2</th>\n",
       "      <td>http://data.europa.eu/esco/isced-f/0000</td>\n",
       "      <td>['http://data.europa.eu/esco/skill/1fe4c04b-30...</td>\n",
       "    </tr>\n",
       "    <tr>\n",
       "      <th>3</th>\n",
       "      <td>http://data.europa.eu/esco/isced-f/001</td>\n",
       "      <td>['http://data.europa.eu/esco/skill/22d363fa-45...</td>\n",
       "    </tr>\n",
       "    <tr>\n",
       "      <th>4</th>\n",
       "      <td>http://data.europa.eu/esco/isced-f/0011</td>\n",
       "      <td>['http://data.europa.eu/esco/skill/aef7eab0-ae...</td>\n",
       "    </tr>\n",
       "  </tbody>\n",
       "</table>\n",
       "</div>"
      ],
      "text/plain": [
       "                                  main_uri  \\\n",
       "0    http://data.europa.eu/esco/isced-f/00   \n",
       "1   http://data.europa.eu/esco/isced-f/000   \n",
       "2  http://data.europa.eu/esco/isced-f/0000   \n",
       "3   http://data.europa.eu/esco/isced-f/001   \n",
       "4  http://data.europa.eu/esco/isced-f/0011   \n",
       "\n",
       "                                       negative_uris  \n",
       "0  ['http://data.europa.eu/esco/skill/b74fd765-e1...  \n",
       "1  ['http://data.europa.eu/esco/skill/b779205e-37...  \n",
       "2  ['http://data.europa.eu/esco/skill/1fe4c04b-30...  \n",
       "3  ['http://data.europa.eu/esco/skill/22d363fa-45...  \n",
       "4  ['http://data.europa.eu/esco/skill/aef7eab0-ae...  "
      ]
     },
     "execution_count": 5,
     "metadata": {},
     "output_type": "execute_result"
    }
   ],
   "source": [
    "negatives_file.head()"
   ]
  },
  {
   "cell_type": "code",
   "execution_count": 6,
   "id": "c8d7739b",
   "metadata": {},
   "outputs": [],
   "source": [
    "negatives_file.columns = ['?a', 'negative_uris']"
   ]
  },
  {
   "cell_type": "code",
   "execution_count": 7,
   "id": "c8127bb3",
   "metadata": {
    "scrolled": true
   },
   "outputs": [],
   "source": [
    "neg_prefLabel_merged = memconcept_skills_prefLabel.merge(negatives_file, on=['?a'], how='left')\n",
    "neg_altLabel_merged = memconcept_skills_altLabel.merge(negatives_file, on=['?a'], how='left')\n",
    "neg_hiddenLabel_merged = memconcept_skills_hiddenLabel.merge(negatives_file, on=['?a'], how='left')\n",
    "neg_description_merged = memconcept_skills_description.merge(negatives_file, on=['?a'], how='left')\n",
    "\n",
    "neg_prefLabel_merged.dropna(inplace=True)\n",
    "neg_altLabel_merged.dropna(inplace=True)\n",
    "neg_hiddenLabel_merged.dropna(inplace=True)\n",
    "neg_description_merged.dropna(inplace=True)\n",
    "\n",
    "neg_prefLabel_merged['negative_uris'] = neg_prefLabel_merged['negative_uris'].apply(lambda x: ast.literal_eval(x))\n",
    "neg_altLabel_merged['negative_uris'] = neg_altLabel_merged['negative_uris'].apply(lambda x: ast.literal_eval(x))\n",
    "neg_hiddenLabel_merged['negative_uris'] = neg_hiddenLabel_merged['negative_uris'].apply(lambda x: ast.literal_eval(x))\n",
    "neg_description_merged['negative_uris'] = neg_description_merged['negative_uris'].apply(lambda x: ast.literal_eval(x))\n",
    "\n",
    "neg_prefLabel = neg_prefLabel_merged.explode('negative_uris')\n",
    "neg_altLabel = neg_altLabel_merged.explode('negative_uris')\n",
    "neg_hiddenLabel = neg_hiddenLabel_merged.explode('negative_uris')\n",
    "neg_description = neg_description_merged.explode('negative_uris')"
   ]
  },
  {
   "cell_type": "code",
   "execution_count": 8,
   "id": "fdb86061",
   "metadata": {},
   "outputs": [],
   "source": [
    "neg_prefLabel.rename(columns={neg_prefLabel.columns[1]: 'anchor'}, inplace=True)\n",
    "neg_altLabel.rename(columns={neg_altLabel.columns[1]: 'anchor'}, inplace=True)\n",
    "neg_hiddenLabel.rename(columns={neg_hiddenLabel.columns[1]: 'anchor'}, inplace=True)\n",
    "neg_description.rename(columns={neg_description.columns[1]: 'anchor'}, inplace=True)"
   ]
  },
  {
   "cell_type": "code",
   "execution_count": 9,
   "id": "3a76cb73",
   "metadata": {},
   "outputs": [],
   "source": [
    "neg_prefLabel.rename(columns={ '?a': 'positive_uri','negative_uris': '?a'}, inplace=True)\n",
    "neg_altLabel.rename(columns={ '?a': 'positive_uri','negative_uris': '?a'}, inplace=True)\n",
    "neg_hiddenLabel.rename(columns={ '?a': 'positive_uri','negative_uris': '?a'}, inplace=True)\n",
    "neg_description.rename(columns={ '?a': 'positive_uri','negative_uris': '?a'}, inplace=True)"
   ]
  },
  {
   "cell_type": "code",
   "execution_count": 10,
   "id": "a982bcb3",
   "metadata": {},
   "outputs": [
    {
     "data": {
      "text/html": [
       "<div>\n",
       "<style scoped>\n",
       "    .dataframe tbody tr th:only-of-type {\n",
       "        vertical-align: middle;\n",
       "    }\n",
       "\n",
       "    .dataframe tbody tr th {\n",
       "        vertical-align: top;\n",
       "    }\n",
       "\n",
       "    .dataframe thead th {\n",
       "        text-align: right;\n",
       "    }\n",
       "</style>\n",
       "<table border=\"1\" class=\"dataframe\">\n",
       "  <thead>\n",
       "    <tr style=\"text-align: right;\">\n",
       "      <th></th>\n",
       "      <th>positive_uri</th>\n",
       "      <th>anchor</th>\n",
       "      <th>?a</th>\n",
       "    </tr>\n",
       "  </thead>\n",
       "  <tbody>\n",
       "    <tr>\n",
       "      <th>0</th>\n",
       "      <td>http://data.europa.eu/esco/skill/29b326ea-a9c8...</td>\n",
       "      <td>Lebensmittelrohstoffe lagern</td>\n",
       "      <td>http://data.europa.eu/esco/skill/815d1585-1706...</td>\n",
       "    </tr>\n",
       "    <tr>\n",
       "      <th>0</th>\n",
       "      <td>http://data.europa.eu/esco/skill/29b326ea-a9c8...</td>\n",
       "      <td>Lebensmittelrohstoffe lagern</td>\n",
       "      <td>http://data.europa.eu/esco/skill/5e433def-210d...</td>\n",
       "    </tr>\n",
       "    <tr>\n",
       "      <th>0</th>\n",
       "      <td>http://data.europa.eu/esco/skill/29b326ea-a9c8...</td>\n",
       "      <td>Lebensmittelrohstoffe lagern</td>\n",
       "      <td>http://data.europa.eu/esco/skill/5d1a7c14-188d...</td>\n",
       "    </tr>\n",
       "    <tr>\n",
       "      <th>0</th>\n",
       "      <td>http://data.europa.eu/esco/skill/29b326ea-a9c8...</td>\n",
       "      <td>Lebensmittelrohstoffe lagern</td>\n",
       "      <td>http://data.europa.eu/esco/skill/8b6f2996-218b...</td>\n",
       "    </tr>\n",
       "    <tr>\n",
       "      <th>0</th>\n",
       "      <td>http://data.europa.eu/esco/skill/29b326ea-a9c8...</td>\n",
       "      <td>Lebensmittelrohstoffe lagern</td>\n",
       "      <td>http://data.europa.eu/esco/skill/779f5db1-66db...</td>\n",
       "    </tr>\n",
       "  </tbody>\n",
       "</table>\n",
       "</div>"
      ],
      "text/plain": [
       "                                        positive_uri  \\\n",
       "0  http://data.europa.eu/esco/skill/29b326ea-a9c8...   \n",
       "0  http://data.europa.eu/esco/skill/29b326ea-a9c8...   \n",
       "0  http://data.europa.eu/esco/skill/29b326ea-a9c8...   \n",
       "0  http://data.europa.eu/esco/skill/29b326ea-a9c8...   \n",
       "0  http://data.europa.eu/esco/skill/29b326ea-a9c8...   \n",
       "\n",
       "                         anchor  \\\n",
       "0  Lebensmittelrohstoffe lagern   \n",
       "0  Lebensmittelrohstoffe lagern   \n",
       "0  Lebensmittelrohstoffe lagern   \n",
       "0  Lebensmittelrohstoffe lagern   \n",
       "0  Lebensmittelrohstoffe lagern   \n",
       "\n",
       "                                                  ?a  \n",
       "0  http://data.europa.eu/esco/skill/815d1585-1706...  \n",
       "0  http://data.europa.eu/esco/skill/5e433def-210d...  \n",
       "0  http://data.europa.eu/esco/skill/5d1a7c14-188d...  \n",
       "0  http://data.europa.eu/esco/skill/8b6f2996-218b...  \n",
       "0  http://data.europa.eu/esco/skill/779f5db1-66db...  "
      ]
     },
     "execution_count": 10,
     "metadata": {},
     "output_type": "execute_result"
    }
   ],
   "source": [
    "neg_prefLabel.head()"
   ]
  },
  {
   "cell_type": "code",
   "execution_count": 11,
   "id": "8823cc5c",
   "metadata": {},
   "outputs": [
    {
     "data": {
      "text/html": [
       "<div>\n",
       "<style scoped>\n",
       "    .dataframe tbody tr th:only-of-type {\n",
       "        vertical-align: middle;\n",
       "    }\n",
       "\n",
       "    .dataframe tbody tr th {\n",
       "        vertical-align: top;\n",
       "    }\n",
       "\n",
       "    .dataframe thead th {\n",
       "        text-align: right;\n",
       "    }\n",
       "</style>\n",
       "<table border=\"1\" class=\"dataframe\">\n",
       "  <thead>\n",
       "    <tr style=\"text-align: right;\">\n",
       "      <th></th>\n",
       "      <th>positive_uri</th>\n",
       "      <th>anchor</th>\n",
       "      <th>?a</th>\n",
       "    </tr>\n",
       "  </thead>\n",
       "  <tbody>\n",
       "    <tr>\n",
       "      <th>0</th>\n",
       "      <td>http://data.europa.eu/esco/skill/29b326ea-a9c8...</td>\n",
       "      <td>rohe Lebensmittel lagern</td>\n",
       "      <td>http://data.europa.eu/esco/skill/815d1585-1706...</td>\n",
       "    </tr>\n",
       "    <tr>\n",
       "      <th>0</th>\n",
       "      <td>http://data.europa.eu/esco/skill/29b326ea-a9c8...</td>\n",
       "      <td>rohe Lebensmittel lagern</td>\n",
       "      <td>http://data.europa.eu/esco/skill/5e433def-210d...</td>\n",
       "    </tr>\n",
       "    <tr>\n",
       "      <th>0</th>\n",
       "      <td>http://data.europa.eu/esco/skill/29b326ea-a9c8...</td>\n",
       "      <td>rohe Lebensmittel lagern</td>\n",
       "      <td>http://data.europa.eu/esco/skill/5d1a7c14-188d...</td>\n",
       "    </tr>\n",
       "    <tr>\n",
       "      <th>0</th>\n",
       "      <td>http://data.europa.eu/esco/skill/29b326ea-a9c8...</td>\n",
       "      <td>rohe Lebensmittel lagern</td>\n",
       "      <td>http://data.europa.eu/esco/skill/8b6f2996-218b...</td>\n",
       "    </tr>\n",
       "    <tr>\n",
       "      <th>0</th>\n",
       "      <td>http://data.europa.eu/esco/skill/29b326ea-a9c8...</td>\n",
       "      <td>rohe Lebensmittel lagern</td>\n",
       "      <td>http://data.europa.eu/esco/skill/779f5db1-66db...</td>\n",
       "    </tr>\n",
       "  </tbody>\n",
       "</table>\n",
       "</div>"
      ],
      "text/plain": [
       "                                        positive_uri  \\\n",
       "0  http://data.europa.eu/esco/skill/29b326ea-a9c8...   \n",
       "0  http://data.europa.eu/esco/skill/29b326ea-a9c8...   \n",
       "0  http://data.europa.eu/esco/skill/29b326ea-a9c8...   \n",
       "0  http://data.europa.eu/esco/skill/29b326ea-a9c8...   \n",
       "0  http://data.europa.eu/esco/skill/29b326ea-a9c8...   \n",
       "\n",
       "                     anchor                                                 ?a  \n",
       "0  rohe Lebensmittel lagern  http://data.europa.eu/esco/skill/815d1585-1706...  \n",
       "0  rohe Lebensmittel lagern  http://data.europa.eu/esco/skill/5e433def-210d...  \n",
       "0  rohe Lebensmittel lagern  http://data.europa.eu/esco/skill/5d1a7c14-188d...  \n",
       "0  rohe Lebensmittel lagern  http://data.europa.eu/esco/skill/8b6f2996-218b...  \n",
       "0  rohe Lebensmittel lagern  http://data.europa.eu/esco/skill/779f5db1-66db...  "
      ]
     },
     "execution_count": 11,
     "metadata": {},
     "output_type": "execute_result"
    }
   ],
   "source": [
    "neg_altLabel.head()"
   ]
  },
  {
   "cell_type": "markdown",
   "id": "4ea9b630",
   "metadata": {},
   "source": [
    "### attach negative term and get intersections"
   ]
  },
  {
   "cell_type": "code",
   "execution_count": 12,
   "id": "5d905310",
   "metadata": {},
   "outputs": [],
   "source": [
    "neg_pref_pos_altLabel = neg_prefLabel.merge(memconcept_skills_altLabel, on=['?a'], how='left')\n",
    "neg_pref_pos_hiddenLabel = neg_prefLabel.merge(memconcept_skills_hiddenLabel, on=['?a'], how='left')\n",
    "neg_pref_pos_description = neg_prefLabel.merge(memconcept_skills_description, on=['?a'], how='left')\n",
    "neg_alt_pos_hidden = neg_altLabel.merge(memconcept_skills_hiddenLabel, on=['?a'], how='left')"
   ]
  },
  {
   "cell_type": "code",
   "execution_count": 13,
   "id": "5faac4b7",
   "metadata": {},
   "outputs": [],
   "source": [
    "neg_pref_pos_altLabel.rename(columns={neg_pref_pos_altLabel.columns[-1]: 'negative_term'}, inplace=True)\n",
    "neg_pref_pos_hiddenLabel.rename(columns={neg_pref_pos_hiddenLabel.columns[-1]: 'negative_term'}, inplace=True)\n",
    "neg_pref_pos_description.rename(columns={neg_pref_pos_description.columns[-1]: 'negative_term'}, inplace=True)\n",
    "neg_alt_pos_hidden.rename(columns={neg_alt_pos_hidden.columns[-1]: 'negative_term'}, inplace=True)"
   ]
  },
  {
   "cell_type": "code",
   "execution_count": 14,
   "id": "d790e15f",
   "metadata": {},
   "outputs": [],
   "source": [
    "neg_pref_pos_altLabel.dropna(inplace=True)\n",
    "neg_pref_pos_hiddenLabel.dropna(inplace=True)\n",
    "neg_pref_pos_description.dropna(inplace=True)\n",
    "neg_alt_pos_hidden.dropna(inplace=True)"
   ]
  },
  {
   "cell_type": "code",
   "execution_count": 15,
   "id": "208178af",
   "metadata": {},
   "outputs": [],
   "source": [
    "neg_pref_pos_altLabel.drop_duplicates(inplace=True)\n",
    "neg_pref_pos_hiddenLabel.drop_duplicates(inplace=True)\n",
    "neg_pref_pos_description.drop_duplicates(inplace=True)\n",
    "neg_alt_pos_hidden.drop_duplicates(inplace=True)"
   ]
  },
  {
   "cell_type": "code",
   "execution_count": 16,
   "id": "69baa2dc",
   "metadata": {},
   "outputs": [
    {
     "data": {
      "text/plain": [
       "((513329, 4), (56145, 4), (1392164, 4), (19488, 4))"
      ]
     },
     "execution_count": 16,
     "metadata": {},
     "output_type": "execute_result"
    }
   ],
   "source": [
    "neg_pref_pos_altLabel.shape,neg_pref_pos_hiddenLabel.shape,neg_pref_pos_description.shape,neg_alt_pos_hidden.shape,"
   ]
  },
  {
   "cell_type": "code",
   "execution_count": 17,
   "id": "fd0399b3",
   "metadata": {},
   "outputs": [],
   "source": [
    "def check_subset(term1, term2):\n",
    "    term1 = term1.lower()\n",
    "    term2 = term2.lower()\n",
    "    \n",
    "    clean_term1 = re.sub(r'\\W+', ' ',term1).split() # for german, only \\W+\n",
    "    clean_term2 = re.sub(r'\\W+', ' ', term2).split()\n",
    "    \n",
    "    term1s_sw_removed = [term1_term for term1_term in clean_term1 if term1_term not in stop_words]\n",
    "    desc_sw_removed = [desc_term for desc_term in clean_term2 if desc_term not in stop_words]\n",
    "    \n",
    "    if len(desc_sw_removed) > 0:\n",
    "        intersections = len(set(term1s_sw_removed).intersection(desc_sw_removed))/len(desc_sw_removed) # remove stopwords, and also set a threshold for intersection before removal\n",
    "    \n",
    "        return intersections\n",
    "    return 0"
   ]
  },
  {
   "cell_type": "code",
   "execution_count": 18,
   "id": "06c18f37",
   "metadata": {
    "collapsed": true
   },
   "outputs": [
    {
     "data": {
      "application/vnd.jupyter.widget-view+json": {
       "model_id": "0ea5b10be9d6431f84703743ce2cd02c",
       "version_major": 2,
       "version_minor": 0
      },
      "text/plain": [
       "VBox(children=(HBox(children=(IntProgress(value=0, description='0.00%', max=4011), Label(value='0 / 4011'))), …"
      ]
     },
     "metadata": {},
     "output_type": "display_data"
    },
    {
     "data": {
      "application/vnd.jupyter.widget-view+json": {
       "model_id": "65ba72d704df436f92b39c92febf4b96",
       "version_major": 2,
       "version_minor": 0
      },
      "text/plain": [
       "VBox(children=(HBox(children=(IntProgress(value=0, description='0.00%', max=439), Label(value='0 / 439'))), HB…"
      ]
     },
     "metadata": {},
     "output_type": "display_data"
    },
    {
     "data": {
      "application/vnd.jupyter.widget-view+json": {
       "model_id": "6f846a5bb14d4f48bdd354b9fc8ca8f6",
       "version_major": 2,
       "version_minor": 0
      },
      "text/plain": [
       "VBox(children=(HBox(children=(IntProgress(value=0, description='0.00%', max=10877), Label(value='0 / 10877')))…"
      ]
     },
     "metadata": {},
     "output_type": "display_data"
    },
    {
     "name": "stderr",
     "output_type": "stream",
     "text": [
      "IOPub message rate exceeded.\n",
      "The notebook server will temporarily stop sending output\n",
      "to the client in order to avoid crashing it.\n",
      "To change this limit, set the config variable\n",
      "`--NotebookApp.iopub_msg_rate_limit`.\n",
      "\n",
      "Current values:\n",
      "NotebookApp.iopub_msg_rate_limit=1000.0 (msgs/sec)\n",
      "NotebookApp.rate_limit_window=3.0 (secs)\n",
      "\n",
      "IOPub message rate exceeded.\n",
      "The notebook server will temporarily stop sending output\n",
      "to the client in order to avoid crashing it.\n",
      "To change this limit, set the config variable\n",
      "`--NotebookApp.iopub_msg_rate_limit`.\n",
      "\n",
      "Current values:\n",
      "NotebookApp.iopub_msg_rate_limit=1000.0 (msgs/sec)\n",
      "NotebookApp.rate_limit_window=3.0 (secs)\n",
      "\n"
     ]
    },
    {
     "data": {
      "application/vnd.jupyter.widget-view+json": {
       "model_id": "0c740c0e96154dd08e9531b7fb2b1d5a",
       "version_major": 2,
       "version_minor": 0
      },
      "text/plain": [
       "VBox(children=(HBox(children=(IntProgress(value=0, description='0.00%', max=153), Label(value='0 / 153'))), HB…"
      ]
     },
     "metadata": {},
     "output_type": "display_data"
    }
   ],
   "source": [
    "neg_pref_pos_altLabel['anchor_negative'] = neg_pref_pos_altLabel.parallel_apply(lambda x: check_subset(x.anchor, x.negative_term) , axis=1)\n",
    "neg_pref_pos_hiddenLabel['anchor_negative'] = neg_pref_pos_hiddenLabel.parallel_apply(lambda x: check_subset(x.anchor, x.negative_term) , axis=1)\n",
    "neg_pref_pos_description['anchor_negative'] = neg_pref_pos_description.parallel_apply(lambda x: check_subset(x.anchor, x.negative_term) , axis=1)\n",
    "neg_alt_pos_hidden['anchor_negative'] = neg_alt_pos_hidden.parallel_apply(lambda x: check_subset(x.anchor, x.negative_term) , axis=1)"
   ]
  },
  {
   "cell_type": "code",
   "execution_count": 19,
   "id": "5507a169",
   "metadata": {},
   "outputs": [],
   "source": [
    "neg_pref_pos_altLabel_intersected = neg_pref_pos_altLabel[neg_pref_pos_altLabel['anchor_negative'] > 0]\n",
    "neg_pref_pos_hiddenLabel_intersected = neg_pref_pos_hiddenLabel[neg_pref_pos_hiddenLabel['anchor_negative'] > 0]\n",
    "neg_pref_pos_description_intersected = neg_pref_pos_description[neg_pref_pos_description['anchor_negative'] > 0]\n",
    "neg_alt_pos_hidden_intersected = neg_alt_pos_hidden[neg_alt_pos_hidden['anchor_negative'] > 0]"
   ]
  },
  {
   "cell_type": "code",
   "execution_count": 21,
   "id": "bfa22e7f",
   "metadata": {
    "collapsed": true
   },
   "outputs": [
    {
     "ename": "KeyError",
     "evalue": "\"['?a'] not found in axis\"",
     "output_type": "error",
     "traceback": [
      "\u001b[0;31m---------------------------------------------------------------------------\u001b[0m",
      "\u001b[0;31mKeyError\u001b[0m                                  Traceback (most recent call last)",
      "Cell \u001b[0;32mIn[21], line 1\u001b[0m\n\u001b[0;32m----> 1\u001b[0m \u001b[43mneg_pref_pos_altLabel_intersected\u001b[49m\u001b[38;5;241;43m.\u001b[39;49m\u001b[43mdrop\u001b[49m\u001b[43m(\u001b[49m\u001b[43mcolumns\u001b[49m\u001b[38;5;241;43m=\u001b[39;49m\u001b[43m[\u001b[49m\u001b[38;5;124;43m'\u001b[39;49m\u001b[38;5;124;43m?a\u001b[39;49m\u001b[38;5;124;43m'\u001b[39;49m\u001b[43m]\u001b[49m\u001b[43m,\u001b[49m\u001b[43m \u001b[49m\u001b[43minplace\u001b[49m\u001b[38;5;241;43m=\u001b[39;49m\u001b[38;5;28;43;01mTrue\u001b[39;49;00m\u001b[43m)\u001b[49m\n\u001b[1;32m      2\u001b[0m neg_pref_pos_hiddenLabel_intersected\u001b[38;5;241m.\u001b[39mdrop(columns\u001b[38;5;241m=\u001b[39m[\u001b[38;5;124m'\u001b[39m\u001b[38;5;124m?a\u001b[39m\u001b[38;5;124m'\u001b[39m], inplace\u001b[38;5;241m=\u001b[39m\u001b[38;5;28;01mTrue\u001b[39;00m)\n\u001b[1;32m      3\u001b[0m neg_pref_pos_description_intersected\u001b[38;5;241m.\u001b[39mdrop(columns\u001b[38;5;241m=\u001b[39m[\u001b[38;5;124m'\u001b[39m\u001b[38;5;124m?a\u001b[39m\u001b[38;5;124m'\u001b[39m], inplace\u001b[38;5;241m=\u001b[39m\u001b[38;5;28;01mTrue\u001b[39;00m)\n",
      "File \u001b[0;32m~/.pyenv/versions/3.8.2/envs/thesis/lib/python3.8/site-packages/pandas/util/_decorators.py:331\u001b[0m, in \u001b[0;36mdeprecate_nonkeyword_arguments.<locals>.decorate.<locals>.wrapper\u001b[0;34m(*args, **kwargs)\u001b[0m\n\u001b[1;32m    325\u001b[0m \u001b[38;5;28;01mif\u001b[39;00m \u001b[38;5;28mlen\u001b[39m(args) \u001b[38;5;241m>\u001b[39m num_allow_args:\n\u001b[1;32m    326\u001b[0m     warnings\u001b[38;5;241m.\u001b[39mwarn(\n\u001b[1;32m    327\u001b[0m         msg\u001b[38;5;241m.\u001b[39mformat(arguments\u001b[38;5;241m=\u001b[39m_format_argument_list(allow_args)),\n\u001b[1;32m    328\u001b[0m         \u001b[38;5;167;01mFutureWarning\u001b[39;00m,\n\u001b[1;32m    329\u001b[0m         stacklevel\u001b[38;5;241m=\u001b[39mfind_stack_level(),\n\u001b[1;32m    330\u001b[0m     )\n\u001b[0;32m--> 331\u001b[0m \u001b[38;5;28;01mreturn\u001b[39;00m \u001b[43mfunc\u001b[49m\u001b[43m(\u001b[49m\u001b[38;5;241;43m*\u001b[39;49m\u001b[43margs\u001b[49m\u001b[43m,\u001b[49m\u001b[43m \u001b[49m\u001b[38;5;241;43m*\u001b[39;49m\u001b[38;5;241;43m*\u001b[39;49m\u001b[43mkwargs\u001b[49m\u001b[43m)\u001b[49m\n",
      "File \u001b[0;32m~/.pyenv/versions/3.8.2/envs/thesis/lib/python3.8/site-packages/pandas/core/frame.py:5396\u001b[0m, in \u001b[0;36mDataFrame.drop\u001b[0;34m(self, labels, axis, index, columns, level, inplace, errors)\u001b[0m\n\u001b[1;32m   5248\u001b[0m \u001b[38;5;129m@deprecate_nonkeyword_arguments\u001b[39m(version\u001b[38;5;241m=\u001b[39m\u001b[38;5;28;01mNone\u001b[39;00m, allowed_args\u001b[38;5;241m=\u001b[39m[\u001b[38;5;124m\"\u001b[39m\u001b[38;5;124mself\u001b[39m\u001b[38;5;124m\"\u001b[39m, \u001b[38;5;124m\"\u001b[39m\u001b[38;5;124mlabels\u001b[39m\u001b[38;5;124m\"\u001b[39m])\n\u001b[1;32m   5249\u001b[0m \u001b[38;5;28;01mdef\u001b[39;00m \u001b[38;5;21mdrop\u001b[39m(  \u001b[38;5;66;03m# type: ignore[override]\u001b[39;00m\n\u001b[1;32m   5250\u001b[0m     \u001b[38;5;28mself\u001b[39m,\n\u001b[0;32m   (...)\u001b[0m\n\u001b[1;32m   5257\u001b[0m     errors: IgnoreRaise \u001b[38;5;241m=\u001b[39m \u001b[38;5;124m\"\u001b[39m\u001b[38;5;124mraise\u001b[39m\u001b[38;5;124m\"\u001b[39m,\n\u001b[1;32m   5258\u001b[0m ) \u001b[38;5;241m-\u001b[39m\u001b[38;5;241m>\u001b[39m DataFrame \u001b[38;5;241m|\u001b[39m \u001b[38;5;28;01mNone\u001b[39;00m:\n\u001b[1;32m   5259\u001b[0m \u001b[38;5;250m    \u001b[39m\u001b[38;5;124;03m\"\"\"\u001b[39;00m\n\u001b[1;32m   5260\u001b[0m \u001b[38;5;124;03m    Drop specified labels from rows or columns.\u001b[39;00m\n\u001b[1;32m   5261\u001b[0m \n\u001b[0;32m   (...)\u001b[0m\n\u001b[1;32m   5394\u001b[0m \u001b[38;5;124;03m            weight  1.0     0.8\u001b[39;00m\n\u001b[1;32m   5395\u001b[0m \u001b[38;5;124;03m    \"\"\"\u001b[39;00m\n\u001b[0;32m-> 5396\u001b[0m     \u001b[38;5;28;01mreturn\u001b[39;00m \u001b[38;5;28;43msuper\u001b[39;49m\u001b[43m(\u001b[49m\u001b[43m)\u001b[49m\u001b[38;5;241;43m.\u001b[39;49m\u001b[43mdrop\u001b[49m\u001b[43m(\u001b[49m\n\u001b[1;32m   5397\u001b[0m \u001b[43m        \u001b[49m\u001b[43mlabels\u001b[49m\u001b[38;5;241;43m=\u001b[39;49m\u001b[43mlabels\u001b[49m\u001b[43m,\u001b[49m\n\u001b[1;32m   5398\u001b[0m \u001b[43m        \u001b[49m\u001b[43maxis\u001b[49m\u001b[38;5;241;43m=\u001b[39;49m\u001b[43maxis\u001b[49m\u001b[43m,\u001b[49m\n\u001b[1;32m   5399\u001b[0m \u001b[43m        \u001b[49m\u001b[43mindex\u001b[49m\u001b[38;5;241;43m=\u001b[39;49m\u001b[43mindex\u001b[49m\u001b[43m,\u001b[49m\n\u001b[1;32m   5400\u001b[0m \u001b[43m        \u001b[49m\u001b[43mcolumns\u001b[49m\u001b[38;5;241;43m=\u001b[39;49m\u001b[43mcolumns\u001b[49m\u001b[43m,\u001b[49m\n\u001b[1;32m   5401\u001b[0m \u001b[43m        \u001b[49m\u001b[43mlevel\u001b[49m\u001b[38;5;241;43m=\u001b[39;49m\u001b[43mlevel\u001b[49m\u001b[43m,\u001b[49m\n\u001b[1;32m   5402\u001b[0m \u001b[43m        \u001b[49m\u001b[43minplace\u001b[49m\u001b[38;5;241;43m=\u001b[39;49m\u001b[43minplace\u001b[49m\u001b[43m,\u001b[49m\n\u001b[1;32m   5403\u001b[0m \u001b[43m        \u001b[49m\u001b[43merrors\u001b[49m\u001b[38;5;241;43m=\u001b[39;49m\u001b[43merrors\u001b[49m\u001b[43m,\u001b[49m\n\u001b[1;32m   5404\u001b[0m \u001b[43m    \u001b[49m\u001b[43m)\u001b[49m\n",
      "File \u001b[0;32m~/.pyenv/versions/3.8.2/envs/thesis/lib/python3.8/site-packages/pandas/util/_decorators.py:331\u001b[0m, in \u001b[0;36mdeprecate_nonkeyword_arguments.<locals>.decorate.<locals>.wrapper\u001b[0;34m(*args, **kwargs)\u001b[0m\n\u001b[1;32m    325\u001b[0m \u001b[38;5;28;01mif\u001b[39;00m \u001b[38;5;28mlen\u001b[39m(args) \u001b[38;5;241m>\u001b[39m num_allow_args:\n\u001b[1;32m    326\u001b[0m     warnings\u001b[38;5;241m.\u001b[39mwarn(\n\u001b[1;32m    327\u001b[0m         msg\u001b[38;5;241m.\u001b[39mformat(arguments\u001b[38;5;241m=\u001b[39m_format_argument_list(allow_args)),\n\u001b[1;32m    328\u001b[0m         \u001b[38;5;167;01mFutureWarning\u001b[39;00m,\n\u001b[1;32m    329\u001b[0m         stacklevel\u001b[38;5;241m=\u001b[39mfind_stack_level(),\n\u001b[1;32m    330\u001b[0m     )\n\u001b[0;32m--> 331\u001b[0m \u001b[38;5;28;01mreturn\u001b[39;00m \u001b[43mfunc\u001b[49m\u001b[43m(\u001b[49m\u001b[38;5;241;43m*\u001b[39;49m\u001b[43margs\u001b[49m\u001b[43m,\u001b[49m\u001b[43m \u001b[49m\u001b[38;5;241;43m*\u001b[39;49m\u001b[38;5;241;43m*\u001b[39;49m\u001b[43mkwargs\u001b[49m\u001b[43m)\u001b[49m\n",
      "File \u001b[0;32m~/.pyenv/versions/3.8.2/envs/thesis/lib/python3.8/site-packages/pandas/core/generic.py:4505\u001b[0m, in \u001b[0;36mNDFrame.drop\u001b[0;34m(self, labels, axis, index, columns, level, inplace, errors)\u001b[0m\n\u001b[1;32m   4503\u001b[0m \u001b[38;5;28;01mfor\u001b[39;00m axis, labels \u001b[38;5;129;01min\u001b[39;00m axes\u001b[38;5;241m.\u001b[39mitems():\n\u001b[1;32m   4504\u001b[0m     \u001b[38;5;28;01mif\u001b[39;00m labels \u001b[38;5;129;01mis\u001b[39;00m \u001b[38;5;129;01mnot\u001b[39;00m \u001b[38;5;28;01mNone\u001b[39;00m:\n\u001b[0;32m-> 4505\u001b[0m         obj \u001b[38;5;241m=\u001b[39m \u001b[43mobj\u001b[49m\u001b[38;5;241;43m.\u001b[39;49m\u001b[43m_drop_axis\u001b[49m\u001b[43m(\u001b[49m\u001b[43mlabels\u001b[49m\u001b[43m,\u001b[49m\u001b[43m \u001b[49m\u001b[43maxis\u001b[49m\u001b[43m,\u001b[49m\u001b[43m \u001b[49m\u001b[43mlevel\u001b[49m\u001b[38;5;241;43m=\u001b[39;49m\u001b[43mlevel\u001b[49m\u001b[43m,\u001b[49m\u001b[43m \u001b[49m\u001b[43merrors\u001b[49m\u001b[38;5;241;43m=\u001b[39;49m\u001b[43merrors\u001b[49m\u001b[43m)\u001b[49m\n\u001b[1;32m   4507\u001b[0m \u001b[38;5;28;01mif\u001b[39;00m inplace:\n\u001b[1;32m   4508\u001b[0m     \u001b[38;5;28mself\u001b[39m\u001b[38;5;241m.\u001b[39m_update_inplace(obj)\n",
      "File \u001b[0;32m~/.pyenv/versions/3.8.2/envs/thesis/lib/python3.8/site-packages/pandas/core/generic.py:4546\u001b[0m, in \u001b[0;36mNDFrame._drop_axis\u001b[0;34m(self, labels, axis, level, errors, only_slice)\u001b[0m\n\u001b[1;32m   4544\u001b[0m         new_axis \u001b[38;5;241m=\u001b[39m axis\u001b[38;5;241m.\u001b[39mdrop(labels, level\u001b[38;5;241m=\u001b[39mlevel, errors\u001b[38;5;241m=\u001b[39merrors)\n\u001b[1;32m   4545\u001b[0m     \u001b[38;5;28;01melse\u001b[39;00m:\n\u001b[0;32m-> 4546\u001b[0m         new_axis \u001b[38;5;241m=\u001b[39m \u001b[43maxis\u001b[49m\u001b[38;5;241;43m.\u001b[39;49m\u001b[43mdrop\u001b[49m\u001b[43m(\u001b[49m\u001b[43mlabels\u001b[49m\u001b[43m,\u001b[49m\u001b[43m \u001b[49m\u001b[43merrors\u001b[49m\u001b[38;5;241;43m=\u001b[39;49m\u001b[43merrors\u001b[49m\u001b[43m)\u001b[49m\n\u001b[1;32m   4547\u001b[0m     indexer \u001b[38;5;241m=\u001b[39m axis\u001b[38;5;241m.\u001b[39mget_indexer(new_axis)\n\u001b[1;32m   4549\u001b[0m \u001b[38;5;66;03m# Case for non-unique axis\u001b[39;00m\n\u001b[1;32m   4550\u001b[0m \u001b[38;5;28;01melse\u001b[39;00m:\n",
      "File \u001b[0;32m~/.pyenv/versions/3.8.2/envs/thesis/lib/python3.8/site-packages/pandas/core/indexes/base.py:6977\u001b[0m, in \u001b[0;36mIndex.drop\u001b[0;34m(self, labels, errors)\u001b[0m\n\u001b[1;32m   6975\u001b[0m \u001b[38;5;28;01mif\u001b[39;00m mask\u001b[38;5;241m.\u001b[39many():\n\u001b[1;32m   6976\u001b[0m     \u001b[38;5;28;01mif\u001b[39;00m errors \u001b[38;5;241m!=\u001b[39m \u001b[38;5;124m\"\u001b[39m\u001b[38;5;124mignore\u001b[39m\u001b[38;5;124m\"\u001b[39m:\n\u001b[0;32m-> 6977\u001b[0m         \u001b[38;5;28;01mraise\u001b[39;00m \u001b[38;5;167;01mKeyError\u001b[39;00m(\u001b[38;5;124mf\u001b[39m\u001b[38;5;124m\"\u001b[39m\u001b[38;5;132;01m{\u001b[39;00m\u001b[38;5;28mlist\u001b[39m(labels[mask])\u001b[38;5;132;01m}\u001b[39;00m\u001b[38;5;124m not found in axis\u001b[39m\u001b[38;5;124m\"\u001b[39m)\n\u001b[1;32m   6978\u001b[0m     indexer \u001b[38;5;241m=\u001b[39m indexer[\u001b[38;5;241m~\u001b[39mmask]\n\u001b[1;32m   6979\u001b[0m \u001b[38;5;28;01mreturn\u001b[39;00m \u001b[38;5;28mself\u001b[39m\u001b[38;5;241m.\u001b[39mdelete(indexer)\n",
      "\u001b[0;31mKeyError\u001b[0m: \"['?a'] not found in axis\""
     ]
    }
   ],
   "source": [
    "neg_pref_pos_altLabel_intersected.drop(columns=['?a'], inplace=True)\n",
    "neg_pref_pos_hiddenLabel_intersected.drop(columns=['?a'], inplace=True)\n",
    "neg_pref_pos_description_intersected.drop(columns=['?a'], inplace=True)\n",
    "neg_alt_pos_hidden_intersected.drop(columns=['?a'], inplace=True)"
   ]
  },
  {
   "cell_type": "code",
   "execution_count": 24,
   "id": "6212a568",
   "metadata": {
    "collapsed": true
   },
   "outputs": [
    {
     "name": "stderr",
     "output_type": "stream",
     "text": [
      "/scratch/tmp.7590252.yakram/ipykernel_50797/2426843030.py:1: SettingWithCopyWarning: \n",
      "A value is trying to be set on a copy of a slice from a DataFrame\n",
      "\n",
      "See the caveats in the documentation: https://pandas.pydata.org/pandas-docs/stable/user_guide/indexing.html#returning-a-view-versus-a-copy\n",
      "  neg_pref_pos_altLabel_intersected.rename(columns={'positive_uri': '?a'}, inplace=True)\n",
      "/scratch/tmp.7590252.yakram/ipykernel_50797/2426843030.py:2: SettingWithCopyWarning: \n",
      "A value is trying to be set on a copy of a slice from a DataFrame\n",
      "\n",
      "See the caveats in the documentation: https://pandas.pydata.org/pandas-docs/stable/user_guide/indexing.html#returning-a-view-versus-a-copy\n",
      "  neg_pref_pos_hiddenLabel_intersected.rename(columns={'positive_uri': '?a'}, inplace=True)\n",
      "/scratch/tmp.7590252.yakram/ipykernel_50797/2426843030.py:3: SettingWithCopyWarning: \n",
      "A value is trying to be set on a copy of a slice from a DataFrame\n",
      "\n",
      "See the caveats in the documentation: https://pandas.pydata.org/pandas-docs/stable/user_guide/indexing.html#returning-a-view-versus-a-copy\n",
      "  neg_pref_pos_description_intersected.rename(columns={'positive_uri': '?a'}, inplace=True)\n",
      "/scratch/tmp.7590252.yakram/ipykernel_50797/2426843030.py:4: SettingWithCopyWarning: \n",
      "A value is trying to be set on a copy of a slice from a DataFrame\n",
      "\n",
      "See the caveats in the documentation: https://pandas.pydata.org/pandas-docs/stable/user_guide/indexing.html#returning-a-view-versus-a-copy\n",
      "  neg_alt_pos_hidden_intersected.rename(columns={'positive_uri': '?a'}, inplace=True)\n"
     ]
    }
   ],
   "source": [
    "neg_pref_pos_altLabel_intersected.rename(columns={'positive_uri': '?a'}, inplace=True)\n",
    "neg_pref_pos_hiddenLabel_intersected.rename(columns={'positive_uri': '?a'}, inplace=True)\n",
    "neg_pref_pos_description_intersected.rename(columns={'positive_uri': '?a'}, inplace=True)\n",
    "neg_alt_pos_hidden_intersected.rename(columns={'positive_uri': '?a'}, inplace=True)"
   ]
  },
  {
   "cell_type": "code",
   "execution_count": 25,
   "id": "af36804d",
   "metadata": {},
   "outputs": [
    {
     "data": {
      "text/html": [
       "<div>\n",
       "<style scoped>\n",
       "    .dataframe tbody tr th:only-of-type {\n",
       "        vertical-align: middle;\n",
       "    }\n",
       "\n",
       "    .dataframe tbody tr th {\n",
       "        vertical-align: top;\n",
       "    }\n",
       "\n",
       "    .dataframe thead th {\n",
       "        text-align: right;\n",
       "    }\n",
       "</style>\n",
       "<table border=\"1\" class=\"dataframe\">\n",
       "  <thead>\n",
       "    <tr style=\"text-align: right;\">\n",
       "      <th></th>\n",
       "      <th>?a</th>\n",
       "      <th>anchor</th>\n",
       "      <th>negative_term</th>\n",
       "      <th>anchor_negative</th>\n",
       "    </tr>\n",
       "  </thead>\n",
       "  <tbody>\n",
       "    <tr>\n",
       "      <th>386</th>\n",
       "      <td>http://data.europa.eu/esco/skill/7e11b04d-c6b5...</td>\n",
       "      <td>Patienten/Patientinnen zur Verbesserung des Sp...</td>\n",
       "      <td>Patienten/Patientin an Ophthalmologen/Ophthalm...</td>\n",
       "      <td>0.200000</td>\n",
       "    </tr>\n",
       "    <tr>\n",
       "      <th>1303</th>\n",
       "      <td>http://data.europa.eu/esco/skill/3838a64c-78dc...</td>\n",
       "      <td>Systeme zur internen Kommunikation warten</td>\n",
       "      <td>landwirtschaftliches Gerät warten</td>\n",
       "      <td>0.333333</td>\n",
       "    </tr>\n",
       "    <tr>\n",
       "      <th>2056</th>\n",
       "      <td>http://data.europa.eu/esco/skill/83f713fb-2650...</td>\n",
       "      <td>Signalgeräte für Züge bedienen</td>\n",
       "      <td>Nagelungsmaschinen bedienen</td>\n",
       "      <td>0.500000</td>\n",
       "    </tr>\n",
       "    <tr>\n",
       "      <th>3698</th>\n",
       "      <td>http://data.europa.eu/esco/skill/c349b18e-5038...</td>\n",
       "      <td>Foliendruckmaschine bedienen</td>\n",
       "      <td>Wiegeanlage bedienen</td>\n",
       "      <td>0.500000</td>\n",
       "    </tr>\n",
       "    <tr>\n",
       "      <th>3742</th>\n",
       "      <td>http://data.europa.eu/esco/skill/c349b18e-5038...</td>\n",
       "      <td>Foliendruckmaschine bedienen</td>\n",
       "      <td>Kuvertmaschine bedienen</td>\n",
       "      <td>0.500000</td>\n",
       "    </tr>\n",
       "  </tbody>\n",
       "</table>\n",
       "</div>"
      ],
      "text/plain": [
       "                                                     ?a  \\\n",
       "386   http://data.europa.eu/esco/skill/7e11b04d-c6b5...   \n",
       "1303  http://data.europa.eu/esco/skill/3838a64c-78dc...   \n",
       "2056  http://data.europa.eu/esco/skill/83f713fb-2650...   \n",
       "3698  http://data.europa.eu/esco/skill/c349b18e-5038...   \n",
       "3742  http://data.europa.eu/esco/skill/c349b18e-5038...   \n",
       "\n",
       "                                                 anchor  \\\n",
       "386   Patienten/Patientinnen zur Verbesserung des Sp...   \n",
       "1303          Systeme zur internen Kommunikation warten   \n",
       "2056                     Signalgeräte für Züge bedienen   \n",
       "3698                       Foliendruckmaschine bedienen   \n",
       "3742                       Foliendruckmaschine bedienen   \n",
       "\n",
       "                                          negative_term  anchor_negative  \n",
       "386   Patienten/Patientin an Ophthalmologen/Ophthalm...         0.200000  \n",
       "1303                  landwirtschaftliches Gerät warten         0.333333  \n",
       "2056                        Nagelungsmaschinen bedienen         0.500000  \n",
       "3698                               Wiegeanlage bedienen         0.500000  \n",
       "3742                            Kuvertmaschine bedienen         0.500000  "
      ]
     },
     "execution_count": 25,
     "metadata": {},
     "output_type": "execute_result"
    }
   ],
   "source": [
    "neg_pref_pos_altLabel_intersected.head()"
   ]
  },
  {
   "cell_type": "code",
   "execution_count": 26,
   "id": "a62dc90c",
   "metadata": {},
   "outputs": [
    {
     "data": {
      "text/html": [
       "<div>\n",
       "<style scoped>\n",
       "    .dataframe tbody tr th:only-of-type {\n",
       "        vertical-align: middle;\n",
       "    }\n",
       "\n",
       "    .dataframe tbody tr th {\n",
       "        vertical-align: top;\n",
       "    }\n",
       "\n",
       "    .dataframe thead th {\n",
       "        text-align: right;\n",
       "    }\n",
       "</style>\n",
       "<table border=\"1\" class=\"dataframe\">\n",
       "  <thead>\n",
       "    <tr style=\"text-align: right;\">\n",
       "      <th></th>\n",
       "      <th>?a</th>\n",
       "      <th>anchor</th>\n",
       "      <th>negative_term</th>\n",
       "      <th>anchor_negative</th>\n",
       "    </tr>\n",
       "  </thead>\n",
       "  <tbody>\n",
       "    <tr>\n",
       "      <th>59511</th>\n",
       "      <td>http://data.europa.eu/esco/skill/1bc718b6-ed90...</td>\n",
       "      <td>Creative-Suite-Software benutzen</td>\n",
       "      <td>Empire Suite Software</td>\n",
       "      <td>0.666667</td>\n",
       "    </tr>\n",
       "    <tr>\n",
       "      <th>144075</th>\n",
       "      <td>http://data.europa.eu/esco/skill/ae57a9c3-f761...</td>\n",
       "      <td>Software für die Verkaufsprognose nutzen</td>\n",
       "      <td>Empire Suite Software</td>\n",
       "      <td>0.333333</td>\n",
       "    </tr>\n",
       "    <tr>\n",
       "      <th>144342</th>\n",
       "      <td>http://data.europa.eu/esco/skill/25fce4fb-35b6...</td>\n",
       "      <td>Ware untersuchen</td>\n",
       "      <td>implement SPAM-ware</td>\n",
       "      <td>0.333333</td>\n",
       "    </tr>\n",
       "    <tr>\n",
       "      <th>707369</th>\n",
       "      <td>http://data.europa.eu/esco/skill/56a10e3e-c9e7...</td>\n",
       "      <td>Software für Content-Management-Systeme nutzen</td>\n",
       "      <td>Empire Suite Software</td>\n",
       "      <td>0.333333</td>\n",
       "    </tr>\n",
       "    <tr>\n",
       "      <th>1416961</th>\n",
       "      <td>http://data.europa.eu/esco/skill/5303169c-75d6...</td>\n",
       "      <td>Social Media Management</td>\n",
       "      <td>Nuxeo Document Management</td>\n",
       "      <td>0.333333</td>\n",
       "    </tr>\n",
       "  </tbody>\n",
       "</table>\n",
       "</div>"
      ],
      "text/plain": [
       "                                                        ?a  \\\n",
       "59511    http://data.europa.eu/esco/skill/1bc718b6-ed90...   \n",
       "144075   http://data.europa.eu/esco/skill/ae57a9c3-f761...   \n",
       "144342   http://data.europa.eu/esco/skill/25fce4fb-35b6...   \n",
       "707369   http://data.europa.eu/esco/skill/56a10e3e-c9e7...   \n",
       "1416961  http://data.europa.eu/esco/skill/5303169c-75d6...   \n",
       "\n",
       "                                                 anchor  \\\n",
       "59511                  Creative-Suite-Software benutzen   \n",
       "144075         Software für die Verkaufsprognose nutzen   \n",
       "144342                                 Ware untersuchen   \n",
       "707369   Software für Content-Management-Systeme nutzen   \n",
       "1416961                         Social Media Management   \n",
       "\n",
       "                     negative_term  anchor_negative  \n",
       "59511        Empire Suite Software         0.666667  \n",
       "144075       Empire Suite Software         0.333333  \n",
       "144342         implement SPAM-ware         0.333333  \n",
       "707369       Empire Suite Software         0.333333  \n",
       "1416961  Nuxeo Document Management         0.333333  "
      ]
     },
     "execution_count": 26,
     "metadata": {},
     "output_type": "execute_result"
    }
   ],
   "source": [
    "neg_pref_pos_hiddenLabel_intersected.head()"
   ]
  },
  {
   "cell_type": "code",
   "execution_count": 27,
   "id": "2d084035",
   "metadata": {},
   "outputs": [],
   "source": [
    "neg_pref_pos_altLabel_intersected_positive_term =neg_pref_pos_altLabel_intersected.merge(memconcept_skills_altLabel, on=['?a'], how='left')\n",
    "neg_pref_pos_hiddenLabel_intersected_positive_term =neg_pref_pos_hiddenLabel_intersected.merge(memconcept_skills_hiddenLabel, on=['?a'], how='left')\n",
    "neg_pref_pos_description_intersected_positive_term =neg_pref_pos_description_intersected.merge(memconcept_skills_description, on=['?a'], how='left')\n",
    "neg_alt_pos_hidden_intersected_positive_term =neg_alt_pos_hidden_intersected.merge(memconcept_skills_hiddenLabel, on=['?a'], how='left')"
   ]
  },
  {
   "cell_type": "code",
   "execution_count": 28,
   "id": "0f7477f3",
   "metadata": {},
   "outputs": [],
   "source": [
    "neg_pref_pos_altLabel_intersected_positive_term.dropna(inplace=True)\n",
    "neg_pref_pos_hiddenLabel_intersected_positive_term.dropna(inplace=True)\n",
    "neg_pref_pos_description_intersected_positive_term.dropna(inplace=True)\n",
    "neg_alt_pos_hidden_intersected_positive_term.dropna(inplace=True)"
   ]
  },
  {
   "cell_type": "code",
   "execution_count": 29,
   "id": "080b3be5",
   "metadata": {},
   "outputs": [],
   "source": [
    "neg_pref_pos_altLabel_intersected_positive_term.rename(columns={neg_pref_pos_altLabel_intersected_positive_term.columns[-1]: 'positive_term'}, inplace=True)\n",
    "neg_pref_pos_hiddenLabel_intersected_positive_term.rename(columns={neg_pref_pos_hiddenLabel_intersected_positive_term.columns[-1]: 'positive_term'}, inplace=True)\n",
    "neg_pref_pos_description_intersected_positive_term.rename(columns={neg_pref_pos_description_intersected_positive_term.columns[-1]: 'positive_term'}, inplace=True)\n",
    "neg_alt_pos_hidden_intersected_positive_term.rename(columns={neg_alt_pos_hidden_intersected_positive_term.columns[-1]: 'positive_term'}, inplace=True)"
   ]
  },
  {
   "cell_type": "code",
   "execution_count": 33,
   "id": "c9fef989",
   "metadata": {
    "collapsed": true
   },
   "outputs": [
    {
     "name": "stderr",
     "output_type": "stream",
     "text": [
      "/scratch/tmp.7590252.yakram/ipykernel_50797/182013951.py:7: FutureWarning: Indexing with multiple keys (implicitly converted to a tuple of keys) will be deprecated, use a list instead.\n",
      "  triplet_pref_altLabel = neg_pref_pos_altLabel_intersected_positive_term.groupby(by=['?a', 'anchor', 'positive_term'])['?a', 'anchor', 'positive_term', 'negative_term'].sample(1).reset_index()\n",
      "/scratch/tmp.7590252.yakram/ipykernel_50797/182013951.py:8: FutureWarning: Indexing with multiple keys (implicitly converted to a tuple of keys) will be deprecated, use a list instead.\n",
      "  triplet_pref_description = neg_pref_pos_description_intersected_positive_term.groupby(by=['?a', 'anchor', 'positive_term'])['?a', 'anchor', 'positive_term', 'negative_term'].sample(1).reset_index()\n"
     ]
    }
   ],
   "source": [
    "if LANGUAGE == 'en':\n",
    "    triplet_pref_altLabel = neg_pref_pos_altLabel_intersected_positive_term.groupby(by=['?a', 'anchor', 'positive_term'])['?a', 'anchor', 'positive_term', 'negative_term'].sample(1).reset_index()\n",
    "    triplet_pref_hiddenLabel = neg_pref_pos_hiddenLabel_intersected_positive_term.groupby(by=['?a', 'anchor', 'positive_term'])['?a', 'anchor', 'positive_term', 'negative_term'].sample(1).reset_index()\n",
    "    triplet_pref_description = neg_pref_pos_description_intersected_positive_term.groupby(by=['?a', 'anchor', 'positive_term'])['?a', 'anchor', 'positive_term', 'negative_term'].sample(1).reset_index()\n",
    "    triplet_alt_hidden = neg_alt_pos_hidden_intersected_positive_term.groupby(by=['?a', 'anchor', 'positive_term'])['?a', 'anchor', 'positive_term', 'negative_term'].sample(1).reset_index()\n",
    "elif LANGUAGE == 'de':\n",
    "    triplet_pref_altLabel = neg_pref_pos_altLabel_intersected_positive_term.groupby(by=['?a', 'anchor', 'positive_term'])['?a', 'anchor', 'positive_term', 'negative_term'].sample(1).reset_index()\n",
    "    triplet_pref_description = neg_pref_pos_description_intersected_positive_term.groupby(by=['?a', 'anchor', 'positive_term'])['?a', 'anchor', 'positive_term', 'negative_term'].sample(1).reset_index()\n",
    "    triplet_pref_hiddenLabel = pd.DataFrame(columns=triplet_pref_altLabel.columns)\n",
    "    triplet_alt_hidden = pd.DataFrame(columns=triplet_pref_altLabel.columns)"
   ]
  },
  {
   "cell_type": "code",
   "execution_count": 34,
   "id": "23eb9162",
   "metadata": {},
   "outputs": [],
   "source": [
    "triplet_pref_altLabel.drop(columns=['index'], inplace=True)\n",
    "triplet_pref_hiddenLabel.drop(columns=['index'], inplace=True)\n",
    "triplet_pref_description.drop(columns=['index'], inplace=True)\n",
    "triplet_alt_hidden.drop(columns=['index'], inplace=True)"
   ]
  },
  {
   "cell_type": "code",
   "execution_count": 35,
   "id": "7b99e5a0",
   "metadata": {},
   "outputs": [],
   "source": [
    "neg_pref_pos_altLabel_intersected_positive_term.drop(columns=['anchor_negative'], inplace=True)\n",
    "neg_pref_pos_hiddenLabel_intersected_positive_term.drop(columns=['anchor_negative'], inplace=True)\n",
    "neg_pref_pos_description_intersected_positive_term.drop(columns=['anchor_negative'], inplace=True)\n",
    "neg_alt_pos_hidden_intersected_positive_term.drop(columns=['anchor_negative'], inplace=True)"
   ]
  },
  {
   "cell_type": "code",
   "execution_count": 36,
   "id": "62b39282",
   "metadata": {},
   "outputs": [
    {
     "data": {
      "text/html": [
       "<div>\n",
       "<style scoped>\n",
       "    .dataframe tbody tr th:only-of-type {\n",
       "        vertical-align: middle;\n",
       "    }\n",
       "\n",
       "    .dataframe tbody tr th {\n",
       "        vertical-align: top;\n",
       "    }\n",
       "\n",
       "    .dataframe thead th {\n",
       "        text-align: right;\n",
       "    }\n",
       "</style>\n",
       "<table border=\"1\" class=\"dataframe\">\n",
       "  <thead>\n",
       "    <tr style=\"text-align: right;\">\n",
       "      <th></th>\n",
       "      <th>?a</th>\n",
       "      <th>anchor</th>\n",
       "      <th>negative_term</th>\n",
       "      <th>positive_term</th>\n",
       "    </tr>\n",
       "  </thead>\n",
       "  <tbody>\n",
       "    <tr>\n",
       "      <th>19</th>\n",
       "      <td>http://data.europa.eu/esco/skill/c747ab82-9c35...</td>\n",
       "      <td>den Vorbereitungsbereich reinigen</td>\n",
       "      <td>Maschinen von Abfallstoffen reinigen</td>\n",
       "      <td>den Küchenbereich reinigen</td>\n",
       "    </tr>\n",
       "    <tr>\n",
       "      <th>20</th>\n",
       "      <td>http://data.europa.eu/esco/skill/c747ab82-9c35...</td>\n",
       "      <td>den Vorbereitungsbereich reinigen</td>\n",
       "      <td>Maschinen von Abfallstoffen reinigen</td>\n",
       "      <td>die Küche reinigen</td>\n",
       "    </tr>\n",
       "    <tr>\n",
       "      <th>21</th>\n",
       "      <td>http://data.europa.eu/esco/skill/c747ab82-9c35...</td>\n",
       "      <td>den Vorbereitungsbereich reinigen</td>\n",
       "      <td>Maschinen von Abfallstoffen reinigen</td>\n",
       "      <td>den Zubereitungsbereich saubermachen</td>\n",
       "    </tr>\n",
       "    <tr>\n",
       "      <th>40</th>\n",
       "      <td>http://data.europa.eu/esco/skill/d89f5cee-649a...</td>\n",
       "      <td>die Leistung von Vertragspartnern überwachen</td>\n",
       "      <td>Tunnelbohrmaschinen-Betriebsmittel überwachen</td>\n",
       "      <td>Leistung der Vertragspartner überwachen</td>\n",
       "    </tr>\n",
       "    <tr>\n",
       "      <th>41</th>\n",
       "      <td>http://data.europa.eu/esco/skill/d89f5cee-649a...</td>\n",
       "      <td>die Leistung von Vertragspartnern überwachen</td>\n",
       "      <td>Tunnelbohrmaschinen-Betriebsmittel überwachen</td>\n",
       "      <td>die Leistung von Vertragspartnern beaufsichtigen</td>\n",
       "    </tr>\n",
       "  </tbody>\n",
       "</table>\n",
       "</div>"
      ],
      "text/plain": [
       "                                                   ?a  \\\n",
       "19  http://data.europa.eu/esco/skill/c747ab82-9c35...   \n",
       "20  http://data.europa.eu/esco/skill/c747ab82-9c35...   \n",
       "21  http://data.europa.eu/esco/skill/c747ab82-9c35...   \n",
       "40  http://data.europa.eu/esco/skill/d89f5cee-649a...   \n",
       "41  http://data.europa.eu/esco/skill/d89f5cee-649a...   \n",
       "\n",
       "                                          anchor  \\\n",
       "19             den Vorbereitungsbereich reinigen   \n",
       "20             den Vorbereitungsbereich reinigen   \n",
       "21             den Vorbereitungsbereich reinigen   \n",
       "40  die Leistung von Vertragspartnern überwachen   \n",
       "41  die Leistung von Vertragspartnern überwachen   \n",
       "\n",
       "                                    negative_term  \\\n",
       "19           Maschinen von Abfallstoffen reinigen   \n",
       "20           Maschinen von Abfallstoffen reinigen   \n",
       "21           Maschinen von Abfallstoffen reinigen   \n",
       "40  Tunnelbohrmaschinen-Betriebsmittel überwachen   \n",
       "41  Tunnelbohrmaschinen-Betriebsmittel überwachen   \n",
       "\n",
       "                                       positive_term  \n",
       "19                        den Küchenbereich reinigen  \n",
       "20                                die Küche reinigen  \n",
       "21              den Zubereitungsbereich saubermachen  \n",
       "40           Leistung der Vertragspartner überwachen  \n",
       "41  die Leistung von Vertragspartnern beaufsichtigen  "
      ]
     },
     "execution_count": 36,
     "metadata": {},
     "output_type": "execute_result"
    }
   ],
   "source": [
    "neg_pref_pos_altLabel_intersected_positive_term.head()"
   ]
  },
  {
   "cell_type": "code",
   "execution_count": 37,
   "id": "9275d68a",
   "metadata": {},
   "outputs": [
    {
     "data": {
      "text/html": [
       "<div>\n",
       "<style scoped>\n",
       "    .dataframe tbody tr th:only-of-type {\n",
       "        vertical-align: middle;\n",
       "    }\n",
       "\n",
       "    .dataframe tbody tr th {\n",
       "        vertical-align: top;\n",
       "    }\n",
       "\n",
       "    .dataframe thead th {\n",
       "        text-align: right;\n",
       "    }\n",
       "</style>\n",
       "<table border=\"1\" class=\"dataframe\">\n",
       "  <thead>\n",
       "    <tr style=\"text-align: right;\">\n",
       "      <th></th>\n",
       "      <th>?a</th>\n",
       "      <th>anchor</th>\n",
       "      <th>positive_term</th>\n",
       "      <th>negative_term</th>\n",
       "    </tr>\n",
       "  </thead>\n",
       "  <tbody>\n",
       "    <tr>\n",
       "      <th>0</th>\n",
       "      <td>http://data.europa.eu/esco/skill/0058526a-11e9...</td>\n",
       "      <td>Pflanzenforschung durchführen</td>\n",
       "      <td>Forschung zur Flora durchführen</td>\n",
       "      <td>Systemprotokollierung durchführen</td>\n",
       "    </tr>\n",
       "    <tr>\n",
       "      <th>1</th>\n",
       "      <td>http://data.europa.eu/esco/skill/03353964-657a...</td>\n",
       "      <td>Tischgedecke prüfen</td>\n",
       "      <td>Anordnung des Geschirrs und Bestecks prüfen</td>\n",
       "      <td>Studioproduktion prüfen</td>\n",
       "    </tr>\n",
       "    <tr>\n",
       "      <th>2</th>\n",
       "      <td>http://data.europa.eu/esco/skill/03353964-657a...</td>\n",
       "      <td>Tischgedecke prüfen</td>\n",
       "      <td>Sicherstellen  dass der Tisch richtig gedeckt ist</td>\n",
       "      <td>Studioproduktion prüfen</td>\n",
       "    </tr>\n",
       "    <tr>\n",
       "      <th>3</th>\n",
       "      <td>http://data.europa.eu/esco/skill/03353964-657a...</td>\n",
       "      <td>Tischgedecke prüfen</td>\n",
       "      <td>die Anordnung des Tischgedecks prüfen</td>\n",
       "      <td>Studioproduktion prüfen</td>\n",
       "    </tr>\n",
       "    <tr>\n",
       "      <th>4</th>\n",
       "      <td>http://data.europa.eu/esco/skill/03a0ab28-ce99...</td>\n",
       "      <td>Eventmanagement durchführen</td>\n",
       "      <td>Veranstaltungsmanagement durchführen</td>\n",
       "      <td>Konditionierung von Tabakblättern durchführen</td>\n",
       "    </tr>\n",
       "  </tbody>\n",
       "</table>\n",
       "</div>"
      ],
      "text/plain": [
       "                                                  ?a  \\\n",
       "0  http://data.europa.eu/esco/skill/0058526a-11e9...   \n",
       "1  http://data.europa.eu/esco/skill/03353964-657a...   \n",
       "2  http://data.europa.eu/esco/skill/03353964-657a...   \n",
       "3  http://data.europa.eu/esco/skill/03353964-657a...   \n",
       "4  http://data.europa.eu/esco/skill/03a0ab28-ce99...   \n",
       "\n",
       "                          anchor  \\\n",
       "0  Pflanzenforschung durchführen   \n",
       "1            Tischgedecke prüfen   \n",
       "2            Tischgedecke prüfen   \n",
       "3            Tischgedecke prüfen   \n",
       "4    Eventmanagement durchführen   \n",
       "\n",
       "                                       positive_term  \\\n",
       "0                    Forschung zur Flora durchführen   \n",
       "1        Anordnung des Geschirrs und Bestecks prüfen   \n",
       "2  Sicherstellen  dass der Tisch richtig gedeckt ist   \n",
       "3              die Anordnung des Tischgedecks prüfen   \n",
       "4               Veranstaltungsmanagement durchführen   \n",
       "\n",
       "                                   negative_term  \n",
       "0              Systemprotokollierung durchführen  \n",
       "1                        Studioproduktion prüfen  \n",
       "2                        Studioproduktion prüfen  \n",
       "3                        Studioproduktion prüfen  \n",
       "4  Konditionierung von Tabakblättern durchführen  "
      ]
     },
     "execution_count": 37,
     "metadata": {},
     "output_type": "execute_result"
    }
   ],
   "source": [
    "triplet_pref_altLabel.head()"
   ]
  },
  {
   "cell_type": "markdown",
   "id": "ca07e674",
   "metadata": {},
   "source": [
    "### dev set mining"
   ]
  },
  {
   "cell_type": "code",
   "execution_count": 38,
   "id": "04c7bc9c",
   "metadata": {},
   "outputs": [],
   "source": [
    "triplet_pref_altLabel_values = triplet_pref_altLabel['negative_term'].unique().tolist()\n",
    "triplet_pref_hiddenLabel_values = triplet_pref_hiddenLabel['negative_term'].unique().tolist()\n",
    "triplet_pref_description_values = triplet_pref_description['negative_term'].unique().tolist()\n",
    "triplet_alt_hidden_values = triplet_alt_hidden['negative_term'].unique().tolist()"
   ]
  },
  {
   "cell_type": "code",
   "execution_count": 39,
   "id": "4d1a7de5",
   "metadata": {},
   "outputs": [
    {
     "data": {
      "text/plain": [
       "(279, 0, 4586, 0)"
      ]
     },
     "execution_count": 39,
     "metadata": {},
     "output_type": "execute_result"
    }
   ],
   "source": [
    "len(triplet_pref_altLabel_values),len(triplet_pref_hiddenLabel_values),len(triplet_pref_description_values),len(triplet_alt_hidden_values),"
   ]
  },
  {
   "cell_type": "code",
   "execution_count": 40,
   "id": "229f0ba4",
   "metadata": {},
   "outputs": [],
   "source": [
    "full_values_list = list(itertools.chain(triplet_pref_altLabel_values,triplet_pref_hiddenLabel_values,triplet_pref_description_values,triplet_alt_hidden_values))"
   ]
  },
  {
   "cell_type": "code",
   "execution_count": 41,
   "id": "92dd9c5b",
   "metadata": {},
   "outputs": [],
   "source": [
    "def flag_intersected_term(negative_column, covered_list):\n",
    "    \n",
    "    if negative_column in covered_list:\n",
    "        return 'present'\n",
    "    return 'absent'"
   ]
  },
  {
   "cell_type": "code",
   "execution_count": 42,
   "id": "c2c5e4f4",
   "metadata": {},
   "outputs": [
    {
     "data": {
      "application/vnd.jupyter.widget-view+json": {
       "model_id": "51d7c87069674b97b43423c4f4c43917",
       "version_major": 2,
       "version_minor": 0
      },
      "text/plain": [
       "VBox(children=(HBox(children=(IntProgress(value=0, description='0.00%', max=7), Label(value='0 / 7'))), HBox(c…"
      ]
     },
     "metadata": {},
     "output_type": "display_data"
    }
   ],
   "source": [
    "neg_pref_pos_altLabel_intersected_positive_term['already_covered'] = neg_pref_pos_altLabel_intersected_positive_term.parallel_apply(\n",
    "lambda x: flag_intersected_term(x.negative_term, full_values_list), axis=1)"
   ]
  },
  {
   "cell_type": "code",
   "execution_count": 44,
   "id": "bcbd53f5",
   "metadata": {},
   "outputs": [],
   "source": [
    "if LANGUAGE == 'en':\n",
    "    neg_pref_pos_hiddenLabel_intersected_positive_term['already_covered'] = neg_pref_pos_hiddenLabel_intersected_positive_term.parallel_apply(\n",
    "lambda x: flag_intersected_term(x.negative_term, full_values_list), axis=1)\n",
    "elif LANGUAGE == 'de':\n",
    "    neg_pref_pos_hiddenLabel_intersected_positive_term = pd.DataFrame(columns=neg_pref_pos_altLabel_intersected_positive_term.columns)"
   ]
  },
  {
   "cell_type": "code",
   "execution_count": 45,
   "id": "73e720c1",
   "metadata": {
    "collapsed": true
   },
   "outputs": [
    {
     "data": {
      "application/vnd.jupyter.widget-view+json": {
       "model_id": "81b92a9798f842519cd7cc3ed0e622a8",
       "version_major": 2,
       "version_minor": 0
      },
      "text/plain": [
       "VBox(children=(HBox(children=(IntProgress(value=0, description='0.00%', max=118), Label(value='0 / 118'))), HB…"
      ]
     },
     "metadata": {},
     "output_type": "display_data"
    }
   ],
   "source": [
    "neg_pref_pos_description_intersected_positive_term['already_covered'] = neg_pref_pos_description_intersected_positive_term.parallel_apply(\n",
    "lambda x: flag_intersected_term(x.negative_term, full_values_list), axis=1)"
   ]
  },
  {
   "cell_type": "code",
   "execution_count": 46,
   "id": "744e7602",
   "metadata": {},
   "outputs": [],
   "source": [
    "if LANGUAGE == 'en':\n",
    "    neg_alt_pos_hidden_intersected_positive_term['already_covered'] = neg_alt_pos_hidden_intersected_positive_term.parallel_apply(\n",
    "lambda x: flag_intersected_term(x.negative_term, full_values_list), axis=1)\n",
    "elif LANGUAGE == 'de':\n",
    "    neg_alt_pos_hidden_intersected_positive_term = pd.DataFrame(columns=neg_pref_pos_altLabel_intersected_positive_term.columns)"
   ]
  },
  {
   "cell_type": "code",
   "execution_count": 48,
   "id": "d7a4b0ee",
   "metadata": {},
   "outputs": [],
   "source": [
    "dev_neg_pref_pos_altLabel_intersected_positive_term = neg_pref_pos_altLabel_intersected_positive_term[neg_pref_pos_altLabel_intersected_positive_term['already_covered'] == 'absent']\n",
    "dev_neg_pref_pos_hiddenLabel_intersected_positive_term = neg_pref_pos_hiddenLabel_intersected_positive_term[neg_pref_pos_hiddenLabel_intersected_positive_term['already_covered'] == 'absent']\n",
    "dev_neg_pref_pos_description_intersected_positive_term = neg_pref_pos_description_intersected_positive_term[neg_pref_pos_description_intersected_positive_term['already_covered'] == 'absent']\n",
    "dev_neg_alt_pos_hidden_intersected_positive_term = neg_alt_pos_hidden_intersected_positive_term[neg_alt_pos_hidden_intersected_positive_term['already_covered'] == 'absent']"
   ]
  },
  {
   "cell_type": "code",
   "execution_count": 49,
   "id": "6470e295",
   "metadata": {},
   "outputs": [
    {
     "data": {
      "text/plain": [
       "((137, 5), (0, 5), (3976, 5), (0, 5))"
      ]
     },
     "execution_count": 49,
     "metadata": {},
     "output_type": "execute_result"
    }
   ],
   "source": [
    "dev_neg_pref_pos_altLabel_intersected_positive_term.shape,dev_neg_pref_pos_hiddenLabel_intersected_positive_term.shape,dev_neg_pref_pos_description_intersected_positive_term.shape,dev_neg_alt_pos_hidden_intersected_positive_term.shape,"
   ]
  },
  {
   "cell_type": "code",
   "execution_count": 50,
   "id": "e8744877",
   "metadata": {},
   "outputs": [],
   "source": [
    "dev_sets = [dev_neg_pref_pos_altLabel_intersected_positive_term,dev_neg_pref_pos_hiddenLabel_intersected_positive_term,dev_neg_pref_pos_description_intersected_positive_term,dev_neg_alt_pos_hidden_intersected_positive_term]"
   ]
  },
  {
   "cell_type": "code",
   "execution_count": 52,
   "id": "08755a3f",
   "metadata": {},
   "outputs": [],
   "source": [
    "all_dev_set_data = pd.concat(dev_sets)"
   ]
  },
  {
   "cell_type": "code",
   "execution_count": 53,
   "id": "0f480d0e",
   "metadata": {},
   "outputs": [
    {
     "data": {
      "text/plain": [
       "(4113, 5)"
      ]
     },
     "execution_count": 53,
     "metadata": {},
     "output_type": "execute_result"
    }
   ],
   "source": [
    "all_dev_set_data.shape"
   ]
  },
  {
   "cell_type": "code",
   "execution_count": 55,
   "id": "749799d8",
   "metadata": {},
   "outputs": [],
   "source": [
    "if LANGUAGE == 'en':\n",
    "    dev_dataset = all_dev_set_data.sample(n=20000)\n",
    "else:\n",
    "    dev_dataset = all_dev_set_data"
   ]
  },
  {
   "cell_type": "code",
   "execution_count": 56,
   "id": "c866eb0e",
   "metadata": {},
   "outputs": [],
   "source": [
    "dev_dataset.drop(columns=['already_covered'], inplace=True)"
   ]
  },
  {
   "cell_type": "markdown",
   "id": "fe28022b",
   "metadata": {},
   "source": [
    "### merging all triplets"
   ]
  },
  {
   "cell_type": "code",
   "execution_count": 57,
   "id": "619d9beb",
   "metadata": {},
   "outputs": [],
   "source": [
    "triplets_combined = [triplet_pref_altLabel,triplet_pref_hiddenLabel,triplet_pref_description,triplet_alt_hidden]"
   ]
  },
  {
   "cell_type": "code",
   "execution_count": 58,
   "id": "4d31277f",
   "metadata": {},
   "outputs": [],
   "source": [
    "mnr_data = pd.concat(triplets_combined)"
   ]
  },
  {
   "cell_type": "code",
   "execution_count": 59,
   "id": "cb2ab76d",
   "metadata": {},
   "outputs": [],
   "source": [
    "mnr_data.dropna(inplace=True)"
   ]
  },
  {
   "cell_type": "code",
   "execution_count": 60,
   "id": "8c5aa98e",
   "metadata": {},
   "outputs": [
    {
     "data": {
      "text/plain": [
       "'/cluster/scratch/yakram/sbert-copy/turtle_files/mnr_data/de/hard_neg_triplets.csv'"
      ]
     },
     "execution_count": 60,
     "metadata": {},
     "output_type": "execute_result"
    }
   ],
   "source": [
    "triplet_save_dir = f'/cluster/scratch/yakram/sbert-copy/turtle_files/mnr_data/{LANGUAGE}/hard_neg_triplets.csv'\n",
    "triplet_save_dir"
   ]
  },
  {
   "cell_type": "code",
   "execution_count": 63,
   "id": "aed158a3",
   "metadata": {},
   "outputs": [
    {
     "data": {
      "text/plain": [
       "(7187, 4)"
      ]
     },
     "execution_count": 63,
     "metadata": {},
     "output_type": "execute_result"
    }
   ],
   "source": [
    "mnr_data.shape"
   ]
  },
  {
   "cell_type": "code",
   "execution_count": 64,
   "id": "a0dcd90b",
   "metadata": {},
   "outputs": [],
   "source": [
    "mnr_data.to_csv(triplet_save_dir, sep='\\t')"
   ]
  },
  {
   "cell_type": "code",
   "execution_count": 65,
   "id": "3e1b7bd5",
   "metadata": {},
   "outputs": [
    {
     "data": {
      "text/plain": [
       "'/cluster/scratch/yakram/sbert-copy/turtle_files/mnr_data/de/hard_neg_dev.csv'"
      ]
     },
     "execution_count": 65,
     "metadata": {},
     "output_type": "execute_result"
    }
   ],
   "source": [
    "dev_dataset_dir = f'/cluster/scratch/yakram/sbert-copy/turtle_files/mnr_data/{LANGUAGE}/hard_neg_dev.csv'\n",
    "dev_dataset_dir"
   ]
  },
  {
   "cell_type": "code",
   "execution_count": 66,
   "id": "dd6525f4",
   "metadata": {},
   "outputs": [
    {
     "data": {
      "text/plain": [
       "(4113, 4)"
      ]
     },
     "execution_count": 66,
     "metadata": {},
     "output_type": "execute_result"
    }
   ],
   "source": [
    "dev_dataset.shape"
   ]
  },
  {
   "cell_type": "code",
   "execution_count": 67,
   "id": "f051bc76",
   "metadata": {},
   "outputs": [],
   "source": [
    "dev_dataset.to_csv(dev_dataset_dir, sep='\\t')"
   ]
  },
  {
   "cell_type": "code",
   "execution_count": null,
   "id": "9477b024",
   "metadata": {},
   "outputs": [],
   "source": []
  }
 ],
 "metadata": {
  "kernelspec": {
   "display_name": "Python 3 (ipykernel)",
   "language": "python",
   "name": "python3"
  },
  "language_info": {
   "codemirror_mode": {
    "name": "ipython",
    "version": 3
   },
   "file_extension": ".py",
   "mimetype": "text/x-python",
   "name": "python",
   "nbconvert_exporter": "python",
   "pygments_lexer": "ipython3",
   "version": "3.8.2"
  }
 },
 "nbformat": 4,
 "nbformat_minor": 5
}
