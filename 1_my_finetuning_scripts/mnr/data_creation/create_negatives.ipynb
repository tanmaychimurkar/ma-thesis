{
 "cells": [
  {
   "cell_type": "code",
   "execution_count": 1,
   "metadata": {
    "collapsed": true
   },
   "outputs": [],
   "source": [
    "import ast\n",
    "import random\n",
    "\n",
    "LANGUAGE = 'en'"
   ]
  },
  {
   "cell_type": "code",
   "execution_count": 2,
   "outputs": [],
   "source": [
    "import os\n",
    "\n",
    "import pandas as pd\n",
    "from tqdm import tqdm\n",
    "\n",
    "tqdm.pandas()"
   ],
   "metadata": {
    "collapsed": false
   }
  },
  {
   "cell_type": "code",
   "execution_count": 3,
   "outputs": [
    {
     "data": {
      "text/plain": "'/cluster/scratch/yakram/sbert-copy/1_my_finetuning_scripts/mnr/data_creation'"
     },
     "execution_count": 3,
     "metadata": {},
     "output_type": "execute_result"
    }
   ],
   "source": [
    "os.getcwd()"
   ],
   "metadata": {
    "collapsed": false
   }
  },
  {
   "cell_type": "code",
   "execution_count": 4,
   "outputs": [],
   "source": [
    "CURRENT_FILE_LOCATION = os.path.dirname(os.getcwd())\n",
    "DATA_DIR = os.path.join(CURRENT_FILE_LOCATION, '../../turtle_files')"
   ],
   "metadata": {
    "collapsed": false
   }
  },
  {
   "cell_type": "code",
   "execution_count": 37,
   "outputs": [
    {
     "data": {
      "text/plain": "'/cluster/scratch/yakram/sbert-copy/1_my_finetuning_scripts/mnr'"
     },
     "execution_count": 37,
     "metadata": {},
     "output_type": "execute_result"
    }
   ],
   "source": [
    "CURRENT_FILE_LOCATION"
   ],
   "metadata": {
    "collapsed": false
   }
  },
  {
   "cell_type": "code",
   "execution_count": 5,
   "outputs": [],
   "source": [
    "if LANGUAGE == 'en':\n",
    "    DATA_FILES_PATH = os.path.join(DATA_DIR, 'english_data')\n",
    "elif LANGUAGE == 'de':\n",
    "    DATA_FILES_PATH = os.path.join(DATA_DIR, 'german_data')\n",
    "\n",
    "NEGATIVE_FILE_PATH = '/cluster/scratch/yakram/sbert-copy/turtle_files/negative_100.csv'"
   ],
   "metadata": {
    "collapsed": false
   }
  },
  {
   "cell_type": "code",
   "execution_count": 6,
   "outputs": [],
   "source": [
    "MemConcept_prefLabel = pd.read_csv(os.path.join(DATA_FILES_PATH, 'query_MemConcept_prefLabel.rq'), sep='\\t', index_col=[0])\n",
    "MemConcept_altLabel = pd.read_csv(os.path.join(DATA_FILES_PATH, 'query_MemConcept_altLabel.rq'), sep='\\t', index_col=[0])\n",
    "MemConcept_hiddenLabel = pd.read_csv(os.path.join(DATA_FILES_PATH, 'query_MemConcept_hiddenLabel.rq'), sep='\\t', index_col=[0])\n",
    "MemConcept_description = pd.read_csv(os.path.join(DATA_FILES_PATH, 'query_MemConcept_description.rq'), sep='\\t', index_col=[0])\n",
    "\n",
    "SkillsHier_prefLabel = pd.read_csv(os.path.join(DATA_FILES_PATH, 'query_SkillsHier_prefLabel.rq'), sep='\\t', index_col=[0])\n",
    "SkillsHier_altLabel = pd.read_csv(os.path.join(DATA_FILES_PATH, 'query_SkillsHier_altLabel.rq'), sep='\\t', index_col=[0])\n",
    "SkillsHier_hiddenLabel = pd.read_csv(os.path.join(DATA_FILES_PATH, 'query_SkillsHier_hiddenLabel.rq'), sep='\\t', index_col=[0])\n",
    "SkillsHier_description = pd.read_csv(os.path.join(DATA_FILES_PATH, 'query_SkillsHier_description.rq'), sep='\\t', index_col=[0])\n",
    "\n",
    "MemConcept_SkillsHier_prefLabel = pd.concat([MemConcept_prefLabel, SkillsHier_prefLabel])\n",
    "MemConcept_SkillsHier_altLabel = pd.concat([MemConcept_altLabel, SkillsHier_altLabel])\n",
    "MemConcept_SkillsHier_hiddenLabel = pd.concat([MemConcept_hiddenLabel, SkillsHier_hiddenLabel])\n",
    "MemConcept_SkillsHier_description = pd.concat([MemConcept_description, SkillsHier_description])\n",
    "\n",
    "skills_uri = pd.read_csv(os.path.join(DATA_FILES_PATH, 'query_concept_schemes_combined.rq'), sep='\\t', index_col=[0])\n",
    "negative_file = pd.read_csv(NEGATIVE_FILE_PATH, sep='\\t', index_col=[0])\n",
    "\n",
    "negative_file.columns = ['?a', 'negative_uris']\n",
    "\n",
    "skill_with_neg = negative_file.merge(skills_uri, on=['?a'], how='left')"
   ],
   "metadata": {
    "collapsed": false
   }
  },
  {
   "cell_type": "code",
   "execution_count": 7,
   "outputs": [
    {
     "data": {
      "text/plain": "                                                      ?a  \\\n0                  http://data.europa.eu/esco/isced-f/00   \n1                 http://data.europa.eu/esco/isced-f/000   \n2                http://data.europa.eu/esco/isced-f/0000   \n3                 http://data.europa.eu/esco/isced-f/001   \n4                http://data.europa.eu/esco/isced-f/0011   \n...                                                  ...   \n14520  http://data.europa.eu/esco/skill/ffef5eb3-a15e...   \n14521  http://data.europa.eu/esco/skill/fff0b074-5a76...   \n14522  http://data.europa.eu/esco/skill/fff0e2cd-d0bd...   \n14523  http://data.europa.eu/esco/skill/fff5bc45-b506...   \n14524  http://data.europa.eu/esco/skill/fff74a70-4f82...   \n\n                                           negative_uris  \n0      ['http://data.europa.eu/esco/skill/b74fd765-e1...  \n1      ['http://data.europa.eu/esco/skill/b779205e-37...  \n2      ['http://data.europa.eu/esco/skill/1fe4c04b-30...  \n3      ['http://data.europa.eu/esco/skill/22d363fa-45...  \n4      ['http://data.europa.eu/esco/skill/aef7eab0-ae...  \n...                                                  ...  \n14520  ['http://data.europa.eu/esco/skill/8353579b-20...  \n14521  ['http://data.europa.eu/esco/skill/8ff015a0-98...  \n14522  ['http://data.europa.eu/esco/skill/8c86584c-5a...  \n14523  ['http://data.europa.eu/esco/skill/5125b132-d1...  \n14524  ['http://data.europa.eu/esco/skill/3b856e4d-5a...  \n\n[14525 rows x 2 columns]",
      "text/html": "<div>\n<style scoped>\n    .dataframe tbody tr th:only-of-type {\n        vertical-align: middle;\n    }\n\n    .dataframe tbody tr th {\n        vertical-align: top;\n    }\n\n    .dataframe thead th {\n        text-align: right;\n    }\n</style>\n<table border=\"1\" class=\"dataframe\">\n  <thead>\n    <tr style=\"text-align: right;\">\n      <th></th>\n      <th>?a</th>\n      <th>negative_uris</th>\n    </tr>\n  </thead>\n  <tbody>\n    <tr>\n      <th>0</th>\n      <td>http://data.europa.eu/esco/isced-f/00</td>\n      <td>['http://data.europa.eu/esco/skill/b74fd765-e1...</td>\n    </tr>\n    <tr>\n      <th>1</th>\n      <td>http://data.europa.eu/esco/isced-f/000</td>\n      <td>['http://data.europa.eu/esco/skill/b779205e-37...</td>\n    </tr>\n    <tr>\n      <th>2</th>\n      <td>http://data.europa.eu/esco/isced-f/0000</td>\n      <td>['http://data.europa.eu/esco/skill/1fe4c04b-30...</td>\n    </tr>\n    <tr>\n      <th>3</th>\n      <td>http://data.europa.eu/esco/isced-f/001</td>\n      <td>['http://data.europa.eu/esco/skill/22d363fa-45...</td>\n    </tr>\n    <tr>\n      <th>4</th>\n      <td>http://data.europa.eu/esco/isced-f/0011</td>\n      <td>['http://data.europa.eu/esco/skill/aef7eab0-ae...</td>\n    </tr>\n    <tr>\n      <th>...</th>\n      <td>...</td>\n      <td>...</td>\n    </tr>\n    <tr>\n      <th>14520</th>\n      <td>http://data.europa.eu/esco/skill/ffef5eb3-a15e...</td>\n      <td>['http://data.europa.eu/esco/skill/8353579b-20...</td>\n    </tr>\n    <tr>\n      <th>14521</th>\n      <td>http://data.europa.eu/esco/skill/fff0b074-5a76...</td>\n      <td>['http://data.europa.eu/esco/skill/8ff015a0-98...</td>\n    </tr>\n    <tr>\n      <th>14522</th>\n      <td>http://data.europa.eu/esco/skill/fff0e2cd-d0bd...</td>\n      <td>['http://data.europa.eu/esco/skill/8c86584c-5a...</td>\n    </tr>\n    <tr>\n      <th>14523</th>\n      <td>http://data.europa.eu/esco/skill/fff5bc45-b506...</td>\n      <td>['http://data.europa.eu/esco/skill/5125b132-d1...</td>\n    </tr>\n    <tr>\n      <th>14524</th>\n      <td>http://data.europa.eu/esco/skill/fff74a70-4f82...</td>\n      <td>['http://data.europa.eu/esco/skill/3b856e4d-5a...</td>\n    </tr>\n  </tbody>\n</table>\n<p>14525 rows × 2 columns</p>\n</div>"
     },
     "execution_count": 7,
     "metadata": {},
     "output_type": "execute_result"
    }
   ],
   "source": [
    "skill_with_neg"
   ],
   "metadata": {
    "collapsed": false
   }
  },
  {
   "cell_type": "code",
   "execution_count": 7,
   "outputs": [],
   "source": [],
   "metadata": {
    "collapsed": false
   }
  },
  {
   "cell_type": "code",
   "execution_count": 8,
   "outputs": [],
   "source": [
    "def create_double_pair(df1, df2):\n",
    "\n",
    "    skills_copy = skills_uri.copy(deep=True)\n",
    "    skills_copy = pd.DataFrame(skills_copy)\n",
    "\n",
    "    combined_df = skills_copy.merge(df1, on=['?a'], how='left').merge(df2, on=['?a'], how='left')\n",
    "    # combined_df.drop(columns=['?a'], inplace=True)\n",
    "    return combined_df"
   ],
   "metadata": {
    "collapsed": false
   }
  },
  {
   "cell_type": "code",
   "execution_count": 9,
   "outputs": [],
   "source": [
    "pref_alt_data = create_double_pair(MemConcept_SkillsHier_prefLabel, MemConcept_SkillsHier_altLabel)\n",
    "pref_hidden_data = create_double_pair(MemConcept_SkillsHier_prefLabel, MemConcept_SkillsHier_hiddenLabel)\n",
    "pref_description_data = create_double_pair(MemConcept_SkillsHier_prefLabel, MemConcept_SkillsHier_description)\n",
    "alt_hidden_data = create_double_pair(MemConcept_SkillsHier_altLabel, MemConcept_SkillsHier_hiddenLabel)\n",
    "alt_description_data = create_double_pair(MemConcept_SkillsHier_altLabel, MemConcept_SkillsHier_description)\n",
    "hidden_description_data = create_double_pair(MemConcept_SkillsHier_hiddenLabel, MemConcept_SkillsHier_description)"
   ],
   "metadata": {
    "collapsed": false
   }
  },
  {
   "cell_type": "code",
   "execution_count": 10,
   "outputs": [],
   "source": [
    "pref_alt_data.dropna(inplace=True)\n",
    "pref_hidden_data.dropna(inplace=True)\n",
    "pref_description_data.dropna(inplace=True)\n",
    "alt_hidden_data.dropna(inplace=True)\n",
    "alt_description_data.dropna(inplace=True)\n",
    "hidden_description_data.dropna(inplace=True)"
   ],
   "metadata": {
    "collapsed": false
   }
  },
  {
   "cell_type": "code",
   "execution_count": 11,
   "outputs": [],
   "source": [
    "all_positive_pairs = [pref_alt_data,pref_hidden_data,pref_description_data,alt_hidden_data,alt_description_data,hidden_description_data,]"
   ],
   "metadata": {
    "collapsed": false
   }
  },
  {
   "cell_type": "code",
   "execution_count": 12,
   "outputs": [
    {
     "name": "stdout",
     "output_type": "stream",
     "text": [
      "(97626, 3)\n",
      "(1014, 3)\n",
      "(14396, 3)\n",
      "(25444, 3)\n",
      "(97623, 3)\n",
      "(1014, 3)\n"
     ]
    }
   ],
   "source": [
    "total_original = 222942\n",
    "total_now = 0\n",
    "for pair_data in all_positive_pairs:\n",
    "    print(pair_data.shape)\n",
    "    total_now += pair_data.shape[0]"
   ],
   "metadata": {
    "collapsed": false
   }
  },
  {
   "cell_type": "code",
   "execution_count": 36,
   "outputs": [],
   "source": [
    "def sample_negatives(negative_col, count_col):\n",
    "\n",
    "    return random.sample(ast.literal_eval(negative_col), k=count_col)\n",
    "\n",
    "def sample_random_from_uri(random_sample_uri, df_containing_property):\n",
    "\n",
    "    try:\n",
    "        merged_df = df_containing_property[df_containing_property['?a'] == random_sample_uri]\n",
    "        if merged_df.shape != 0:\n",
    "            merged_df_grouped = merged_df.groupby(by=['?a']).sample(n=1).reset_index()[merged_df.columns[-1]].values\n",
    "\n",
    "            return merged_df_grouped\n",
    "        else:\n",
    "            return 'no value found'\n",
    "    except:\n",
    "        return 'no value found'"
   ],
   "metadata": {
    "collapsed": false
   }
  },
  {
   "cell_type": "code",
   "execution_count": 18,
   "outputs": [],
   "source": [
    "def get_negatives_until_explosion(main_dataframe, matcher_df):\n",
    "\n",
    "    copy_main_dataframe = main_dataframe.copy(deep=True)\n",
    "    copy_matcher_df = matcher_df.copy(deep=True)\n",
    "    copy_matcher_df.rename(columns={'?a': 'sampled_negatives'}, inplace=True)\n",
    "    copy_matcher_df_random_sampled = copy_matcher_df.groupby(by='sampled_negatives').first().reset_index()\n",
    "\n",
    "    main_data_counts = copy_main_dataframe.groupby(by=['?a']).count()[copy_main_dataframe.columns[1]].reset_index()\n",
    "    main_data_counts.rename(columns={main_data_counts.columns[1]: 'counts'}, inplace=True)\n",
    "    main_data_data_counts_merged = copy_main_dataframe.merge(main_data_counts, on=['?a'], how='left')\n",
    "    main_data_data_counts_merged_negative = negative_file.merge(main_data_data_counts_merged, on=['?a'], how='left')\n",
    "    main_data_data_counts_merged_negative_nan = main_data_data_counts_merged_negative.dropna()\n",
    "    main_data_data_counts_merged_negative_nan['counts'] = main_data_data_counts_merged_negative_nan['counts'].apply(lambda x: int(x))\n",
    "    main_data_data_counts_merged_negative_nan = main_data_data_counts_merged_negative_nan[main_data_data_counts_merged_negative_nan['counts'] <= 100]\n",
    "\n",
    "    main_data_subset = main_data_data_counts_merged_negative_nan[['?a', 'negative_uris', 'counts']]\n",
    "    main_data_subset.dropna(inplace=True)\n",
    "    main_data_subset.drop_duplicates(inplace=True)\n",
    "\n",
    "    main_data_subset['sampled_negatives'] = main_data_subset.progress_apply(lambda x: sample_negatives(x.negative_uris, x.counts), axis=1)\n",
    "    main_data_subset.drop(columns=['negative_uris'], inplace=True)\n",
    "\n",
    "    exploded_dataset = main_data_subset.explode('sampled_negatives')\n",
    "    exploded_dataset.drop(columns=['counts'], inplace=True)\n",
    "\n",
    "\n",
    "    exploded_dataset_merged_property = exploded_dataset.merge(copy_matcher_df_random_sampled, on=['sampled_negatives'], how='left')\n",
    "\n",
    "    return exploded_dataset_merged_property"
   ],
   "metadata": {
    "collapsed": false
   }
  },
  {
   "cell_type": "code",
   "execution_count": 29,
   "outputs": [],
   "source": [],
   "metadata": {
    "collapsed": false
   }
  },
  {
   "cell_type": "code",
   "execution_count": null,
   "outputs": [],
   "source": [
    "raise"
   ],
   "metadata": {
    "collapsed": false
   }
  },
  {
   "cell_type": "code",
   "execution_count": 30,
   "outputs": [
    {
     "name": "stdout",
     "output_type": "stream",
     "text": [
      "INFO: Pandarallel will run on 4 workers.\n",
      "INFO: Pandarallel will use Memory file system to transfer data between the main process and workers.\n"
     ]
    }
   ],
   "source": [
    "from pandarallel import pandarallel\n",
    "\n",
    "pandarallel.initialize(progress_bar=True)\n",
    "\n",
    "# df.apply(func)\n",
    "# df.parallel_apply(func)"
   ],
   "metadata": {
    "collapsed": false
   }
  },
  {
   "cell_type": "code",
   "execution_count": 30,
   "outputs": [],
   "source": [],
   "metadata": {
    "collapsed": false
   }
  },
  {
   "cell_type": "code",
   "execution_count": 31,
   "outputs": [
    {
     "name": "stderr",
     "output_type": "stream",
     "text": [
      "/cluster/home/yakram/.pyenv/versions/3.8.2/envs/thesis/lib/python3.8/site-packages/pandarallel/data_types/series.py:16: FutureWarning: The behavior of `series[i:j]` with an integer-dtype index is deprecated. In a future version, this will be treated as *label-based* indexing, consistent with e.g. `series[i]` lookups. To retain the old behavior, use `series.iloc[i:j]`. To get the future behavior, use `series.loc[i:j]`.\n",
      "  yield data[chunk_]\n"
     ]
    },
    {
     "data": {
      "text/plain": "VBox(children=(HBox(children=(IntProgress(value=0, description='0.00%', max=24406), Label(value='0 / 24406')))…",
      "application/vnd.jupyter.widget-view+json": {
       "version_major": 2,
       "version_minor": 0,
       "model_id": "98403c3ae7354d478c1879307f56284c"
      }
     },
     "metadata": {},
     "output_type": "display_data"
    }
   ],
   "source": [
    "exploded_dataset['altnegatives'] = exploded_dataset['sampled_negatives'].parallel_apply(lambda x: sample_random_from_uri(x, MemConcept_SkillsHier_altLabel))"
   ],
   "metadata": {
    "collapsed": false
   }
  },
  {
   "cell_type": "code",
   "execution_count": null,
   "outputs": [],
   "source": [],
   "metadata": {
    "collapsed": false
   }
  },
  {
   "cell_type": "code",
   "execution_count": null,
   "outputs": [],
   "source": [],
   "metadata": {
    "collapsed": false
   }
  },
  {
   "cell_type": "code",
   "execution_count": null,
   "outputs": [],
   "source": [
    "random_sample_uri = 'http://data.europa.eu/esco/skill/9c0148f3-838f-4a06-b929-e23d94535773'\n",
    "df_containing_property = MemConcept_SkillsHier_altLabel"
   ],
   "metadata": {
    "collapsed": false
   }
  },
  {
   "cell_type": "code",
   "execution_count": null,
   "outputs": [],
   "source": [
    "merged_df = df_containing_property[df_containing_property['?a'] == random_sample_uri]"
   ],
   "metadata": {
    "collapsed": false
   }
  },
  {
   "cell_type": "code",
   "execution_count": null,
   "outputs": [],
   "source": [
    "merged_df_grouped = merged_df.groupby(by=['?a']).sample(n=1).reset_index()[merged_df.columns[-1]].values"
   ],
   "metadata": {
    "collapsed": false
   }
  },
  {
   "cell_type": "code",
   "execution_count": null,
   "outputs": [],
   "source": [
    "merged_df_grouped"
   ],
   "metadata": {
    "collapsed": false
   }
  },
  {
   "cell_type": "code",
   "execution_count": null,
   "outputs": [],
   "source": [
    "\n",
    "\n",
    "exploded_dataset_merged_property = exploded_dataset.merge(copy_matcher_df_random_sampled, on=['sampled_negatives'], how='left')\n"
   ],
   "metadata": {
    "collapsed": false
   }
  },
  {
   "cell_type": "code",
   "execution_count": null,
   "outputs": [],
   "source": [
    "exploded_dataset = main_data_subset.explode('sampled_negatives')"
   ],
   "metadata": {
    "collapsed": false
   }
  },
  {
   "cell_type": "code",
   "execution_count": null,
   "outputs": [],
   "source": [
    "exploded_dataset"
   ],
   "metadata": {
    "collapsed": false
   }
  },
  {
   "cell_type": "code",
   "execution_count": null,
   "outputs": [],
   "source": [
    "\n",
    "\n",
    "exploded_dataset.drop(columns=['counts'], inplace=True)\n",
    "\n",
    "\n",
    "exploded_dataset_merged_property = exploded_dataset.merge(copy_matcher_df_random_sampled, on=['sampled_negatives'], how='left')\n"
   ],
   "metadata": {
    "collapsed": false
   }
  },
  {
   "cell_type": "code",
   "execution_count": null,
   "outputs": [],
   "source": [
    "exploded_dataset_merged_property.drop(columns=['sampled_negatives'], inplace=True)"
   ],
   "metadata": {
    "collapsed": false
   }
  },
  {
   "cell_type": "code",
   "execution_count": null,
   "outputs": [],
   "source": [
    "exploded_dataset_merged_property"
   ],
   "metadata": {
    "collapsed": false
   }
  },
  {
   "cell_type": "code",
   "execution_count": null,
   "outputs": [],
   "source": [
    "exploded_dataset_merged_property_grouped = exploded_dataset_merged_property.groupby(by=['?a']).first().reset_index()"
   ],
   "metadata": {
    "collapsed": false
   }
  },
  {
   "cell_type": "code",
   "execution_count": null,
   "outputs": [],
   "source": [
    "exploded_dataset_merged_property_grouped"
   ],
   "metadata": {
    "collapsed": false
   }
  },
  {
   "cell_type": "code",
   "execution_count": null,
   "outputs": [],
   "source": [
    "main_data_data_counts_merged_negative_nan"
   ],
   "metadata": {
    "collapsed": false
   }
  },
  {
   "cell_type": "code",
   "execution_count": null,
   "outputs": [],
   "source": [
    "fine_merged_negatives = main_data_data_counts_merged_negative_nan.merge(exploded_dataset_merged_property_grouped, on=['?a'], how='left')\n",
    "fine_merged_negatives.shape"
   ],
   "metadata": {
    "collapsed": false
   }
  },
  {
   "cell_type": "code",
   "execution_count": null,
   "outputs": [],
   "source": [
    "fine_merged_negatives_triplets = fine_merged_negatives[['?prefLabel', '?altLabel_x', '?altLabel_y']]"
   ],
   "metadata": {
    "collapsed": false
   }
  },
  {
   "cell_type": "code",
   "execution_count": null,
   "outputs": [],
   "source": [
    "fine_merged_negatives_triplets"
   ],
   "metadata": {
    "collapsed": false
   }
  },
  {
   "cell_type": "code",
   "execution_count": null,
   "outputs": [],
   "source": [
    "pref_alt_data = create_double_pair(MemConcept_SkillsHier_prefLabel, MemConcept_SkillsHier_altLabel)\n",
    "pref_hidden_data = create_double_pair(MemConcept_SkillsHier_prefLabel, MemConcept_SkillsHier_hiddenLabel)\n",
    "pref_description_data = create_double_pair(MemConcept_SkillsHier_prefLabel, MemConcept_SkillsHier_description)\n",
    "alt_hidden_data = create_double_pair(MemConcept_SkillsHier_altLabel, MemConcept_SkillsHier_hiddenLabel)\n",
    "alt_description_data = create_double_pair(MemConcept_SkillsHier_altLabel, MemConcept_SkillsHier_description)\n",
    "hidden_description_data = create_double_pair(MemConcept_SkillsHier_hiddenLabel, MemConcept_SkillsHier_description)"
   ],
   "metadata": {
    "collapsed": false
   }
  },
  {
   "cell_type": "code",
   "execution_count": null,
   "outputs": [],
   "source": [
    "exploded_dataset"
   ],
   "metadata": {
    "collapsed": false
   }
  },
  {
   "cell_type": "code",
   "execution_count": null,
   "outputs": [],
   "source": [
    "pref_alt_negatives = get_negatives_until_explosion(pref_alt_data)\n",
    "pref_hidden_negatives = get_negatives_until_explosion(pref_hidden_data)\n",
    "pref_description_negatives = get_negatives_until_explosion(pref_description_data)\n",
    "alt_hidden_negatives = get_negatives_until_explosion(alt_hidden_data)\n",
    "alt_description_negatives = get_negatives_until_explosion(alt_description_data)\n",
    "hidden_description_negatives = get_negatives_until_explosion(hidden_description_data)"
   ],
   "metadata": {
    "collapsed": false
   }
  },
  {
   "cell_type": "code",
   "execution_count": null,
   "outputs": [],
   "source": [
    "pref_alt_negatives"
   ],
   "metadata": {
    "collapsed": false
   }
  },
  {
   "cell_type": "code",
   "execution_count": null,
   "outputs": [],
   "source": [
    "subset_df = pref_alt_negatives[['?a', 'sampled_negatives']]"
   ],
   "metadata": {
    "collapsed": false
   }
  },
  {
   "cell_type": "code",
   "execution_count": null,
   "outputs": [],
   "source": [
    "subset_df"
   ],
   "metadata": {
    "collapsed": false
   }
  },
  {
   "cell_type": "code",
   "execution_count": null,
   "outputs": [],
   "source": [
    "subset_df_exploded = subset_df.explode('sampled_negatives')"
   ],
   "metadata": {
    "collapsed": false
   }
  },
  {
   "cell_type": "code",
   "execution_count": null,
   "outputs": [],
   "source": [
    "len(subset_df['sampled_negatives'].iloc[0]), subset_df['?a'].iloc[0]"
   ],
   "metadata": {
    "collapsed": false
   }
  },
  {
   "cell_type": "code",
   "execution_count": null,
   "outputs": [],
   "source": [],
   "metadata": {
    "collapsed": false
   }
  },
  {
   "cell_type": "code",
   "execution_count": null,
   "outputs": [],
   "source": [
    "subset_df_exploded[subset_df_exploded['?a'] == 'http://data.europa.eu/esco/skill/0005c151-5b5a-4a66-8aac-60e734beb1ab']"
   ],
   "metadata": {
    "collapsed": false
   }
  },
  {
   "cell_type": "code",
   "execution_count": null,
   "outputs": [],
   "source": [
    "subset_df_exploded.drop_duplicates(inplace=True)"
   ],
   "metadata": {
    "collapsed": false
   }
  },
  {
   "cell_type": "code",
   "execution_count": null,
   "outputs": [],
   "source": [
    "subset_df_exploded"
   ],
   "metadata": {
    "collapsed": false
   }
  },
  {
   "cell_type": "code",
   "execution_count": null,
   "outputs": [],
   "source": [],
   "metadata": {
    "collapsed": false
   }
  },
  {
   "cell_type": "code",
   "execution_count": null,
   "outputs": [],
   "source": [
    "def explode_and_append(df_with_negative, df_to_append):\n",
    "\n",
    "    df_negative = df_with_negative.copy(deep=True)\n",
    "    df_append = df_to_append.copy(deep=True)\n",
    "    df_append.rename(columns={df_append.columns[0]:'sampled_negatives'}, inplace=True)\n",
    "    df_append.rename(columns={df_append.columns[1]:df_append.columns[1]+'_negative'}, inplace=True)\n",
    "    df_negative.drop(columns = ['negative_uris', 'counts'], inplace=True)\n",
    "    df_negatives_exploded = df_negative.explode('sampled_negatives')\n",
    "    # combined_df = skills_copy.merge(df1, on=['?a'], how='left').merge(df2, on=['?a'], how='left')\n",
    "    df_appended = df_negatives_exploded.merge(df_append, on=['sampled_negatives'], how='left')\n",
    "    df_appended.drop(columns=['sampled_negatives', '?a'], inplace=True)\n",
    "    return df_appended"
   ],
   "metadata": {
    "collapsed": false
   }
  },
  {
   "cell_type": "code",
   "execution_count": null,
   "outputs": [],
   "source": [
    "pref_alt_exploded = explode_and_append(pref_alt_negatives, MemConcept_SkillsHier_altLabel)\n",
    "pref_hidden_exploded = explode_and_append(pref_hidden_negatives, MemConcept_SkillsHier_hiddenLabel)\n",
    "pref_description_exploded = explode_and_append(pref_description_negatives, MemConcept_SkillsHier_description)\n",
    "alt_hidden_exploded = explode_and_append(alt_hidden_negatives, MemConcept_SkillsHier_hiddenLabel)\n",
    "alt_description_exploded = explode_and_append(alt_description_negatives, MemConcept_SkillsHier_description)\n",
    "hidden_description_exploded = explode_and_append(hidden_description_negatives, MemConcept_SkillsHier_description)"
   ],
   "metadata": {
    "collapsed": false
   }
  },
  {
   "cell_type": "code",
   "execution_count": null,
   "outputs": [],
   "source": [
    "full_data = [pref_alt_exploded,pref_hidden_exploded,pref_description_exploded,alt_hidden_exploded,alt_description_exploded,hidden_description_exploded]"
   ],
   "metadata": {
    "collapsed": false
   }
  },
  {
   "cell_type": "code",
   "execution_count": null,
   "outputs": [],
   "source": [
    "for df in full_data:\n",
    "    df.columns = ['anchor', 'positive_data', 'negative_data']"
   ],
   "metadata": {
    "collapsed": false
   }
  },
  {
   "cell_type": "code",
   "execution_count": null,
   "outputs": [],
   "source": [
    "all_negative_data_merged = pd.concat(full_data)"
   ],
   "metadata": {
    "collapsed": false
   }
  },
  {
   "cell_type": "code",
   "execution_count": null,
   "outputs": [],
   "source": [
    "all_negative_data_merged.shape"
   ],
   "metadata": {
    "collapsed": false
   }
  },
  {
   "cell_type": "code",
   "execution_count": null,
   "outputs": [],
   "source": [
    "all_negative_data_merged.dropna(inplace=True)"
   ],
   "metadata": {
    "collapsed": false
   }
  },
  {
   "cell_type": "code",
   "execution_count": null,
   "outputs": [],
   "source": [
    "all_negative_data_merged.shape"
   ],
   "metadata": {
    "collapsed": false
   }
  },
  {
   "cell_type": "code",
   "execution_count": null,
   "outputs": [],
   "source": [
    "all_negative_data_merged.drop_duplicates(inplace=True)"
   ],
   "metadata": {
    "collapsed": false
   }
  },
  {
   "cell_type": "code",
   "execution_count": null,
   "outputs": [],
   "source": [
    "all_negative_data_merged.memory_usage(index=True).sum()"
   ],
   "metadata": {
    "collapsed": false
   }
  },
  {
   "cell_type": "code",
   "execution_count": null,
   "outputs": [],
   "source": [
    "file_dir = f'/cluster/scratch/yakram/sbert-copy/turtle_files/mnr_data/{LANGUAGE}/skills_labels_triplet_pairs.csv'"
   ],
   "metadata": {
    "collapsed": false
   }
  },
  {
   "cell_type": "code",
   "execution_count": null,
   "outputs": [],
   "source": [
    "all_negative_data_merged.to_csv(file_dir, sep='\\t')"
   ],
   "metadata": {
    "collapsed": false
   }
  },
  {
   "cell_type": "code",
   "execution_count": null,
   "outputs": [],
   "source": [
    "raise"
   ],
   "metadata": {
    "collapsed": false
   }
  }
 ],
 "metadata": {
  "kernelspec": {
   "display_name": "Python 3",
   "language": "python",
   "name": "python3"
  },
  "language_info": {
   "codemirror_mode": {
    "name": "ipython",
    "version": 2
   },
   "file_extension": ".py",
   "mimetype": "text/x-python",
   "name": "python",
   "nbconvert_exporter": "python",
   "pygments_lexer": "ipython2",
   "version": "2.7.6"
  }
 },
 "nbformat": 4,
 "nbformat_minor": 0
}
