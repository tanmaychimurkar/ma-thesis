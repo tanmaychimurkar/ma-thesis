{
 "cells": [
  {
   "cell_type": "code",
   "execution_count": 1,
   "outputs": [],
   "source": [
    "LANGUAGE = 'de'"
   ],
   "metadata": {
    "collapsed": false
   }
  },
  {
   "cell_type": "code",
   "execution_count": 2,
   "metadata": {
    "collapsed": true
   },
   "outputs": [],
   "source": [
    "import os\n",
    "\n",
    "import pandas as pd\n",
    "from tqdm import tqdm\n",
    "\n",
    "tqdm.pandas()"
   ]
  },
  {
   "cell_type": "code",
   "execution_count": 3,
   "outputs": [
    {
     "data": {
      "text/plain": "'/cluster/scratch/yakram/sbert-copy/1_my_finetuning_scripts/mnr/data_creation'"
     },
     "execution_count": 3,
     "metadata": {},
     "output_type": "execute_result"
    }
   ],
   "source": [
    "os.getcwd()"
   ],
   "metadata": {
    "collapsed": false
   }
  },
  {
   "cell_type": "code",
   "execution_count": 4,
   "outputs": [],
   "source": [
    "CURRENT_FILE_LOCATION = os.path.dirname(os.getcwd())\n",
    "DATA_DIR = os.path.join(CURRENT_FILE_LOCATION, '../../turtle_files')"
   ],
   "metadata": {
    "collapsed": false
   }
  },
  {
   "cell_type": "code",
   "execution_count": 5,
   "outputs": [],
   "source": [
    "if LANGUAGE == 'en':\n",
    "    DATA_FILES_PATH = os.path.join(DATA_DIR, 'english_data')\n",
    "elif LANGUAGE == 'de':\n",
    "    DATA_FILES_PATH = os.path.join(DATA_DIR, 'german_data')\n",
    "\n",
    "NEGATIVE_FILE_PATH = os.path.join(DATA_DIR, f'Negative_mined_de.csv')"
   ],
   "metadata": {
    "collapsed": false
   }
  },
  {
   "cell_type": "code",
   "execution_count": 6,
   "outputs": [
    {
     "data": {
      "text/plain": "True"
     },
     "execution_count": 6,
     "metadata": {},
     "output_type": "execute_result"
    }
   ],
   "source": [
    "os.path.isfile(NEGATIVE_FILE_PATH)"
   ],
   "metadata": {
    "collapsed": false
   }
  },
  {
   "cell_type": "code",
   "execution_count": 7,
   "outputs": [],
   "source": [
    "MemConcept_prefLabel = pd.read_csv(os.path.join(DATA_FILES_PATH, 'query_MemConcept_prefLabel.rq'), sep='\\t', index_col=[0])\n",
    "MemConcept_altLabel = pd.read_csv(os.path.join(DATA_FILES_PATH, 'query_MemConcept_altLabel.rq'), sep='\\t', index_col=[0])\n",
    "MemConcept_hiddenLabel = pd.read_csv(os.path.join(DATA_FILES_PATH, 'query_MemConcept_hiddenLabel.rq'), sep='\\t', index_col=[0])\n",
    "MemConcept_description = pd.read_csv(os.path.join(DATA_FILES_PATH, 'query_MemConcept_description.rq'), sep='\\t', index_col=[0])\n",
    "MemConcept_schemes = pd.read_csv(os.path.join(DATA_FILES_PATH, 'query_MemConcept_Schemes.rq'), index_col=[0], delimiter='\\t')\n"
   ],
   "metadata": {
    "collapsed": false
   }
  },
  {
   "cell_type": "code",
   "execution_count": 8,
   "outputs": [],
   "source": [
    "SkillsHier_prefLabel = pd.read_csv(os.path.join(DATA_FILES_PATH, 'query_SkillsHier_prefLabel.rq'), sep='\\t', index_col=[0])\n",
    "SkillsHier_altLabel = pd.read_csv(os.path.join(DATA_FILES_PATH, 'query_SkillsHier_altLabel.rq'), sep='\\t', index_col=[0])\n",
    "SkillsHier_hiddenLabel = pd.read_csv(os.path.join(DATA_FILES_PATH, 'query_SkillsHier_hiddenLabel.rq'), sep='\\t', index_col=[0])\n",
    "SkillsHier_description = pd.read_csv(os.path.join(DATA_FILES_PATH, 'query_SkillsHier_description.rq'), sep='\\t', index_col=[0])\n",
    "SkillsHier_schemes = pd.read_csv(os.path.join(DATA_FILES_PATH, 'query_SkillsHier_Schemes.rq'), index_col=[0], delimiter='\\t')\n"
   ],
   "metadata": {
    "collapsed": false
   }
  },
  {
   "cell_type": "code",
   "execution_count": 9,
   "outputs": [],
   "source": [
    "SkillsHier_schemes.columns = MemConcept_schemes.columns"
   ],
   "metadata": {
    "collapsed": false
   }
  },
  {
   "cell_type": "code",
   "execution_count": 10,
   "outputs": [],
   "source": [
    "MemConcept_schemes_grouped = MemConcept_schemes.groupby('?a')['?schemes'].apply(list)\n",
    "SkillsHier_schemes_grouped = SkillsHier_schemes.groupby('?a')['?schemes'].apply(list)\n",
    "\n",
    "MemConcept_schemes = MemConcept_prefLabel.merge(MemConcept_schemes_grouped, on='?a', how='left')\n",
    "SkillsHier_schemes = SkillsHier_prefLabel.merge(SkillsHier_schemes_grouped, on='?a', how='left')"
   ],
   "metadata": {
    "collapsed": false
   }
  },
  {
   "cell_type": "code",
   "execution_count": 11,
   "outputs": [],
   "source": [
    "def get_concept_scheme(x):\n",
    "    concept_names = []\n",
    "    for elem in sorted(x):\n",
    "        concept_names.append(elem.split('/')[-1])\n",
    "    return concept_names\n",
    "\n",
    "def flag_concept_scheme(x):\n",
    "    if ('skills' in x) or ('skill' in x):\n",
    "        return 'skill'\n",
    "    elif ('occupation' in x) or ('occupations' in x):\n",
    "        return 'occupation'\n",
    "\n",
    "\n",
    "def get_skilltype_name(x):\n",
    "    last_uri_word= x.split('/')\n",
    "\n",
    "    if last_uri_word[-1] == 'knowledge':\n",
    "        return 'knowledge'\n",
    "    else:\n",
    "        return 'skill'"
   ],
   "metadata": {
    "collapsed": false
   }
  },
  {
   "cell_type": "code",
   "execution_count": 12,
   "outputs": [
    {
     "name": "stderr",
     "output_type": "stream",
     "text": [
      "100%|██████████| 16899/16899 [00:00<00:00, 358449.99it/s]\n",
      "100%|██████████| 638/638 [00:00<00:00, 248695.72it/s]\n",
      "100%|██████████| 16899/16899 [00:00<00:00, 844950.81it/s]\n",
      "100%|██████████| 17537/17537 [00:00<00:00, 834880.87it/s]\n"
     ]
    }
   ],
   "source": [
    "MemConcept_schemes['concept_schemes'] = MemConcept_schemes['?schemes'].progress_apply(get_concept_scheme)\n",
    "SkillsHier_schemes['concept_schemes'] = SkillsHier_schemes['?schemes'].progress_apply(get_concept_scheme)\n",
    "\n",
    "Memconcept_SkillsHier_combined = pd.concat([MemConcept_schemes, SkillsHier_schemes], ignore_index=True)\n",
    "\n",
    "MemConcept_schemes['concept_flag'] = MemConcept_schemes['concept_schemes'].progress_apply(flag_concept_scheme)\n",
    "Memconcept_SkillsHier_combined['concept_flag'] = Memconcept_SkillsHier_combined['concept_schemes'].progress_apply(flag_concept_scheme)"
   ],
   "metadata": {
    "collapsed": false
   }
  },
  {
   "cell_type": "code",
   "execution_count": 13,
   "outputs": [],
   "source": [
    "skills_uri = Memconcept_SkillsHier_combined[Memconcept_SkillsHier_combined['concept_flag'] == 'skill']['?a']"
   ],
   "metadata": {
    "collapsed": false
   }
  },
  {
   "cell_type": "code",
   "execution_count": 14,
   "outputs": [],
   "source": [
    "skills_uri.to_csv(os.path.join(DATA_FILES_PATH, 'query_concept_schemes_combined.rq'), sep='\\t')"
   ],
   "metadata": {
    "collapsed": false
   }
  },
  {
   "cell_type": "code",
   "execution_count": 15,
   "outputs": [],
   "source": [
    "MemConcept_SkillsHier_prefLabel = pd.concat([MemConcept_prefLabel, SkillsHier_prefLabel])\n",
    "MemConcept_SkillsHier_altLabel = pd.concat([MemConcept_altLabel, SkillsHier_altLabel])\n",
    "MemConcept_SkillsHier_hiddenLabel = pd.concat([MemConcept_hiddenLabel, SkillsHier_hiddenLabel])\n",
    "MemConcept_SkillsHier_description = pd.concat([MemConcept_description, SkillsHier_description])"
   ],
   "metadata": {
    "collapsed": false
   }
  },
  {
   "cell_type": "code",
   "execution_count": 16,
   "outputs": [],
   "source": [
    "def create_double_pair(df1, df2):\n",
    "\n",
    "    skills_copy = skills_uri.copy(deep=True)\n",
    "    skills_copy = pd.DataFrame(skills_copy)\n",
    "\n",
    "    combined_df = skills_copy.merge(df1, on=['?a'], how='left').merge(df2, on=['?a'], how='left')\n",
    "    combined_df.drop(columns=['?a'], inplace=True)\n",
    "    return combined_df"
   ],
   "metadata": {
    "collapsed": false
   }
  },
  {
   "cell_type": "code",
   "execution_count": 17,
   "outputs": [],
   "source": [
    "pref_alt_data = create_double_pair(MemConcept_SkillsHier_prefLabel, MemConcept_SkillsHier_altLabel)\n",
    "pref_hidden_data = create_double_pair(MemConcept_SkillsHier_prefLabel, MemConcept_SkillsHier_hiddenLabel)\n",
    "pref_description_data = create_double_pair(MemConcept_SkillsHier_prefLabel, MemConcept_SkillsHier_description)\n",
    "alt_hidden_data = create_double_pair(MemConcept_SkillsHier_altLabel, MemConcept_SkillsHier_hiddenLabel)\n",
    "alt_description_data = create_double_pair(MemConcept_SkillsHier_altLabel, MemConcept_SkillsHier_description)\n",
    "hidden_description_data = create_double_pair(MemConcept_SkillsHier_hiddenLabel, MemConcept_SkillsHier_description)"
   ],
   "metadata": {
    "collapsed": false
   }
  },
  {
   "cell_type": "code",
   "execution_count": 18,
   "outputs": [],
   "source": [
    "all_data = [pref_alt_data ,pref_hidden_data ,pref_description_data ,alt_hidden_data ,alt_description_data ,hidden_description_data]"
   ],
   "metadata": {
    "collapsed": false
   }
  },
  {
   "cell_type": "code",
   "execution_count": 19,
   "outputs": [],
   "source": [
    "for df in all_data:\n",
    "    df.columns = ['anchor', 'positive_pair']"
   ],
   "metadata": {
    "collapsed": false
   }
  },
  {
   "cell_type": "code",
   "execution_count": 20,
   "outputs": [],
   "source": [
    "skills_labels_valid_pairs = pd.concat([pref_alt_data ,pref_hidden_data ,pref_description_data ,alt_hidden_data ,alt_description_data ,hidden_description_data])"
   ],
   "metadata": {
    "collapsed": false
   }
  },
  {
   "cell_type": "code",
   "execution_count": 21,
   "outputs": [
    {
     "data": {
      "text/plain": "(96974, 2)"
     },
     "execution_count": 21,
     "metadata": {},
     "output_type": "execute_result"
    }
   ],
   "source": [
    "skills_labels_valid_pairs.shape"
   ],
   "metadata": {
    "collapsed": false
   }
  },
  {
   "cell_type": "code",
   "execution_count": 22,
   "outputs": [],
   "source": [
    "skills_labels_valid_pairs.drop_duplicates(inplace=True)\n",
    "skills_labels_valid_pairs.dropna(inplace=True)"
   ],
   "metadata": {
    "collapsed": false
   }
  },
  {
   "cell_type": "code",
   "execution_count": 23,
   "outputs": [
    {
     "data": {
      "text/plain": "(27367, 2)"
     },
     "execution_count": 23,
     "metadata": {},
     "output_type": "execute_result"
    }
   ],
   "source": [
    "skills_labels_valid_pairs.shape"
   ],
   "metadata": {
    "collapsed": false
   }
  },
  {
   "cell_type": "code",
   "execution_count": 24,
   "outputs": [],
   "source": [
    "skills_labels_valid_pairs.to_csv(os.path.join(DATA_FILES_PATH, f'../mnr_data/{LANGUAGE}', 'skills_labels_positive_pairs.csv'), sep='\\t')"
   ],
   "metadata": {
    "collapsed": false
   }
  },
  {
   "cell_type": "markdown",
   "source": [
    "# Adding negatives, in separate file"
   ],
   "metadata": {
    "collapsed": false
   }
  }
 ],
 "metadata": {
  "kernelspec": {
   "display_name": "Python 3",
   "language": "python",
   "name": "python3"
  },
  "language_info": {
   "codemirror_mode": {
    "name": "ipython",
    "version": 2
   },
   "file_extension": ".py",
   "mimetype": "text/x-python",
   "name": "python",
   "nbconvert_exporter": "python",
   "pygments_lexer": "ipython2",
   "version": "2.7.6"
  }
 },
 "nbformat": 4,
 "nbformat_minor": 0
}
