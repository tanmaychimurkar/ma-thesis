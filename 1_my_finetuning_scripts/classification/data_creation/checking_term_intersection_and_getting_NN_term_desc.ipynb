{
 "cells": [
  {
   "cell_type": "code",
   "execution_count": 1,
   "id": "f6166d75",
   "metadata": {},
   "outputs": [],
   "source": [
    "import pandas as pd\n",
    "import numpy as np\n",
    "import re\n",
    "from tqdm import tqdm\n",
    "tqdm.pandas()\n",
    "import os\n",
    "\n",
    "import argparse\n",
    "import logging\n",
    "import os\n",
    "import sys\n",
    "\n",
    "from torch.utils.tensorboard import SummaryWriter\n",
    "import pandas as pd\n",
    "import torch.optim\n",
    "from accelerate import Accelerator\n",
    "from sentence_transformers import SentenceTransformer, models\n",
    "from sentence_transformers import losses\n",
    "from sentence_transformers.datasets import NoDuplicatesDataLoader\n",
    "from sentence_transformers.readers import InputExample\n",
    "from tqdm import tqdm\n",
    "from sentence_transformers import SentenceTransformer, util\n",
    "\n",
    "import os\n",
    "os.environ['SENTENCE_TRANSFORMERS_HOME'] = '/cluster/scratch/yakram/conda_env/'\n",
    "\n",
    "os.environ['TOKENIZERS_PARALLELISM'] = 'true'"
   ]
  },
  {
   "cell_type": "code",
   "execution_count": 2,
   "id": "1ca77ac4",
   "metadata": {},
   "outputs": [
    {
     "name": "stdout",
     "output_type": "stream",
     "text": [
      "INFO: Pandarallel will run on 36 workers.\n",
      "INFO: Pandarallel will use Memory file system to transfer data between the main process and workers.\n"
     ]
    }
   ],
   "source": [
    "from pandarallel import pandarallel\n",
    "import random, ast\n",
    "pandarallel.initialize(progress_bar=True)"
   ]
  },
  {
   "cell_type": "code",
   "execution_count": 3,
   "id": "116b0add",
   "metadata": {},
   "outputs": [],
   "source": [
    "LANGUAGE = 'german'\n",
    "model_dir_language = 'de'\n",
    "\n",
    "data_dir = f'/cluster/scratch/yakram/sbert-copy/turtle_files/{LANGUAGE}_data/'"
   ]
  },
  {
   "cell_type": "code",
   "execution_count": 4,
   "id": "1f5fab31",
   "metadata": {},
   "outputs": [],
   "source": [
    "model = SentenceTransformer('symanto/sn-xlm-roberta-base-snli-mnli-anli-xnli') # german sentence transformer, en is different"
   ]
  },
  {
   "cell_type": "code",
   "execution_count": 5,
   "id": "40203b7f",
   "metadata": {},
   "outputs": [],
   "source": [
    "MemConcept_description = pd.read_csv(os.path.join(data_dir, 'query_MemConcept_description.rq'), sep='\\t', index_col=[0])\n",
    "SkillsHier_description = pd.read_csv(os.path.join(data_dir, 'query_SkillsHier_description.rq'), sep='\\t', index_col=[0])\n",
    "MemConcept_prefLabel = pd.read_csv(os.path.join(data_dir, 'query_MemConcept_prefLabel.rq'), sep='\\t', index_col=[0])\n",
    "SkillsHier_prefLabel = pd.read_csv(os.path.join(data_dir, 'query_SkillsHier_prefLabel.rq'), sep='\\t', index_col=[0])\n",
    "\n",
    "concept_schemes = pd.read_csv(os.path.join(data_dir, 'query_concept_schemes_combined.rq'), sep='\\t', index_col=[0])"
   ]
  },
  {
   "cell_type": "code",
   "execution_count": 6,
   "id": "5ed1d8d6",
   "metadata": {},
   "outputs": [
    {
     "data": {
      "text/plain": [
       "(13921, 3)"
      ]
     },
     "execution_count": 6,
     "metadata": {},
     "output_type": "execute_result"
    }
   ],
   "source": [
    "MemConcept_SkillsHier_prefLabel = pd.concat([MemConcept_prefLabel, SkillsHier_prefLabel])\n",
    "MemConcept_SkillsHier_description = pd.concat([MemConcept_description, SkillsHier_description])\n",
    "\n",
    "pref_desc_data = MemConcept_SkillsHier_prefLabel.merge(MemConcept_SkillsHier_description, on=['?a'], how='left')\n",
    "\n",
    "skill_pref_desc = concept_schemes.merge(pref_desc_data, on=['?a'], how='left')\n",
    "skill_pref_desc.dropna(inplace=True)\n",
    "\n",
    "skill_pref_desc.shape"
   ]
  },
  {
   "cell_type": "markdown",
   "id": "60924f19",
   "metadata": {},
   "source": [
    "### Check statistics of term-desc intersections in matching pairs"
   ]
  },
  {
   "cell_type": "code",
   "execution_count": 7,
   "id": "4888212d",
   "metadata": {},
   "outputs": [],
   "source": [
    "from nltk.corpus import stopwords\n",
    "\n",
    "stop_words = stopwords.words(LANGUAGE)"
   ]
  },
  {
   "cell_type": "code",
   "execution_count": 8,
   "id": "270f100d",
   "metadata": {},
   "outputs": [],
   "source": [
    "def check_subset(label, description):\n",
    "    label = label.lower()\n",
    "    description = description.lower()\n",
    "    \n",
    "    clean_label = re.sub(r'\\W+', ' ',label).split() # for german, only \\W+\n",
    "    clean_desc = re.sub(r'\\W+', ' ', description).split()\n",
    "    \n",
    "    labels_sw_removed = [label_term for label_term in clean_label if label_term not in stop_words]\n",
    "    desc_sw_removed = [desc_term for desc_term in clean_desc if desc_term not in stop_words]\n",
    "    \n",
    "    if len(desc_sw_removed) > 0:\n",
    "        intersections = len(set(labels_sw_removed).intersection(desc_sw_removed))/len(desc_sw_removed) # remove stopwords, and also set a threshold for intersection before removal\n",
    "    \n",
    "        return intersections\n",
    "    return 0\n",
    "        "
   ]
  },
  {
   "cell_type": "code",
   "execution_count": 9,
   "id": "14d90487",
   "metadata": {},
   "outputs": [],
   "source": [
    "skill_pref_desc.columns = ['?a', 'prefLabel', 'desc']"
   ]
  },
  {
   "cell_type": "code",
   "execution_count": 10,
   "id": "173c7f49",
   "metadata": {},
   "outputs": [
    {
     "data": {
      "application/vnd.jupyter.widget-view+json": {
       "model_id": "09fd8dc1bda94363b28d0b2dcdeb3420",
       "version_major": 2,
       "version_minor": 0
      },
      "text/plain": [
       "VBox(children=(HBox(children=(IntProgress(value=0, description='0.00%', max=387), Label(value='0 / 387'))), HB…"
      ]
     },
     "metadata": {},
     "output_type": "display_data"
    },
    {
     "data": {
      "application/vnd.jupyter.widget-view+json": {
       "model_id": "5b92e53889fc4f58a78676fb8076bd02",
       "version_major": 2,
       "version_minor": 0
      },
      "text/plain": [
       "VBox(children=(HBox(children=(IntProgress(value=0, description='0.00%', max=387), Label(value='0 / 387'))), HB…"
      ]
     },
     "metadata": {},
     "output_type": "display_data"
    }
   ],
   "source": [
    "skill_pref_desc['pref_desc_intesection'] = skill_pref_desc.parallel_apply(lambda x: check_subset(x.prefLabel, x.desc), axis=1)\n",
    "skill_pref_desc['desc_pref_intesection'] = skill_pref_desc.parallel_apply(lambda x: check_subset(x.desc, x.prefLabel), axis=1)"
   ]
  },
  {
   "cell_type": "code",
   "execution_count": 11,
   "id": "5c1f5a0a",
   "metadata": {},
   "outputs": [
    {
     "data": {
      "text/html": [
       "<div>\n",
       "<style scoped>\n",
       "    .dataframe tbody tr th:only-of-type {\n",
       "        vertical-align: middle;\n",
       "    }\n",
       "\n",
       "    .dataframe tbody tr th {\n",
       "        vertical-align: top;\n",
       "    }\n",
       "\n",
       "    .dataframe thead th {\n",
       "        text-align: right;\n",
       "    }\n",
       "</style>\n",
       "<table border=\"1\" class=\"dataframe\">\n",
       "  <thead>\n",
       "    <tr style=\"text-align: right;\">\n",
       "      <th></th>\n",
       "      <th>?a</th>\n",
       "      <th>prefLabel</th>\n",
       "      <th>desc</th>\n",
       "      <th>pref_desc_intesection</th>\n",
       "      <th>desc_pref_intesection</th>\n",
       "    </tr>\n",
       "  </thead>\n",
       "  <tbody>\n",
       "    <tr>\n",
       "      <th>0</th>\n",
       "      <td>http://data.europa.eu/esco/skill/29b326ea-a9c8...</td>\n",
       "      <td>Lebensmittelrohstoffe lagern</td>\n",
       "      <td>Lagerung von Rohstoffen und anderen Lebensmitt...</td>\n",
       "      <td>0.000000</td>\n",
       "      <td>0.000000</td>\n",
       "    </tr>\n",
       "    <tr>\n",
       "      <th>1</th>\n",
       "      <td>http://data.europa.eu/esco/skill/1a61a520-f4a5...</td>\n",
       "      <td>geschriebenes Irisch verstehen</td>\n",
       "      <td>Texte auf Irisch lesen und verstehen.</td>\n",
       "      <td>0.500000</td>\n",
       "      <td>0.666667</td>\n",
       "    </tr>\n",
       "    <tr>\n",
       "      <th>2</th>\n",
       "      <td>http://data.europa.eu/esco/skill/f6c10ed9-763a...</td>\n",
       "      <td>mit heißem Stickstoff arbeiten</td>\n",
       "      <td>Arbeiten mit heißem Stickstoff, indem dieser d...</td>\n",
       "      <td>0.500000</td>\n",
       "      <td>1.000000</td>\n",
       "    </tr>\n",
       "    <tr>\n",
       "      <th>3</th>\n",
       "      <td>http://data.europa.eu/esco/skill/7e11b04d-c6b5...</td>\n",
       "      <td>Patienten/Patientinnen zur Verbesserung des Sp...</td>\n",
       "      <td>Beraten und Anleiten von Patienten in Technike...</td>\n",
       "      <td>0.250000</td>\n",
       "      <td>0.400000</td>\n",
       "    </tr>\n",
       "    <tr>\n",
       "      <th>4</th>\n",
       "      <td>http://data.europa.eu/esco/skill/5279200c-d6ed...</td>\n",
       "      <td>Forschungsergebnisse in die Musiktherapie inte...</td>\n",
       "      <td>Nutzung der aus verschiedenen wissenschaftlich...</td>\n",
       "      <td>0.058824</td>\n",
       "      <td>0.333333</td>\n",
       "    </tr>\n",
       "  </tbody>\n",
       "</table>\n",
       "</div>"
      ],
      "text/plain": [
       "                                                  ?a  \\\n",
       "0  http://data.europa.eu/esco/skill/29b326ea-a9c8...   \n",
       "1  http://data.europa.eu/esco/skill/1a61a520-f4a5...   \n",
       "2  http://data.europa.eu/esco/skill/f6c10ed9-763a...   \n",
       "3  http://data.europa.eu/esco/skill/7e11b04d-c6b5...   \n",
       "4  http://data.europa.eu/esco/skill/5279200c-d6ed...   \n",
       "\n",
       "                                           prefLabel  \\\n",
       "0                       Lebensmittelrohstoffe lagern   \n",
       "1                     geschriebenes Irisch verstehen   \n",
       "2                     mit heißem Stickstoff arbeiten   \n",
       "3  Patienten/Patientinnen zur Verbesserung des Sp...   \n",
       "4  Forschungsergebnisse in die Musiktherapie inte...   \n",
       "\n",
       "                                                desc  pref_desc_intesection  \\\n",
       "0  Lagerung von Rohstoffen und anderen Lebensmitt...               0.000000   \n",
       "1              Texte auf Irisch lesen und verstehen.               0.500000   \n",
       "2  Arbeiten mit heißem Stickstoff, indem dieser d...               0.500000   \n",
       "3  Beraten und Anleiten von Patienten in Technike...               0.250000   \n",
       "4  Nutzung der aus verschiedenen wissenschaftlich...               0.058824   \n",
       "\n",
       "   desc_pref_intesection  \n",
       "0               0.000000  \n",
       "1               0.666667  \n",
       "2               1.000000  \n",
       "3               0.400000  \n",
       "4               0.333333  "
      ]
     },
     "execution_count": 11,
     "metadata": {},
     "output_type": "execute_result"
    }
   ],
   "source": [
    "skill_pref_desc.head()"
   ]
  },
  {
   "cell_type": "code",
   "execution_count": 12,
   "id": "dd1b3ccd",
   "metadata": {},
   "outputs": [
    {
     "data": {
      "text/plain": [
       "39.523022771352636"
      ]
     },
     "execution_count": 12,
     "metadata": {},
     "output_type": "execute_result"
    }
   ],
   "source": [
    "100*len(skill_pref_desc[skill_pref_desc['pref_desc_intesection'] == 0])/skill_pref_desc.shape[0]"
   ]
  },
  {
   "cell_type": "markdown",
   "id": "3353c1a2",
   "metadata": {},
   "source": [
    "### ENGLISH: only 10.23% of the label data is not available in the term descriptions, and so we can use nearest neighbours using term description as the anchor and the other descriptions as from the search space\n",
    "\n",
    "\n",
    "### GERMAN:  for german, the insterseciotn from preflabels into desc is 32.61%, still small, so also apply nn search to min negatives"
   ]
  },
  {
   "cell_type": "code",
   "execution_count": 13,
   "id": "e341793f",
   "metadata": {},
   "outputs": [],
   "source": [
    "# skill_pref_desc.to_csv(f'/cluster/scratch/yakram/sbert-copy/turtle_files/classification_data/{model_dir_language}/positive_intersections.csv', sep='\\t')"
   ]
  },
  {
   "cell_type": "markdown",
   "id": "a14ea5bc",
   "metadata": {},
   "source": [
    "### Check statistics of term desc intersections in negative pairs"
   ]
  },
  {
   "cell_type": "code",
   "execution_count": 14,
   "id": "c448accb",
   "metadata": {},
   "outputs": [],
   "source": [
    "negatives_file = pd.read_csv(os.path.join(data_dir, '../', 'negative_100.csv'), sep='\\t', index_col=[0])"
   ]
  },
  {
   "cell_type": "code",
   "execution_count": 15,
   "id": "95a376ee",
   "metadata": {},
   "outputs": [],
   "source": [
    "negatives_file.rename(columns={'main_uri': '?a'}, inplace=True)\n",
    "\n",
    "negatives_file_prefLabels = MemConcept_SkillsHier_prefLabel.merge(negatives_file, on=['?a'], how='left')\n",
    "negatives_file_prefLabels.dropna(inplace=True)\n",
    "\n",
    "negatives_file_prefLabels['negative_uris'] = negatives_file_prefLabels['negative_uris'].apply(lambda x: ast.literal_eval(x))\n",
    "\n",
    "negatives_with_main_uri = negatives_file_prefLabels.explode('negative_uris')\n",
    "\n",
    "negatives_with_main_uri.columns = ['main_uri', 'prefLabel', '?a']"
   ]
  },
  {
   "cell_type": "code",
   "execution_count": 16,
   "id": "274a37c9",
   "metadata": {},
   "outputs": [
    {
     "name": "stderr",
     "output_type": "stream",
     "text": [
      "/scratch/tmp.7262910.yakram/ipykernel_137919/2175954245.py:2: SettingWithCopyWarning: \n",
      "A value is trying to be set on a copy of a slice from a DataFrame\n",
      "\n",
      "See the caveats in the documentation: https://pandas.pydata.org/pandas-docs/stable/user_guide/indexing.html#returning-a-view-versus-a-copy\n",
      "  skills_desc.rename(columns={'desc': 'negative_desc'}, inplace=True)\n"
     ]
    },
    {
     "data": {
      "text/html": [
       "<div>\n",
       "<style scoped>\n",
       "    .dataframe tbody tr th:only-of-type {\n",
       "        vertical-align: middle;\n",
       "    }\n",
       "\n",
       "    .dataframe tbody tr th {\n",
       "        vertical-align: top;\n",
       "    }\n",
       "\n",
       "    .dataframe thead th {\n",
       "        text-align: right;\n",
       "    }\n",
       "</style>\n",
       "<table border=\"1\" class=\"dataframe\">\n",
       "  <thead>\n",
       "    <tr style=\"text-align: right;\">\n",
       "      <th></th>\n",
       "      <th>?a</th>\n",
       "      <th>negative_desc</th>\n",
       "    </tr>\n",
       "  </thead>\n",
       "  <tbody>\n",
       "    <tr>\n",
       "      <th>0</th>\n",
       "      <td>http://data.europa.eu/esco/skill/29b326ea-a9c8...</td>\n",
       "      <td>Lagerung von Rohstoffen und anderen Lebensmitt...</td>\n",
       "    </tr>\n",
       "    <tr>\n",
       "      <th>1</th>\n",
       "      <td>http://data.europa.eu/esco/skill/1a61a520-f4a5...</td>\n",
       "      <td>Texte auf Irisch lesen und verstehen.</td>\n",
       "    </tr>\n",
       "    <tr>\n",
       "      <th>2</th>\n",
       "      <td>http://data.europa.eu/esco/skill/f6c10ed9-763a...</td>\n",
       "      <td>Arbeiten mit heißem Stickstoff, indem dieser d...</td>\n",
       "    </tr>\n",
       "    <tr>\n",
       "      <th>3</th>\n",
       "      <td>http://data.europa.eu/esco/skill/7e11b04d-c6b5...</td>\n",
       "      <td>Beraten und Anleiten von Patienten in Technike...</td>\n",
       "    </tr>\n",
       "    <tr>\n",
       "      <th>4</th>\n",
       "      <td>http://data.europa.eu/esco/skill/5279200c-d6ed...</td>\n",
       "      <td>Nutzung der aus verschiedenen wissenschaftlich...</td>\n",
       "    </tr>\n",
       "  </tbody>\n",
       "</table>\n",
       "</div>"
      ],
      "text/plain": [
       "                                                  ?a  \\\n",
       "0  http://data.europa.eu/esco/skill/29b326ea-a9c8...   \n",
       "1  http://data.europa.eu/esco/skill/1a61a520-f4a5...   \n",
       "2  http://data.europa.eu/esco/skill/f6c10ed9-763a...   \n",
       "3  http://data.europa.eu/esco/skill/7e11b04d-c6b5...   \n",
       "4  http://data.europa.eu/esco/skill/5279200c-d6ed...   \n",
       "\n",
       "                                       negative_desc  \n",
       "0  Lagerung von Rohstoffen und anderen Lebensmitt...  \n",
       "1              Texte auf Irisch lesen und verstehen.  \n",
       "2  Arbeiten mit heißem Stickstoff, indem dieser d...  \n",
       "3  Beraten und Anleiten von Patienten in Technike...  \n",
       "4  Nutzung der aus verschiedenen wissenschaftlich...  "
      ]
     },
     "execution_count": 16,
     "metadata": {},
     "output_type": "execute_result"
    }
   ],
   "source": [
    "skills_desc = skill_pref_desc[['?a', 'desc']]\n",
    "skills_desc.rename(columns={'desc': 'negative_desc'}, inplace=True)\n",
    "\n",
    "skills_desc.head()"
   ]
  },
  {
   "cell_type": "code",
   "execution_count": 17,
   "id": "b4910e61",
   "metadata": {
    "scrolled": true
   },
   "outputs": [
    {
     "data": {
      "text/html": [
       "<div>\n",
       "<style scoped>\n",
       "    .dataframe tbody tr th:only-of-type {\n",
       "        vertical-align: middle;\n",
       "    }\n",
       "\n",
       "    .dataframe tbody tr th {\n",
       "        vertical-align: top;\n",
       "    }\n",
       "\n",
       "    .dataframe thead th {\n",
       "        text-align: right;\n",
       "    }\n",
       "</style>\n",
       "<table border=\"1\" class=\"dataframe\">\n",
       "  <thead>\n",
       "    <tr style=\"text-align: right;\">\n",
       "      <th></th>\n",
       "      <th>main_uri</th>\n",
       "      <th>prefLabel</th>\n",
       "      <th>?a</th>\n",
       "      <th>negative_desc</th>\n",
       "    </tr>\n",
       "  </thead>\n",
       "  <tbody>\n",
       "    <tr>\n",
       "      <th>0</th>\n",
       "      <td>http://data.europa.eu/esco/skill/29b326ea-a9c8...</td>\n",
       "      <td>Lebensmittelrohstoffe lagern</td>\n",
       "      <td>http://data.europa.eu/esco/skill/815d1585-1706...</td>\n",
       "      <td>Behandeln von Holz mit verschiedenen Chemikali...</td>\n",
       "    </tr>\n",
       "    <tr>\n",
       "      <th>1</th>\n",
       "      <td>http://data.europa.eu/esco/skill/29b326ea-a9c8...</td>\n",
       "      <td>Lebensmittelrohstoffe lagern</td>\n",
       "      <td>http://data.europa.eu/esco/skill/5e433def-210d...</td>\n",
       "      <td>Vorschriftsmäßige Entsorgung von Abfall unter ...</td>\n",
       "    </tr>\n",
       "    <tr>\n",
       "      <th>2</th>\n",
       "      <td>http://data.europa.eu/esco/skill/29b326ea-a9c8...</td>\n",
       "      <td>Lebensmittelrohstoffe lagern</td>\n",
       "      <td>http://data.europa.eu/esco/skill/5d1a7c14-188d...</td>\n",
       "      <td>Sicherstellen, dass die Reise reibungslos und ...</td>\n",
       "    </tr>\n",
       "    <tr>\n",
       "      <th>3</th>\n",
       "      <td>http://data.europa.eu/esco/skill/29b326ea-a9c8...</td>\n",
       "      <td>Lebensmittelrohstoffe lagern</td>\n",
       "      <td>http://data.europa.eu/esco/skill/8b6f2996-218b...</td>\n",
       "      <td>Die Grundsätze, Bewertungstechniken und Behand...</td>\n",
       "    </tr>\n",
       "    <tr>\n",
       "      <th>4</th>\n",
       "      <td>http://data.europa.eu/esco/skill/29b326ea-a9c8...</td>\n",
       "      <td>Lebensmittelrohstoffe lagern</td>\n",
       "      <td>http://data.europa.eu/esco/skill/779f5db1-66db...</td>\n",
       "      <td>Überwachen der einzelnen Produktionsbudgets un...</td>\n",
       "    </tr>\n",
       "  </tbody>\n",
       "</table>\n",
       "</div>"
      ],
      "text/plain": [
       "                                            main_uri  \\\n",
       "0  http://data.europa.eu/esco/skill/29b326ea-a9c8...   \n",
       "1  http://data.europa.eu/esco/skill/29b326ea-a9c8...   \n",
       "2  http://data.europa.eu/esco/skill/29b326ea-a9c8...   \n",
       "3  http://data.europa.eu/esco/skill/29b326ea-a9c8...   \n",
       "4  http://data.europa.eu/esco/skill/29b326ea-a9c8...   \n",
       "\n",
       "                      prefLabel  \\\n",
       "0  Lebensmittelrohstoffe lagern   \n",
       "1  Lebensmittelrohstoffe lagern   \n",
       "2  Lebensmittelrohstoffe lagern   \n",
       "3  Lebensmittelrohstoffe lagern   \n",
       "4  Lebensmittelrohstoffe lagern   \n",
       "\n",
       "                                                  ?a  \\\n",
       "0  http://data.europa.eu/esco/skill/815d1585-1706...   \n",
       "1  http://data.europa.eu/esco/skill/5e433def-210d...   \n",
       "2  http://data.europa.eu/esco/skill/5d1a7c14-188d...   \n",
       "3  http://data.europa.eu/esco/skill/8b6f2996-218b...   \n",
       "4  http://data.europa.eu/esco/skill/779f5db1-66db...   \n",
       "\n",
       "                                       negative_desc  \n",
       "0  Behandeln von Holz mit verschiedenen Chemikali...  \n",
       "1  Vorschriftsmäßige Entsorgung von Abfall unter ...  \n",
       "2  Sicherstellen, dass die Reise reibungslos und ...  \n",
       "3  Die Grundsätze, Bewertungstechniken und Behand...  \n",
       "4  Überwachen der einzelnen Produktionsbudgets un...  "
      ]
     },
     "execution_count": 17,
     "metadata": {},
     "output_type": "execute_result"
    }
   ],
   "source": [
    "negative_file_desc_merged = negatives_with_main_uri.merge(skills_desc, on=['?a'], how='left')\n",
    "\n",
    "negative_file_desc_merged.dropna(inplace=True)\n",
    "\n",
    "negative_file_desc_merged.head()"
   ]
  },
  {
   "cell_type": "code",
   "execution_count": 18,
   "id": "e8c690a5",
   "metadata": {
    "scrolled": true
   },
   "outputs": [
    {
     "data": {
      "application/vnd.jupyter.widget-view+json": {
       "model_id": "7bf990b00ebe441999beac1920284945",
       "version_major": 2,
       "version_minor": 0
      },
      "text/plain": [
       "VBox(children=(HBox(children=(IntProgress(value=0, description='0.00%', max=38672), Label(value='0 / 38672')))…"
      ]
     },
     "metadata": {},
     "output_type": "display_data"
    },
    {
     "data": {
      "application/vnd.jupyter.widget-view+json": {
       "model_id": "1a05f54b53c54bb0afdc84b58e8d4850",
       "version_major": 2,
       "version_minor": 0
      },
      "text/plain": [
       "VBox(children=(HBox(children=(IntProgress(value=0, description='0.00%', max=38672), Label(value='0 / 38672')))…"
      ]
     },
     "metadata": {},
     "output_type": "display_data"
    }
   ],
   "source": [
    "negative_file_desc_merged['pref_desc_intersection'] = negative_file_desc_merged.parallel_apply(lambda x: check_subset(x.prefLabel, x.negative_desc), axis=1)\n",
    "negative_file_desc_merged['desc_pref_intersection'] = negative_file_desc_merged.parallel_apply(lambda x: check_subset(x.negative_desc, x.prefLabel), axis=1)"
   ]
  },
  {
   "cell_type": "code",
   "execution_count": 19,
   "id": "ef159269",
   "metadata": {
    "scrolled": true
   },
   "outputs": [
    {
     "data": {
      "text/html": [
       "<div>\n",
       "<style scoped>\n",
       "    .dataframe tbody tr th:only-of-type {\n",
       "        vertical-align: middle;\n",
       "    }\n",
       "\n",
       "    .dataframe tbody tr th {\n",
       "        vertical-align: top;\n",
       "    }\n",
       "\n",
       "    .dataframe thead th {\n",
       "        text-align: right;\n",
       "    }\n",
       "</style>\n",
       "<table border=\"1\" class=\"dataframe\">\n",
       "  <thead>\n",
       "    <tr style=\"text-align: right;\">\n",
       "      <th></th>\n",
       "      <th>main_uri</th>\n",
       "      <th>prefLabel</th>\n",
       "      <th>?a</th>\n",
       "      <th>negative_desc</th>\n",
       "      <th>pref_desc_intersection</th>\n",
       "      <th>desc_pref_intersection</th>\n",
       "    </tr>\n",
       "  </thead>\n",
       "  <tbody>\n",
       "    <tr>\n",
       "      <th>0</th>\n",
       "      <td>http://data.europa.eu/esco/skill/29b326ea-a9c8...</td>\n",
       "      <td>Lebensmittelrohstoffe lagern</td>\n",
       "      <td>http://data.europa.eu/esco/skill/815d1585-1706...</td>\n",
       "      <td>Behandeln von Holz mit verschiedenen Chemikali...</td>\n",
       "      <td>0.0</td>\n",
       "      <td>0.0</td>\n",
       "    </tr>\n",
       "    <tr>\n",
       "      <th>1</th>\n",
       "      <td>http://data.europa.eu/esco/skill/29b326ea-a9c8...</td>\n",
       "      <td>Lebensmittelrohstoffe lagern</td>\n",
       "      <td>http://data.europa.eu/esco/skill/5e433def-210d...</td>\n",
       "      <td>Vorschriftsmäßige Entsorgung von Abfall unter ...</td>\n",
       "      <td>0.0</td>\n",
       "      <td>0.0</td>\n",
       "    </tr>\n",
       "    <tr>\n",
       "      <th>2</th>\n",
       "      <td>http://data.europa.eu/esco/skill/29b326ea-a9c8...</td>\n",
       "      <td>Lebensmittelrohstoffe lagern</td>\n",
       "      <td>http://data.europa.eu/esco/skill/5d1a7c14-188d...</td>\n",
       "      <td>Sicherstellen, dass die Reise reibungslos und ...</td>\n",
       "      <td>0.0</td>\n",
       "      <td>0.0</td>\n",
       "    </tr>\n",
       "    <tr>\n",
       "      <th>3</th>\n",
       "      <td>http://data.europa.eu/esco/skill/29b326ea-a9c8...</td>\n",
       "      <td>Lebensmittelrohstoffe lagern</td>\n",
       "      <td>http://data.europa.eu/esco/skill/8b6f2996-218b...</td>\n",
       "      <td>Die Grundsätze, Bewertungstechniken und Behand...</td>\n",
       "      <td>0.0</td>\n",
       "      <td>0.0</td>\n",
       "    </tr>\n",
       "    <tr>\n",
       "      <th>4</th>\n",
       "      <td>http://data.europa.eu/esco/skill/29b326ea-a9c8...</td>\n",
       "      <td>Lebensmittelrohstoffe lagern</td>\n",
       "      <td>http://data.europa.eu/esco/skill/779f5db1-66db...</td>\n",
       "      <td>Überwachen der einzelnen Produktionsbudgets un...</td>\n",
       "      <td>0.0</td>\n",
       "      <td>0.0</td>\n",
       "    </tr>\n",
       "  </tbody>\n",
       "</table>\n",
       "</div>"
      ],
      "text/plain": [
       "                                            main_uri  \\\n",
       "0  http://data.europa.eu/esco/skill/29b326ea-a9c8...   \n",
       "1  http://data.europa.eu/esco/skill/29b326ea-a9c8...   \n",
       "2  http://data.europa.eu/esco/skill/29b326ea-a9c8...   \n",
       "3  http://data.europa.eu/esco/skill/29b326ea-a9c8...   \n",
       "4  http://data.europa.eu/esco/skill/29b326ea-a9c8...   \n",
       "\n",
       "                      prefLabel  \\\n",
       "0  Lebensmittelrohstoffe lagern   \n",
       "1  Lebensmittelrohstoffe lagern   \n",
       "2  Lebensmittelrohstoffe lagern   \n",
       "3  Lebensmittelrohstoffe lagern   \n",
       "4  Lebensmittelrohstoffe lagern   \n",
       "\n",
       "                                                  ?a  \\\n",
       "0  http://data.europa.eu/esco/skill/815d1585-1706...   \n",
       "1  http://data.europa.eu/esco/skill/5e433def-210d...   \n",
       "2  http://data.europa.eu/esco/skill/5d1a7c14-188d...   \n",
       "3  http://data.europa.eu/esco/skill/8b6f2996-218b...   \n",
       "4  http://data.europa.eu/esco/skill/779f5db1-66db...   \n",
       "\n",
       "                                       negative_desc  pref_desc_intersection  \\\n",
       "0  Behandeln von Holz mit verschiedenen Chemikali...                     0.0   \n",
       "1  Vorschriftsmäßige Entsorgung von Abfall unter ...                     0.0   \n",
       "2  Sicherstellen, dass die Reise reibungslos und ...                     0.0   \n",
       "3  Die Grundsätze, Bewertungstechniken und Behand...                     0.0   \n",
       "4  Überwachen der einzelnen Produktionsbudgets un...                     0.0   \n",
       "\n",
       "   desc_pref_intersection  \n",
       "0                     0.0  \n",
       "1                     0.0  \n",
       "2                     0.0  \n",
       "3                     0.0  \n",
       "4                     0.0  "
      ]
     },
     "execution_count": 19,
     "metadata": {},
     "output_type": "execute_result"
    }
   ],
   "source": [
    "negative_file_desc_merged.head()"
   ]
  },
  {
   "cell_type": "code",
   "execution_count": 20,
   "id": "f6882789",
   "metadata": {},
   "outputs": [],
   "source": [
    "# negative_file_desc_merged.to_csv(f'/cluster/scratch/yakram/sbert-copy/turtle_files/classification_data/{model_dir_language}/negative_intersections.csv', sep='\\t')"
   ]
  },
  {
   "cell_type": "code",
   "execution_count": 21,
   "id": "d47e0a35",
   "metadata": {},
   "outputs": [
    {
     "data": {
      "text/plain": [
       "98.84805238463285"
      ]
     },
     "execution_count": 21,
     "metadata": {},
     "output_type": "execute_result"
    }
   ],
   "source": [
    "100*len(negative_file_desc_merged[negative_file_desc_merged['pref_desc_intersection'] == 0])/negative_file_desc_merged.shape[0]"
   ]
  },
  {
   "cell_type": "code",
   "execution_count": 22,
   "id": "ab1d70d1",
   "metadata": {},
   "outputs": [
    {
     "data": {
      "text/plain": [
       "13921"
      ]
     },
     "execution_count": 22,
     "metadata": {},
     "output_type": "execute_result"
    }
   ],
   "source": [
    "negative_file_desc_merged['?a'].nunique()"
   ]
  },
  {
   "cell_type": "code",
   "execution_count": 23,
   "id": "ec0bae65",
   "metadata": {},
   "outputs": [
    {
     "data": {
      "text/plain": [
       "(7677, (16037,))"
      ]
     },
     "execution_count": 23,
     "metadata": {},
     "output_type": "execute_result"
    }
   ],
   "source": [
    "negative_file_desc_merged[negative_file_desc_merged['pref_desc_intersection'] > 0]['?a'].nunique(), negative_file_desc_merged[negative_file_desc_merged['pref_desc_intersection'] > 0]['?a'].shape"
   ]
  },
  {
   "cell_type": "code",
   "execution_count": 24,
   "id": "4de2b9a6",
   "metadata": {},
   "outputs": [],
   "source": [
    "# raise"
   ]
  },
  {
   "cell_type": "markdown",
   "id": "e3b2f654",
   "metadata": {},
   "source": [
    "### merging original and the negative pairs with both their scores"
   ]
  },
  {
   "cell_type": "code",
   "execution_count": 25,
   "id": "6cb445d2",
   "metadata": {},
   "outputs": [
    {
     "data": {
      "text/plain": [
       "Index(['main_uri', 'prefLabel', '?a', 'negative_desc',\n",
       "       'pref_desc_intersection', 'desc_pref_intersection'],\n",
       "      dtype='object')"
      ]
     },
     "execution_count": 25,
     "metadata": {},
     "output_type": "execute_result"
    }
   ],
   "source": [
    "negative_file_desc_merged.columns"
   ]
  },
  {
   "cell_type": "code",
   "execution_count": 26,
   "id": "82edaa81",
   "metadata": {},
   "outputs": [
    {
     "data": {
      "text/plain": [
       "Index(['?a', 'prefLabel', 'desc', 'pref_desc_intesection',\n",
       "       'desc_pref_intesection'],\n",
       "      dtype='object')"
      ]
     },
     "execution_count": 26,
     "metadata": {},
     "output_type": "execute_result"
    }
   ],
   "source": [
    "skill_pref_desc.columns"
   ]
  },
  {
   "cell_type": "code",
   "execution_count": 27,
   "id": "ac1768ae",
   "metadata": {},
   "outputs": [],
   "source": [
    "skill_pref_desc.columns = ['?a', 'prefLabel', 'desc_positive', 'positive_pref_desc_intesection',\n",
    "       'positive_desc_pref_intesection']"
   ]
  },
  {
   "cell_type": "code",
   "execution_count": 28,
   "id": "42896eca",
   "metadata": {},
   "outputs": [],
   "source": [
    "negative_file_filtered = negative_file_desc_merged[['main_uri', 'prefLabel', 'negative_desc', 'pref_desc_intersection',\n",
    "                                                   'desc_pref_intersection']]\n",
    "\n",
    "negative_file_filtered.columns = ['?a', 'prefLabel', 'desc_negative', 'negative_pref_desc_intesection',\n",
    "       'negative_desc_pref_intesection']"
   ]
  },
  {
   "cell_type": "code",
   "execution_count": 29,
   "id": "f3125f29",
   "metadata": {},
   "outputs": [],
   "source": [
    "triplets_with_intersections_full = negative_file_filtered.merge(skill_pref_desc, on=['?a', 'prefLabel'], how='left')"
   ]
  },
  {
   "cell_type": "code",
   "execution_count": 30,
   "id": "c33010b8",
   "metadata": {},
   "outputs": [
    {
     "data": {
      "text/html": [
       "<div>\n",
       "<style scoped>\n",
       "    .dataframe tbody tr th:only-of-type {\n",
       "        vertical-align: middle;\n",
       "    }\n",
       "\n",
       "    .dataframe tbody tr th {\n",
       "        vertical-align: top;\n",
       "    }\n",
       "\n",
       "    .dataframe thead th {\n",
       "        text-align: right;\n",
       "    }\n",
       "</style>\n",
       "<table border=\"1\" class=\"dataframe\">\n",
       "  <thead>\n",
       "    <tr style=\"text-align: right;\">\n",
       "      <th></th>\n",
       "      <th>?a</th>\n",
       "      <th>prefLabel</th>\n",
       "      <th>desc_negative</th>\n",
       "      <th>negative_pref_desc_intesection</th>\n",
       "      <th>negative_desc_pref_intesection</th>\n",
       "      <th>desc_positive</th>\n",
       "      <th>positive_pref_desc_intesection</th>\n",
       "      <th>positive_desc_pref_intesection</th>\n",
       "    </tr>\n",
       "  </thead>\n",
       "  <tbody>\n",
       "    <tr>\n",
       "      <th>0</th>\n",
       "      <td>http://data.europa.eu/esco/skill/29b326ea-a9c8...</td>\n",
       "      <td>Lebensmittelrohstoffe lagern</td>\n",
       "      <td>Behandeln von Holz mit verschiedenen Chemikali...</td>\n",
       "      <td>0.0</td>\n",
       "      <td>0.0</td>\n",
       "      <td>Lagerung von Rohstoffen und anderen Lebensmitt...</td>\n",
       "      <td>0.0</td>\n",
       "      <td>0.0</td>\n",
       "    </tr>\n",
       "    <tr>\n",
       "      <th>1</th>\n",
       "      <td>http://data.europa.eu/esco/skill/29b326ea-a9c8...</td>\n",
       "      <td>Lebensmittelrohstoffe lagern</td>\n",
       "      <td>Vorschriftsmäßige Entsorgung von Abfall unter ...</td>\n",
       "      <td>0.0</td>\n",
       "      <td>0.0</td>\n",
       "      <td>Lagerung von Rohstoffen und anderen Lebensmitt...</td>\n",
       "      <td>0.0</td>\n",
       "      <td>0.0</td>\n",
       "    </tr>\n",
       "    <tr>\n",
       "      <th>2</th>\n",
       "      <td>http://data.europa.eu/esco/skill/29b326ea-a9c8...</td>\n",
       "      <td>Lebensmittelrohstoffe lagern</td>\n",
       "      <td>Sicherstellen, dass die Reise reibungslos und ...</td>\n",
       "      <td>0.0</td>\n",
       "      <td>0.0</td>\n",
       "      <td>Lagerung von Rohstoffen und anderen Lebensmitt...</td>\n",
       "      <td>0.0</td>\n",
       "      <td>0.0</td>\n",
       "    </tr>\n",
       "    <tr>\n",
       "      <th>3</th>\n",
       "      <td>http://data.europa.eu/esco/skill/29b326ea-a9c8...</td>\n",
       "      <td>Lebensmittelrohstoffe lagern</td>\n",
       "      <td>Die Grundsätze, Bewertungstechniken und Behand...</td>\n",
       "      <td>0.0</td>\n",
       "      <td>0.0</td>\n",
       "      <td>Lagerung von Rohstoffen und anderen Lebensmitt...</td>\n",
       "      <td>0.0</td>\n",
       "      <td>0.0</td>\n",
       "    </tr>\n",
       "    <tr>\n",
       "      <th>4</th>\n",
       "      <td>http://data.europa.eu/esco/skill/29b326ea-a9c8...</td>\n",
       "      <td>Lebensmittelrohstoffe lagern</td>\n",
       "      <td>Überwachen der einzelnen Produktionsbudgets un...</td>\n",
       "      <td>0.0</td>\n",
       "      <td>0.0</td>\n",
       "      <td>Lagerung von Rohstoffen und anderen Lebensmitt...</td>\n",
       "      <td>0.0</td>\n",
       "      <td>0.0</td>\n",
       "    </tr>\n",
       "  </tbody>\n",
       "</table>\n",
       "</div>"
      ],
      "text/plain": [
       "                                                  ?a  \\\n",
       "0  http://data.europa.eu/esco/skill/29b326ea-a9c8...   \n",
       "1  http://data.europa.eu/esco/skill/29b326ea-a9c8...   \n",
       "2  http://data.europa.eu/esco/skill/29b326ea-a9c8...   \n",
       "3  http://data.europa.eu/esco/skill/29b326ea-a9c8...   \n",
       "4  http://data.europa.eu/esco/skill/29b326ea-a9c8...   \n",
       "\n",
       "                      prefLabel  \\\n",
       "0  Lebensmittelrohstoffe lagern   \n",
       "1  Lebensmittelrohstoffe lagern   \n",
       "2  Lebensmittelrohstoffe lagern   \n",
       "3  Lebensmittelrohstoffe lagern   \n",
       "4  Lebensmittelrohstoffe lagern   \n",
       "\n",
       "                                       desc_negative  \\\n",
       "0  Behandeln von Holz mit verschiedenen Chemikali...   \n",
       "1  Vorschriftsmäßige Entsorgung von Abfall unter ...   \n",
       "2  Sicherstellen, dass die Reise reibungslos und ...   \n",
       "3  Die Grundsätze, Bewertungstechniken und Behand...   \n",
       "4  Überwachen der einzelnen Produktionsbudgets un...   \n",
       "\n",
       "   negative_pref_desc_intesection  negative_desc_pref_intesection  \\\n",
       "0                             0.0                             0.0   \n",
       "1                             0.0                             0.0   \n",
       "2                             0.0                             0.0   \n",
       "3                             0.0                             0.0   \n",
       "4                             0.0                             0.0   \n",
       "\n",
       "                                       desc_positive  \\\n",
       "0  Lagerung von Rohstoffen und anderen Lebensmitt...   \n",
       "1  Lagerung von Rohstoffen und anderen Lebensmitt...   \n",
       "2  Lagerung von Rohstoffen und anderen Lebensmitt...   \n",
       "3  Lagerung von Rohstoffen und anderen Lebensmitt...   \n",
       "4  Lagerung von Rohstoffen und anderen Lebensmitt...   \n",
       "\n",
       "   positive_pref_desc_intesection  positive_desc_pref_intesection  \n",
       "0                             0.0                             0.0  \n",
       "1                             0.0                             0.0  \n",
       "2                             0.0                             0.0  \n",
       "3                             0.0                             0.0  \n",
       "4                             0.0                             0.0  "
      ]
     },
     "execution_count": 30,
     "metadata": {},
     "output_type": "execute_result"
    }
   ],
   "source": [
    "triplets_with_intersections_full.head()"
   ]
  },
  {
   "cell_type": "code",
   "execution_count": 31,
   "id": "c11ac579",
   "metadata": {},
   "outputs": [
    {
     "data": {
      "text/plain": [
       "(1392164, 8)"
      ]
     },
     "execution_count": 31,
     "metadata": {},
     "output_type": "execute_result"
    }
   ],
   "source": [
    "triplets_with_intersections_full.shape"
   ]
  },
  {
   "cell_type": "code",
   "execution_count": 32,
   "id": "61f924e2",
   "metadata": {},
   "outputs": [],
   "source": [
    "triplets_with_intersections_full.dropna(inplace=True)"
   ]
  },
  {
   "cell_type": "code",
   "execution_count": 33,
   "id": "e06c5d34",
   "metadata": {},
   "outputs": [],
   "source": [
    "# triplets_with_intersections_full.to_csv(f'/cluster/scratch/yakram/sbert-copy/turtle_files/classification_data/{model_dir_language}/triplets_with_intersection_only.csv', sep='\\t')"
   ]
  },
  {
   "cell_type": "markdown",
   "id": "788c0573",
   "metadata": {},
   "source": [
    "### get nearest neighbours for prefLabel and positive descriptions"
   ]
  },
  {
   "cell_type": "code",
   "execution_count": 34,
   "id": "ab748ddf",
   "metadata": {},
   "outputs": [
    {
     "data": {
      "text/plain": [
       "SentenceTransformer(\n",
       "  (0): Transformer({'max_seq_length': 128, 'do_lower_case': False}) with Transformer model: XLMRobertaModel \n",
       "  (1): Pooling({'word_embedding_dimension': 768, 'pooling_mode_cls_token': False, 'pooling_mode_mean_tokens': True, 'pooling_mode_max_tokens': False, 'pooling_mode_mean_sqrt_len_tokens': False})\n",
       ")"
      ]
     },
     "execution_count": 34,
     "metadata": {},
     "output_type": "execute_result"
    }
   ],
   "source": [
    "model.to('cuda')\n",
    "model"
   ]
  },
  {
   "cell_type": "code",
   "execution_count": 35,
   "id": "d057c135",
   "metadata": {},
   "outputs": [],
   "source": [
    "negative_pref_data = negative_file_filtered[['?a', 'prefLabel', 'desc_negative']]"
   ]
  },
  {
   "cell_type": "code",
   "execution_count": 36,
   "id": "1362455e",
   "metadata": {},
   "outputs": [],
   "source": [
    "negative_pref_data_grouped = negative_pref_data.groupby(by=['?a','prefLabel'])['desc_negative'].apply(list).reset_index()"
   ]
  },
  {
   "cell_type": "code",
   "execution_count": 37,
   "id": "78cccfc3",
   "metadata": {},
   "outputs": [
    {
     "data": {
      "text/html": [
       "<div>\n",
       "<style scoped>\n",
       "    .dataframe tbody tr th:only-of-type {\n",
       "        vertical-align: middle;\n",
       "    }\n",
       "\n",
       "    .dataframe tbody tr th {\n",
       "        vertical-align: top;\n",
       "    }\n",
       "\n",
       "    .dataframe thead th {\n",
       "        text-align: right;\n",
       "    }\n",
       "</style>\n",
       "<table border=\"1\" class=\"dataframe\">\n",
       "  <thead>\n",
       "    <tr style=\"text-align: right;\">\n",
       "      <th></th>\n",
       "      <th>?a</th>\n",
       "      <th>prefLabel</th>\n",
       "      <th>desc_negative</th>\n",
       "    </tr>\n",
       "  </thead>\n",
       "  <tbody>\n",
       "    <tr>\n",
       "      <th>0</th>\n",
       "      <td>http://data.europa.eu/esco/isced-f/00</td>\n",
       "      <td>Allgemeine Bildungsprogramme und Qualifikationen</td>\n",
       "      <td>[Anwenden von Verfahren und Techniken, die gee...</td>\n",
       "    </tr>\n",
       "    <tr>\n",
       "      <th>1</th>\n",
       "      <td>http://data.europa.eu/esco/isced-f/000</td>\n",
       "      <td>Allgemeine Bildungsprogramme und Qualifikation...</td>\n",
       "      <td>[Vermessen des Platzes für eine Vorstellung, u...</td>\n",
       "    </tr>\n",
       "    <tr>\n",
       "      <th>2</th>\n",
       "      <td>http://data.europa.eu/esco/isced-f/0000</td>\n",
       "      <td>Allgemeine Bildungsprogramme und Qualifikation...</td>\n",
       "      <td>[Erhebliche medizinische Probleme in einer Wei...</td>\n",
       "    </tr>\n",
       "    <tr>\n",
       "      <th>3</th>\n",
       "      <td>http://data.europa.eu/esco/isced-f/001</td>\n",
       "      <td>Grundlegende Bildungsprogramme und Qualifikati...</td>\n",
       "      <td>[Die angebotenen psychologischen Gesundheitsma...</td>\n",
       "    </tr>\n",
       "    <tr>\n",
       "      <th>4</th>\n",
       "      <td>http://data.europa.eu/esco/isced-f/0011</td>\n",
       "      <td>Grundlegende Bildungsprogramme und Qualifikati...</td>\n",
       "      <td>[Die medizinische Behandlungsmethode, bei der ...</td>\n",
       "    </tr>\n",
       "  </tbody>\n",
       "</table>\n",
       "</div>"
      ],
      "text/plain": [
       "                                        ?a  \\\n",
       "0    http://data.europa.eu/esco/isced-f/00   \n",
       "1   http://data.europa.eu/esco/isced-f/000   \n",
       "2  http://data.europa.eu/esco/isced-f/0000   \n",
       "3   http://data.europa.eu/esco/isced-f/001   \n",
       "4  http://data.europa.eu/esco/isced-f/0011   \n",
       "\n",
       "                                           prefLabel  \\\n",
       "0   Allgemeine Bildungsprogramme und Qualifikationen   \n",
       "1  Allgemeine Bildungsprogramme und Qualifikation...   \n",
       "2  Allgemeine Bildungsprogramme und Qualifikation...   \n",
       "3  Grundlegende Bildungsprogramme und Qualifikati...   \n",
       "4  Grundlegende Bildungsprogramme und Qualifikati...   \n",
       "\n",
       "                                       desc_negative  \n",
       "0  [Anwenden von Verfahren und Techniken, die gee...  \n",
       "1  [Vermessen des Platzes für eine Vorstellung, u...  \n",
       "2  [Erhebliche medizinische Probleme in einer Wei...  \n",
       "3  [Die angebotenen psychologischen Gesundheitsma...  \n",
       "4  [Die medizinische Behandlungsmethode, bei der ...  "
      ]
     },
     "execution_count": 37,
     "metadata": {},
     "output_type": "execute_result"
    }
   ],
   "source": [
    "negative_pref_data_grouped.head()"
   ]
  },
  {
   "cell_type": "code",
   "execution_count": 38,
   "id": "ef186cba",
   "metadata": {},
   "outputs": [],
   "source": [
    "def find_negatives_by_nn(main_uri, df_copy):\n",
    "    \n",
    "    df_copy_grouped = df_copy[df_copy['?a'] == main_uri]\n",
    "    negative_corpus = df_copy_grouped['desc_negative'].iloc[0]\n",
    "    main_term = df_copy_grouped['prefLabel'].unique().tolist()\n",
    "    \n",
    "    negative_embeddings = model.encode(negative_corpus, convert_to_tensor=True)\n",
    "    query_embedding = model.encode(main_term, convert_to_tensor=True)\n",
    "    \n",
    "    hits = util.semantic_search(query_embedding, negative_embeddings, score_function=util.cos_sim, top_k=1000)\n",
    "    \n",
    "    return str(hits[0])"
   ]
  },
  {
   "cell_type": "code",
   "execution_count": 39,
   "id": "6c465e99",
   "metadata": {
    "scrolled": true
   },
   "outputs": [
    {
     "name": "stderr",
     "output_type": "stream",
     "text": [
      "100%|██████████| 14525/14525 [35:29<00:00,  6.82it/s]\n"
     ]
    }
   ],
   "source": [
    "negative_pref_data_grouped['hits'] = negative_pref_data_grouped.progress_apply(lambda x: find_negatives_by_nn(x['?a'], negative_pref_data_grouped), axis=1)"
   ]
  },
  {
   "cell_type": "code",
   "execution_count": 40,
   "id": "8fcfa99c",
   "metadata": {},
   "outputs": [
    {
     "data": {
      "text/html": [
       "<div>\n",
       "<style scoped>\n",
       "    .dataframe tbody tr th:only-of-type {\n",
       "        vertical-align: middle;\n",
       "    }\n",
       "\n",
       "    .dataframe tbody tr th {\n",
       "        vertical-align: top;\n",
       "    }\n",
       "\n",
       "    .dataframe thead th {\n",
       "        text-align: right;\n",
       "    }\n",
       "</style>\n",
       "<table border=\"1\" class=\"dataframe\">\n",
       "  <thead>\n",
       "    <tr style=\"text-align: right;\">\n",
       "      <th></th>\n",
       "      <th>?a</th>\n",
       "      <th>prefLabel</th>\n",
       "      <th>desc_negative</th>\n",
       "      <th>hits</th>\n",
       "    </tr>\n",
       "  </thead>\n",
       "  <tbody>\n",
       "    <tr>\n",
       "      <th>0</th>\n",
       "      <td>http://data.europa.eu/esco/isced-f/00</td>\n",
       "      <td>Allgemeine Bildungsprogramme und Qualifikationen</td>\n",
       "      <td>[Anwenden von Verfahren und Techniken, die gee...</td>\n",
       "      <td>[{'corpus_id': 85, 'score': 0.4064350724220276...</td>\n",
       "    </tr>\n",
       "    <tr>\n",
       "      <th>1</th>\n",
       "      <td>http://data.europa.eu/esco/isced-f/000</td>\n",
       "      <td>Allgemeine Bildungsprogramme und Qualifikation...</td>\n",
       "      <td>[Vermessen des Platzes für eine Vorstellung, u...</td>\n",
       "      <td>[{'corpus_id': 9, 'score': 0.22099244594573975...</td>\n",
       "    </tr>\n",
       "    <tr>\n",
       "      <th>2</th>\n",
       "      <td>http://data.europa.eu/esco/isced-f/0000</td>\n",
       "      <td>Allgemeine Bildungsprogramme und Qualifikation...</td>\n",
       "      <td>[Erhebliche medizinische Probleme in einer Wei...</td>\n",
       "      <td>[{'corpus_id': 31, 'score': 0.3141812086105346...</td>\n",
       "    </tr>\n",
       "    <tr>\n",
       "      <th>3</th>\n",
       "      <td>http://data.europa.eu/esco/isced-f/001</td>\n",
       "      <td>Grundlegende Bildungsprogramme und Qualifikati...</td>\n",
       "      <td>[Die angebotenen psychologischen Gesundheitsma...</td>\n",
       "      <td>[{'corpus_id': 37, 'score': 0.6379895806312561...</td>\n",
       "    </tr>\n",
       "    <tr>\n",
       "      <th>4</th>\n",
       "      <td>http://data.europa.eu/esco/isced-f/0011</td>\n",
       "      <td>Grundlegende Bildungsprogramme und Qualifikati...</td>\n",
       "      <td>[Die medizinische Behandlungsmethode, bei der ...</td>\n",
       "      <td>[{'corpus_id': 75, 'score': 0.5975141525268555...</td>\n",
       "    </tr>\n",
       "  </tbody>\n",
       "</table>\n",
       "</div>"
      ],
      "text/plain": [
       "                                        ?a  \\\n",
       "0    http://data.europa.eu/esco/isced-f/00   \n",
       "1   http://data.europa.eu/esco/isced-f/000   \n",
       "2  http://data.europa.eu/esco/isced-f/0000   \n",
       "3   http://data.europa.eu/esco/isced-f/001   \n",
       "4  http://data.europa.eu/esco/isced-f/0011   \n",
       "\n",
       "                                           prefLabel  \\\n",
       "0   Allgemeine Bildungsprogramme und Qualifikationen   \n",
       "1  Allgemeine Bildungsprogramme und Qualifikation...   \n",
       "2  Allgemeine Bildungsprogramme und Qualifikation...   \n",
       "3  Grundlegende Bildungsprogramme und Qualifikati...   \n",
       "4  Grundlegende Bildungsprogramme und Qualifikati...   \n",
       "\n",
       "                                       desc_negative  \\\n",
       "0  [Anwenden von Verfahren und Techniken, die gee...   \n",
       "1  [Vermessen des Platzes für eine Vorstellung, u...   \n",
       "2  [Erhebliche medizinische Probleme in einer Wei...   \n",
       "3  [Die angebotenen psychologischen Gesundheitsma...   \n",
       "4  [Die medizinische Behandlungsmethode, bei der ...   \n",
       "\n",
       "                                                hits  \n",
       "0  [{'corpus_id': 85, 'score': 0.4064350724220276...  \n",
       "1  [{'corpus_id': 9, 'score': 0.22099244594573975...  \n",
       "2  [{'corpus_id': 31, 'score': 0.3141812086105346...  \n",
       "3  [{'corpus_id': 37, 'score': 0.6379895806312561...  \n",
       "4  [{'corpus_id': 75, 'score': 0.5975141525268555...  "
      ]
     },
     "execution_count": 40,
     "metadata": {},
     "output_type": "execute_result"
    }
   ],
   "source": [
    "negative_pref_data_grouped.head() "
   ]
  },
  {
   "cell_type": "code",
   "execution_count": 41,
   "id": "968b2674",
   "metadata": {},
   "outputs": [
    {
     "data": {
      "text/plain": [
       "(14525, 4)"
      ]
     },
     "execution_count": 41,
     "metadata": {},
     "output_type": "execute_result"
    }
   ],
   "source": [
    "negative_pref_data_grouped.shape"
   ]
  },
  {
   "cell_type": "code",
   "execution_count": 42,
   "id": "244235a0",
   "metadata": {},
   "outputs": [],
   "source": [
    "def append_scores(main_uri, df_large, all_data_combined):\n",
    "    \n",
    "    df = df_large[df_large['?a'] == main_uri]\n",
    "    exploded_df = df.explode('desc_negative')\n",
    "    \n",
    "    hits_list = ast.literal_eval(exploded_df['hits'].iloc[0])\n",
    "    hits_df = pd.DataFrame(hits_list)\n",
    "    hits_df.sort_values(by='corpus_id', ascending=True, inplace=True)\n",
    "    \n",
    "    hits_df.reset_index(drop=True, inplace=True)\n",
    "    exploded_df.reset_index(drop=True, inplace=True)\n",
    "    \n",
    "    new_df = pd.concat([exploded_df, hits_df[['score']]], axis='columns')\n",
    "    \n",
    "    all_data_combined.append(new_df)\n",
    "    \n",
    "    return all_data_combined"
   ]
  },
  {
   "cell_type": "code",
   "execution_count": 43,
   "id": "ea1560f8",
   "metadata": {},
   "outputs": [
    {
     "name": "stderr",
     "output_type": "stream",
     "text": [
      "100%|██████████| 14525/14525 [01:40<00:00, 143.86it/s]\n"
     ]
    }
   ],
   "source": [
    "df_list = list()\n",
    "\n",
    "scores_appended_df = negative_pref_data_grouped.progress_apply(\n",
    "    lambda x: append_scores(x['?a'],negative_pref_data_grouped, df_list )\n",
    ", axis=1)"
   ]
  },
  {
   "cell_type": "code",
   "execution_count": 44,
   "id": "7c313ae6",
   "metadata": {},
   "outputs": [
    {
     "data": {
      "text/plain": [
       "14525"
      ]
     },
     "execution_count": 44,
     "metadata": {},
     "output_type": "execute_result"
    }
   ],
   "source": [
    "len(df_list)"
   ]
  },
  {
   "cell_type": "code",
   "execution_count": 45,
   "id": "e570cb45",
   "metadata": {},
   "outputs": [
    {
     "name": "stderr",
     "output_type": "stream",
     "text": [
      "100%|██████████| 14525/14525 [06:41<00:00, 36.20it/s]\n"
     ]
    }
   ],
   "source": [
    "negatives_pref_data_nn_scores = pd.DataFrame()\n",
    "\n",
    "for df in tqdm(df_list):\n",
    "    negatives_pref_data_nn_scores = pd.concat([negatives_pref_data_nn_scores, df])"
   ]
  },
  {
   "cell_type": "code",
   "execution_count": 46,
   "id": "534d065a",
   "metadata": {},
   "outputs": [],
   "source": [
    "negatives_pref_data_nn_scores.drop(columns='hits', inplace=True)"
   ]
  },
  {
   "cell_type": "code",
   "execution_count": 47,
   "id": "0ab45db4",
   "metadata": {},
   "outputs": [
    {
     "data": {
      "text/html": [
       "<div>\n",
       "<style scoped>\n",
       "    .dataframe tbody tr th:only-of-type {\n",
       "        vertical-align: middle;\n",
       "    }\n",
       "\n",
       "    .dataframe tbody tr th {\n",
       "        vertical-align: top;\n",
       "    }\n",
       "\n",
       "    .dataframe thead th {\n",
       "        text-align: right;\n",
       "    }\n",
       "</style>\n",
       "<table border=\"1\" class=\"dataframe\">\n",
       "  <thead>\n",
       "    <tr style=\"text-align: right;\">\n",
       "      <th></th>\n",
       "      <th>?a</th>\n",
       "      <th>prefLabel</th>\n",
       "      <th>desc_negative</th>\n",
       "      <th>score</th>\n",
       "    </tr>\n",
       "  </thead>\n",
       "  <tbody>\n",
       "    <tr>\n",
       "      <th>0</th>\n",
       "      <td>http://data.europa.eu/esco/isced-f/00</td>\n",
       "      <td>Allgemeine Bildungsprogramme und Qualifikationen</td>\n",
       "      <td>Anwenden von Verfahren und Techniken, die geei...</td>\n",
       "      <td>0.045694</td>\n",
       "    </tr>\n",
       "    <tr>\n",
       "      <th>1</th>\n",
       "      <td>http://data.europa.eu/esco/isced-f/00</td>\n",
       "      <td>Allgemeine Bildungsprogramme und Qualifikationen</td>\n",
       "      <td>Vorstellung des Vorschlags von neuen Gesetzen ...</td>\n",
       "      <td>0.158892</td>\n",
       "    </tr>\n",
       "    <tr>\n",
       "      <th>2</th>\n",
       "      <td>http://data.europa.eu/esco/isced-f/00</td>\n",
       "      <td>Allgemeine Bildungsprogramme und Qualifikationen</td>\n",
       "      <td>Anordnung des Inhalts eines Lagerbereichs, sod...</td>\n",
       "      <td>-0.055051</td>\n",
       "    </tr>\n",
       "    <tr>\n",
       "      <th>3</th>\n",
       "      <td>http://data.europa.eu/esco/isced-f/00</td>\n",
       "      <td>Allgemeine Bildungsprogramme und Qualifikationen</td>\n",
       "      <td>Kontrolle der Sicherheitsgurte von Fahrgeschäf...</td>\n",
       "      <td>0.032643</td>\n",
       "    </tr>\n",
       "    <tr>\n",
       "      <th>4</th>\n",
       "      <td>http://data.europa.eu/esco/isced-f/00</td>\n",
       "      <td>Allgemeine Bildungsprogramme und Qualifikationen</td>\n",
       "      <td>Lesen und Analysieren von Fragebögen, Liefern ...</td>\n",
       "      <td>0.099613</td>\n",
       "    </tr>\n",
       "  </tbody>\n",
       "</table>\n",
       "</div>"
      ],
      "text/plain": [
       "                                      ?a  \\\n",
       "0  http://data.europa.eu/esco/isced-f/00   \n",
       "1  http://data.europa.eu/esco/isced-f/00   \n",
       "2  http://data.europa.eu/esco/isced-f/00   \n",
       "3  http://data.europa.eu/esco/isced-f/00   \n",
       "4  http://data.europa.eu/esco/isced-f/00   \n",
       "\n",
       "                                          prefLabel  \\\n",
       "0  Allgemeine Bildungsprogramme und Qualifikationen   \n",
       "1  Allgemeine Bildungsprogramme und Qualifikationen   \n",
       "2  Allgemeine Bildungsprogramme und Qualifikationen   \n",
       "3  Allgemeine Bildungsprogramme und Qualifikationen   \n",
       "4  Allgemeine Bildungsprogramme und Qualifikationen   \n",
       "\n",
       "                                       desc_negative     score  \n",
       "0  Anwenden von Verfahren und Techniken, die geei...  0.045694  \n",
       "1  Vorstellung des Vorschlags von neuen Gesetzen ...  0.158892  \n",
       "2  Anordnung des Inhalts eines Lagerbereichs, sod... -0.055051  \n",
       "3  Kontrolle der Sicherheitsgurte von Fahrgeschäf...  0.032643  \n",
       "4  Lesen und Analysieren von Fragebögen, Liefern ...  0.099613  "
      ]
     },
     "execution_count": 47,
     "metadata": {},
     "output_type": "execute_result"
    }
   ],
   "source": [
    "negatives_pref_data_nn_scores.head()"
   ]
  },
  {
   "cell_type": "code",
   "execution_count": 48,
   "id": "b2c77efe",
   "metadata": {},
   "outputs": [],
   "source": [
    "negatives_pref_data_nn_scores.columns= ['?a', 'prefLabel', 'desc_negative', 'negative_desc_nn_score']"
   ]
  },
  {
   "cell_type": "code",
   "execution_count": 49,
   "id": "85b67eb5",
   "metadata": {},
   "outputs": [
    {
     "data": {
      "text/plain": [
       "((1392164, 5), (1392164, 4))"
      ]
     },
     "execution_count": 49,
     "metadata": {},
     "output_type": "execute_result"
    }
   ],
   "source": [
    "negative_file_filtered.shape, negatives_pref_data_nn_scores.shape"
   ]
  },
  {
   "cell_type": "code",
   "execution_count": 50,
   "id": "e462232d",
   "metadata": {},
   "outputs": [],
   "source": [
    "negative_pref_desc_with_scores = negative_file_filtered.merge(negatives_pref_data_nn_scores,\n",
    "                                                              on=['?a', 'prefLabel', 'desc_negative'], how='left')"
   ]
  },
  {
   "cell_type": "code",
   "execution_count": 51,
   "id": "1789c8d6",
   "metadata": {},
   "outputs": [
    {
     "data": {
      "text/html": [
       "<div>\n",
       "<style scoped>\n",
       "    .dataframe tbody tr th:only-of-type {\n",
       "        vertical-align: middle;\n",
       "    }\n",
       "\n",
       "    .dataframe tbody tr th {\n",
       "        vertical-align: top;\n",
       "    }\n",
       "\n",
       "    .dataframe thead th {\n",
       "        text-align: right;\n",
       "    }\n",
       "</style>\n",
       "<table border=\"1\" class=\"dataframe\">\n",
       "  <thead>\n",
       "    <tr style=\"text-align: right;\">\n",
       "      <th></th>\n",
       "      <th>?a</th>\n",
       "      <th>prefLabel</th>\n",
       "      <th>desc_negative</th>\n",
       "      <th>negative_pref_desc_intesection</th>\n",
       "      <th>negative_desc_pref_intesection</th>\n",
       "      <th>negative_desc_nn_score</th>\n",
       "    </tr>\n",
       "  </thead>\n",
       "  <tbody>\n",
       "    <tr>\n",
       "      <th>0</th>\n",
       "      <td>http://data.europa.eu/esco/skill/29b326ea-a9c8...</td>\n",
       "      <td>Lebensmittelrohstoffe lagern</td>\n",
       "      <td>Behandeln von Holz mit verschiedenen Chemikali...</td>\n",
       "      <td>0.0</td>\n",
       "      <td>0.0</td>\n",
       "      <td>0.183325</td>\n",
       "    </tr>\n",
       "    <tr>\n",
       "      <th>1</th>\n",
       "      <td>http://data.europa.eu/esco/skill/29b326ea-a9c8...</td>\n",
       "      <td>Lebensmittelrohstoffe lagern</td>\n",
       "      <td>Vorschriftsmäßige Entsorgung von Abfall unter ...</td>\n",
       "      <td>0.0</td>\n",
       "      <td>0.0</td>\n",
       "      <td>0.376603</td>\n",
       "    </tr>\n",
       "    <tr>\n",
       "      <th>2</th>\n",
       "      <td>http://data.europa.eu/esco/skill/29b326ea-a9c8...</td>\n",
       "      <td>Lebensmittelrohstoffe lagern</td>\n",
       "      <td>Sicherstellen, dass die Reise reibungslos und ...</td>\n",
       "      <td>0.0</td>\n",
       "      <td>0.0</td>\n",
       "      <td>-0.014479</td>\n",
       "    </tr>\n",
       "    <tr>\n",
       "      <th>3</th>\n",
       "      <td>http://data.europa.eu/esco/skill/29b326ea-a9c8...</td>\n",
       "      <td>Lebensmittelrohstoffe lagern</td>\n",
       "      <td>Die Grundsätze, Bewertungstechniken und Behand...</td>\n",
       "      <td>0.0</td>\n",
       "      <td>0.0</td>\n",
       "      <td>0.168873</td>\n",
       "    </tr>\n",
       "    <tr>\n",
       "      <th>4</th>\n",
       "      <td>http://data.europa.eu/esco/skill/29b326ea-a9c8...</td>\n",
       "      <td>Lebensmittelrohstoffe lagern</td>\n",
       "      <td>Überwachen der einzelnen Produktionsbudgets un...</td>\n",
       "      <td>0.0</td>\n",
       "      <td>0.0</td>\n",
       "      <td>-0.044176</td>\n",
       "    </tr>\n",
       "  </tbody>\n",
       "</table>\n",
       "</div>"
      ],
      "text/plain": [
       "                                                  ?a  \\\n",
       "0  http://data.europa.eu/esco/skill/29b326ea-a9c8...   \n",
       "1  http://data.europa.eu/esco/skill/29b326ea-a9c8...   \n",
       "2  http://data.europa.eu/esco/skill/29b326ea-a9c8...   \n",
       "3  http://data.europa.eu/esco/skill/29b326ea-a9c8...   \n",
       "4  http://data.europa.eu/esco/skill/29b326ea-a9c8...   \n",
       "\n",
       "                      prefLabel  \\\n",
       "0  Lebensmittelrohstoffe lagern   \n",
       "1  Lebensmittelrohstoffe lagern   \n",
       "2  Lebensmittelrohstoffe lagern   \n",
       "3  Lebensmittelrohstoffe lagern   \n",
       "4  Lebensmittelrohstoffe lagern   \n",
       "\n",
       "                                       desc_negative  \\\n",
       "0  Behandeln von Holz mit verschiedenen Chemikali...   \n",
       "1  Vorschriftsmäßige Entsorgung von Abfall unter ...   \n",
       "2  Sicherstellen, dass die Reise reibungslos und ...   \n",
       "3  Die Grundsätze, Bewertungstechniken und Behand...   \n",
       "4  Überwachen der einzelnen Produktionsbudgets un...   \n",
       "\n",
       "   negative_pref_desc_intesection  negative_desc_pref_intesection  \\\n",
       "0                             0.0                             0.0   \n",
       "1                             0.0                             0.0   \n",
       "2                             0.0                             0.0   \n",
       "3                             0.0                             0.0   \n",
       "4                             0.0                             0.0   \n",
       "\n",
       "   negative_desc_nn_score  \n",
       "0                0.183325  \n",
       "1                0.376603  \n",
       "2               -0.014479  \n",
       "3                0.168873  \n",
       "4               -0.044176  "
      ]
     },
     "execution_count": 51,
     "metadata": {},
     "output_type": "execute_result"
    }
   ],
   "source": [
    "negative_pref_desc_with_scores.head()"
   ]
  },
  {
   "cell_type": "code",
   "execution_count": 52,
   "id": "f221b76f",
   "metadata": {},
   "outputs": [],
   "source": [
    "triplets_with_nn_scores_full = negative_pref_desc_with_scores.merge(skill_pref_desc, on=['?a', 'prefLabel'], how='left')"
   ]
  },
  {
   "cell_type": "code",
   "execution_count": 53,
   "id": "614e300c",
   "metadata": {},
   "outputs": [
    {
     "data": {
      "text/html": [
       "<div>\n",
       "<style scoped>\n",
       "    .dataframe tbody tr th:only-of-type {\n",
       "        vertical-align: middle;\n",
       "    }\n",
       "\n",
       "    .dataframe tbody tr th {\n",
       "        vertical-align: top;\n",
       "    }\n",
       "\n",
       "    .dataframe thead th {\n",
       "        text-align: right;\n",
       "    }\n",
       "</style>\n",
       "<table border=\"1\" class=\"dataframe\">\n",
       "  <thead>\n",
       "    <tr style=\"text-align: right;\">\n",
       "      <th></th>\n",
       "      <th>?a</th>\n",
       "      <th>prefLabel</th>\n",
       "      <th>desc_negative</th>\n",
       "      <th>negative_pref_desc_intesection</th>\n",
       "      <th>negative_desc_pref_intesection</th>\n",
       "      <th>negative_desc_nn_score</th>\n",
       "      <th>desc_positive</th>\n",
       "      <th>positive_pref_desc_intesection</th>\n",
       "      <th>positive_desc_pref_intesection</th>\n",
       "    </tr>\n",
       "  </thead>\n",
       "  <tbody>\n",
       "    <tr>\n",
       "      <th>0</th>\n",
       "      <td>http://data.europa.eu/esco/skill/29b326ea-a9c8...</td>\n",
       "      <td>Lebensmittelrohstoffe lagern</td>\n",
       "      <td>Behandeln von Holz mit verschiedenen Chemikali...</td>\n",
       "      <td>0.0</td>\n",
       "      <td>0.0</td>\n",
       "      <td>0.183325</td>\n",
       "      <td>Lagerung von Rohstoffen und anderen Lebensmitt...</td>\n",
       "      <td>0.0</td>\n",
       "      <td>0.0</td>\n",
       "    </tr>\n",
       "    <tr>\n",
       "      <th>1</th>\n",
       "      <td>http://data.europa.eu/esco/skill/29b326ea-a9c8...</td>\n",
       "      <td>Lebensmittelrohstoffe lagern</td>\n",
       "      <td>Vorschriftsmäßige Entsorgung von Abfall unter ...</td>\n",
       "      <td>0.0</td>\n",
       "      <td>0.0</td>\n",
       "      <td>0.376603</td>\n",
       "      <td>Lagerung von Rohstoffen und anderen Lebensmitt...</td>\n",
       "      <td>0.0</td>\n",
       "      <td>0.0</td>\n",
       "    </tr>\n",
       "    <tr>\n",
       "      <th>2</th>\n",
       "      <td>http://data.europa.eu/esco/skill/29b326ea-a9c8...</td>\n",
       "      <td>Lebensmittelrohstoffe lagern</td>\n",
       "      <td>Sicherstellen, dass die Reise reibungslos und ...</td>\n",
       "      <td>0.0</td>\n",
       "      <td>0.0</td>\n",
       "      <td>-0.014479</td>\n",
       "      <td>Lagerung von Rohstoffen und anderen Lebensmitt...</td>\n",
       "      <td>0.0</td>\n",
       "      <td>0.0</td>\n",
       "    </tr>\n",
       "    <tr>\n",
       "      <th>3</th>\n",
       "      <td>http://data.europa.eu/esco/skill/29b326ea-a9c8...</td>\n",
       "      <td>Lebensmittelrohstoffe lagern</td>\n",
       "      <td>Die Grundsätze, Bewertungstechniken und Behand...</td>\n",
       "      <td>0.0</td>\n",
       "      <td>0.0</td>\n",
       "      <td>0.168873</td>\n",
       "      <td>Lagerung von Rohstoffen und anderen Lebensmitt...</td>\n",
       "      <td>0.0</td>\n",
       "      <td>0.0</td>\n",
       "    </tr>\n",
       "    <tr>\n",
       "      <th>4</th>\n",
       "      <td>http://data.europa.eu/esco/skill/29b326ea-a9c8...</td>\n",
       "      <td>Lebensmittelrohstoffe lagern</td>\n",
       "      <td>Überwachen der einzelnen Produktionsbudgets un...</td>\n",
       "      <td>0.0</td>\n",
       "      <td>0.0</td>\n",
       "      <td>-0.044176</td>\n",
       "      <td>Lagerung von Rohstoffen und anderen Lebensmitt...</td>\n",
       "      <td>0.0</td>\n",
       "      <td>0.0</td>\n",
       "    </tr>\n",
       "  </tbody>\n",
       "</table>\n",
       "</div>"
      ],
      "text/plain": [
       "                                                  ?a  \\\n",
       "0  http://data.europa.eu/esco/skill/29b326ea-a9c8...   \n",
       "1  http://data.europa.eu/esco/skill/29b326ea-a9c8...   \n",
       "2  http://data.europa.eu/esco/skill/29b326ea-a9c8...   \n",
       "3  http://data.europa.eu/esco/skill/29b326ea-a9c8...   \n",
       "4  http://data.europa.eu/esco/skill/29b326ea-a9c8...   \n",
       "\n",
       "                      prefLabel  \\\n",
       "0  Lebensmittelrohstoffe lagern   \n",
       "1  Lebensmittelrohstoffe lagern   \n",
       "2  Lebensmittelrohstoffe lagern   \n",
       "3  Lebensmittelrohstoffe lagern   \n",
       "4  Lebensmittelrohstoffe lagern   \n",
       "\n",
       "                                       desc_negative  \\\n",
       "0  Behandeln von Holz mit verschiedenen Chemikali...   \n",
       "1  Vorschriftsmäßige Entsorgung von Abfall unter ...   \n",
       "2  Sicherstellen, dass die Reise reibungslos und ...   \n",
       "3  Die Grundsätze, Bewertungstechniken und Behand...   \n",
       "4  Überwachen der einzelnen Produktionsbudgets un...   \n",
       "\n",
       "   negative_pref_desc_intesection  negative_desc_pref_intesection  \\\n",
       "0                             0.0                             0.0   \n",
       "1                             0.0                             0.0   \n",
       "2                             0.0                             0.0   \n",
       "3                             0.0                             0.0   \n",
       "4                             0.0                             0.0   \n",
       "\n",
       "   negative_desc_nn_score                                      desc_positive  \\\n",
       "0                0.183325  Lagerung von Rohstoffen und anderen Lebensmitt...   \n",
       "1                0.376603  Lagerung von Rohstoffen und anderen Lebensmitt...   \n",
       "2               -0.014479  Lagerung von Rohstoffen und anderen Lebensmitt...   \n",
       "3                0.168873  Lagerung von Rohstoffen und anderen Lebensmitt...   \n",
       "4               -0.044176  Lagerung von Rohstoffen und anderen Lebensmitt...   \n",
       "\n",
       "   positive_pref_desc_intesection  positive_desc_pref_intesection  \n",
       "0                             0.0                             0.0  \n",
       "1                             0.0                             0.0  \n",
       "2                             0.0                             0.0  \n",
       "3                             0.0                             0.0  \n",
       "4                             0.0                             0.0  "
      ]
     },
     "execution_count": 53,
     "metadata": {},
     "output_type": "execute_result"
    }
   ],
   "source": [
    "triplets_with_nn_scores_full.head()"
   ]
  },
  {
   "cell_type": "code",
   "execution_count": 54,
   "id": "5ac0fbcd",
   "metadata": {},
   "outputs": [],
   "source": [
    "# triplets_with_nn_scores_full.to_csv(f'/cluster/scratch/yakram/sbert-copy/turtle_files/classification_data/{model_dir_language}/triplets_with_nn_scores_full.csv', sep='\\t')"
   ]
  },
  {
   "cell_type": "code",
   "execution_count": 55,
   "id": "c40bdad8",
   "metadata": {},
   "outputs": [
    {
     "data": {
      "text/plain": [
       "14525"
      ]
     },
     "execution_count": 55,
     "metadata": {},
     "output_type": "execute_result"
    }
   ],
   "source": [
    "triplets_with_nn_scores_full['?a'].nunique()"
   ]
  },
  {
   "cell_type": "code",
   "execution_count": 56,
   "id": "943d33db",
   "metadata": {},
   "outputs": [
    {
     "data": {
      "text/plain": [
       "7002"
      ]
     },
     "execution_count": 56,
     "metadata": {},
     "output_type": "execute_result"
    }
   ],
   "source": [
    "triplets_with_nn_scores_full[triplets_with_nn_scores_full['negative_pref_desc_intesection'] > 0]['?a'].nunique()"
   ]
  },
  {
   "cell_type": "code",
   "execution_count": 57,
   "id": "ad973f31",
   "metadata": {},
   "outputs": [
    {
     "data": {
      "text/plain": [
       "79.23580034423408"
      ]
     },
     "execution_count": 57,
     "metadata": {},
     "output_type": "execute_result"
    }
   ],
   "source": [
    "100*11509/ 14525"
   ]
  },
  {
   "cell_type": "markdown",
   "id": "1d1b8b91",
   "metadata": {},
   "source": [
    "### a total of 79.23% of the nearest neightbours have an intersection term as well, let's now select the instersection terms based on nn criteria"
   ]
  },
  {
   "cell_type": "code",
   "execution_count": 58,
   "id": "852487ae",
   "metadata": {},
   "outputs": [
    {
     "data": {
      "text/html": [
       "<div>\n",
       "<style scoped>\n",
       "    .dataframe tbody tr th:only-of-type {\n",
       "        vertical-align: middle;\n",
       "    }\n",
       "\n",
       "    .dataframe tbody tr th {\n",
       "        vertical-align: top;\n",
       "    }\n",
       "\n",
       "    .dataframe thead th {\n",
       "        text-align: right;\n",
       "    }\n",
       "</style>\n",
       "<table border=\"1\" class=\"dataframe\">\n",
       "  <thead>\n",
       "    <tr style=\"text-align: right;\">\n",
       "      <th></th>\n",
       "      <th>?a</th>\n",
       "      <th>prefLabel</th>\n",
       "      <th>desc_negative</th>\n",
       "      <th>negative_pref_desc_intesection</th>\n",
       "      <th>negative_desc_pref_intesection</th>\n",
       "      <th>negative_desc_nn_score</th>\n",
       "      <th>desc_positive</th>\n",
       "      <th>positive_pref_desc_intesection</th>\n",
       "      <th>positive_desc_pref_intesection</th>\n",
       "    </tr>\n",
       "  </thead>\n",
       "  <tbody>\n",
       "    <tr>\n",
       "      <th>0</th>\n",
       "      <td>http://data.europa.eu/esco/skill/29b326ea-a9c8...</td>\n",
       "      <td>Lebensmittelrohstoffe lagern</td>\n",
       "      <td>Behandeln von Holz mit verschiedenen Chemikali...</td>\n",
       "      <td>0.0</td>\n",
       "      <td>0.0</td>\n",
       "      <td>0.183325</td>\n",
       "      <td>Lagerung von Rohstoffen und anderen Lebensmitt...</td>\n",
       "      <td>0.0</td>\n",
       "      <td>0.0</td>\n",
       "    </tr>\n",
       "    <tr>\n",
       "      <th>1</th>\n",
       "      <td>http://data.europa.eu/esco/skill/29b326ea-a9c8...</td>\n",
       "      <td>Lebensmittelrohstoffe lagern</td>\n",
       "      <td>Vorschriftsmäßige Entsorgung von Abfall unter ...</td>\n",
       "      <td>0.0</td>\n",
       "      <td>0.0</td>\n",
       "      <td>0.376603</td>\n",
       "      <td>Lagerung von Rohstoffen und anderen Lebensmitt...</td>\n",
       "      <td>0.0</td>\n",
       "      <td>0.0</td>\n",
       "    </tr>\n",
       "    <tr>\n",
       "      <th>2</th>\n",
       "      <td>http://data.europa.eu/esco/skill/29b326ea-a9c8...</td>\n",
       "      <td>Lebensmittelrohstoffe lagern</td>\n",
       "      <td>Sicherstellen, dass die Reise reibungslos und ...</td>\n",
       "      <td>0.0</td>\n",
       "      <td>0.0</td>\n",
       "      <td>-0.014479</td>\n",
       "      <td>Lagerung von Rohstoffen und anderen Lebensmitt...</td>\n",
       "      <td>0.0</td>\n",
       "      <td>0.0</td>\n",
       "    </tr>\n",
       "    <tr>\n",
       "      <th>3</th>\n",
       "      <td>http://data.europa.eu/esco/skill/29b326ea-a9c8...</td>\n",
       "      <td>Lebensmittelrohstoffe lagern</td>\n",
       "      <td>Die Grundsätze, Bewertungstechniken und Behand...</td>\n",
       "      <td>0.0</td>\n",
       "      <td>0.0</td>\n",
       "      <td>0.168873</td>\n",
       "      <td>Lagerung von Rohstoffen und anderen Lebensmitt...</td>\n",
       "      <td>0.0</td>\n",
       "      <td>0.0</td>\n",
       "    </tr>\n",
       "    <tr>\n",
       "      <th>4</th>\n",
       "      <td>http://data.europa.eu/esco/skill/29b326ea-a9c8...</td>\n",
       "      <td>Lebensmittelrohstoffe lagern</td>\n",
       "      <td>Überwachen der einzelnen Produktionsbudgets un...</td>\n",
       "      <td>0.0</td>\n",
       "      <td>0.0</td>\n",
       "      <td>-0.044176</td>\n",
       "      <td>Lagerung von Rohstoffen und anderen Lebensmitt...</td>\n",
       "      <td>0.0</td>\n",
       "      <td>0.0</td>\n",
       "    </tr>\n",
       "  </tbody>\n",
       "</table>\n",
       "</div>"
      ],
      "text/plain": [
       "                                                  ?a  \\\n",
       "0  http://data.europa.eu/esco/skill/29b326ea-a9c8...   \n",
       "1  http://data.europa.eu/esco/skill/29b326ea-a9c8...   \n",
       "2  http://data.europa.eu/esco/skill/29b326ea-a9c8...   \n",
       "3  http://data.europa.eu/esco/skill/29b326ea-a9c8...   \n",
       "4  http://data.europa.eu/esco/skill/29b326ea-a9c8...   \n",
       "\n",
       "                      prefLabel  \\\n",
       "0  Lebensmittelrohstoffe lagern   \n",
       "1  Lebensmittelrohstoffe lagern   \n",
       "2  Lebensmittelrohstoffe lagern   \n",
       "3  Lebensmittelrohstoffe lagern   \n",
       "4  Lebensmittelrohstoffe lagern   \n",
       "\n",
       "                                       desc_negative  \\\n",
       "0  Behandeln von Holz mit verschiedenen Chemikali...   \n",
       "1  Vorschriftsmäßige Entsorgung von Abfall unter ...   \n",
       "2  Sicherstellen, dass die Reise reibungslos und ...   \n",
       "3  Die Grundsätze, Bewertungstechniken und Behand...   \n",
       "4  Überwachen der einzelnen Produktionsbudgets un...   \n",
       "\n",
       "   negative_pref_desc_intesection  negative_desc_pref_intesection  \\\n",
       "0                             0.0                             0.0   \n",
       "1                             0.0                             0.0   \n",
       "2                             0.0                             0.0   \n",
       "3                             0.0                             0.0   \n",
       "4                             0.0                             0.0   \n",
       "\n",
       "   negative_desc_nn_score                                      desc_positive  \\\n",
       "0                0.183325  Lagerung von Rohstoffen und anderen Lebensmitt...   \n",
       "1                0.376603  Lagerung von Rohstoffen und anderen Lebensmitt...   \n",
       "2               -0.014479  Lagerung von Rohstoffen und anderen Lebensmitt...   \n",
       "3                0.168873  Lagerung von Rohstoffen und anderen Lebensmitt...   \n",
       "4               -0.044176  Lagerung von Rohstoffen und anderen Lebensmitt...   \n",
       "\n",
       "   positive_pref_desc_intesection  positive_desc_pref_intesection  \n",
       "0                             0.0                             0.0  \n",
       "1                             0.0                             0.0  \n",
       "2                             0.0                             0.0  \n",
       "3                             0.0                             0.0  \n",
       "4                             0.0                             0.0  "
      ]
     },
     "execution_count": 58,
     "metadata": {},
     "output_type": "execute_result"
    }
   ],
   "source": [
    "triplets_with_nn_scores_full.head()"
   ]
  },
  {
   "cell_type": "code",
   "execution_count": 59,
   "id": "489ffa74",
   "metadata": {},
   "outputs": [],
   "source": [
    "triplet_data_with_scores = triplets_with_nn_scores_full[['?a', 'prefLabel', 'desc_negative', \n",
    "                                                         'negative_pref_desc_intesection', 'negative_desc_nn_score']]"
   ]
  },
  {
   "cell_type": "code",
   "execution_count": 60,
   "id": "40b4df44",
   "metadata": {},
   "outputs": [
    {
     "data": {
      "text/html": [
       "<div>\n",
       "<style scoped>\n",
       "    .dataframe tbody tr th:only-of-type {\n",
       "        vertical-align: middle;\n",
       "    }\n",
       "\n",
       "    .dataframe tbody tr th {\n",
       "        vertical-align: top;\n",
       "    }\n",
       "\n",
       "    .dataframe thead th {\n",
       "        text-align: right;\n",
       "    }\n",
       "</style>\n",
       "<table border=\"1\" class=\"dataframe\">\n",
       "  <thead>\n",
       "    <tr style=\"text-align: right;\">\n",
       "      <th></th>\n",
       "      <th>?a</th>\n",
       "      <th>prefLabel</th>\n",
       "      <th>desc_negative</th>\n",
       "      <th>negative_pref_desc_intesection</th>\n",
       "      <th>negative_desc_nn_score</th>\n",
       "    </tr>\n",
       "  </thead>\n",
       "  <tbody>\n",
       "    <tr>\n",
       "      <th>0</th>\n",
       "      <td>http://data.europa.eu/esco/skill/29b326ea-a9c8...</td>\n",
       "      <td>Lebensmittelrohstoffe lagern</td>\n",
       "      <td>Behandeln von Holz mit verschiedenen Chemikali...</td>\n",
       "      <td>0.0</td>\n",
       "      <td>0.183325</td>\n",
       "    </tr>\n",
       "    <tr>\n",
       "      <th>1</th>\n",
       "      <td>http://data.europa.eu/esco/skill/29b326ea-a9c8...</td>\n",
       "      <td>Lebensmittelrohstoffe lagern</td>\n",
       "      <td>Vorschriftsmäßige Entsorgung von Abfall unter ...</td>\n",
       "      <td>0.0</td>\n",
       "      <td>0.376603</td>\n",
       "    </tr>\n",
       "    <tr>\n",
       "      <th>2</th>\n",
       "      <td>http://data.europa.eu/esco/skill/29b326ea-a9c8...</td>\n",
       "      <td>Lebensmittelrohstoffe lagern</td>\n",
       "      <td>Sicherstellen, dass die Reise reibungslos und ...</td>\n",
       "      <td>0.0</td>\n",
       "      <td>-0.014479</td>\n",
       "    </tr>\n",
       "    <tr>\n",
       "      <th>3</th>\n",
       "      <td>http://data.europa.eu/esco/skill/29b326ea-a9c8...</td>\n",
       "      <td>Lebensmittelrohstoffe lagern</td>\n",
       "      <td>Die Grundsätze, Bewertungstechniken und Behand...</td>\n",
       "      <td>0.0</td>\n",
       "      <td>0.168873</td>\n",
       "    </tr>\n",
       "    <tr>\n",
       "      <th>4</th>\n",
       "      <td>http://data.europa.eu/esco/skill/29b326ea-a9c8...</td>\n",
       "      <td>Lebensmittelrohstoffe lagern</td>\n",
       "      <td>Überwachen der einzelnen Produktionsbudgets un...</td>\n",
       "      <td>0.0</td>\n",
       "      <td>-0.044176</td>\n",
       "    </tr>\n",
       "  </tbody>\n",
       "</table>\n",
       "</div>"
      ],
      "text/plain": [
       "                                                  ?a  \\\n",
       "0  http://data.europa.eu/esco/skill/29b326ea-a9c8...   \n",
       "1  http://data.europa.eu/esco/skill/29b326ea-a9c8...   \n",
       "2  http://data.europa.eu/esco/skill/29b326ea-a9c8...   \n",
       "3  http://data.europa.eu/esco/skill/29b326ea-a9c8...   \n",
       "4  http://data.europa.eu/esco/skill/29b326ea-a9c8...   \n",
       "\n",
       "                      prefLabel  \\\n",
       "0  Lebensmittelrohstoffe lagern   \n",
       "1  Lebensmittelrohstoffe lagern   \n",
       "2  Lebensmittelrohstoffe lagern   \n",
       "3  Lebensmittelrohstoffe lagern   \n",
       "4  Lebensmittelrohstoffe lagern   \n",
       "\n",
       "                                       desc_negative  \\\n",
       "0  Behandeln von Holz mit verschiedenen Chemikali...   \n",
       "1  Vorschriftsmäßige Entsorgung von Abfall unter ...   \n",
       "2  Sicherstellen, dass die Reise reibungslos und ...   \n",
       "3  Die Grundsätze, Bewertungstechniken und Behand...   \n",
       "4  Überwachen der einzelnen Produktionsbudgets un...   \n",
       "\n",
       "   negative_pref_desc_intesection  negative_desc_nn_score  \n",
       "0                             0.0                0.183325  \n",
       "1                             0.0                0.376603  \n",
       "2                             0.0               -0.014479  \n",
       "3                             0.0                0.168873  \n",
       "4                             0.0               -0.044176  "
      ]
     },
     "execution_count": 60,
     "metadata": {},
     "output_type": "execute_result"
    }
   ],
   "source": [
    "triplet_data_with_scores.head()"
   ]
  },
  {
   "cell_type": "code",
   "execution_count": 61,
   "id": "0c64a96e",
   "metadata": {},
   "outputs": [],
   "source": [
    "def create_grouped_data(df, column_name):\n",
    "    \n",
    "    df_subset = df[['?a', column_name]]\n",
    "    \n",
    "    df_subset_grouped = df_subset.groupby(by=['?a'])[column_name].apply(list).reset_index()\n",
    "    \n",
    "    return df_subset_grouped"
   ]
  },
  {
   "cell_type": "code",
   "execution_count": 62,
   "id": "44eff342",
   "metadata": {},
   "outputs": [],
   "source": [
    "triplet_grouped_desc = create_grouped_data(triplet_data_with_scores, 'desc_negative')\n",
    "triplet_grouped_negative_pref_desc_score = create_grouped_data(triplet_data_with_scores, 'negative_pref_desc_intesection')\n",
    "triplet_grouped_negative_desc_nn_score = create_grouped_data(triplet_data_with_scores, 'negative_desc_nn_score')"
   ]
  },
  {
   "cell_type": "code",
   "execution_count": 63,
   "id": "73acca36",
   "metadata": {},
   "outputs": [],
   "source": [
    "triplet_data_appended = triplet_grouped_desc.merge(\n",
    "    triplet_grouped_negative_pref_desc_score, on=['?a'], how='left').merge(\n",
    "    triplet_grouped_negative_desc_nn_score, on=['?a'], how='left')"
   ]
  },
  {
   "cell_type": "code",
   "execution_count": 64,
   "id": "89609e6b",
   "metadata": {},
   "outputs": [
    {
     "data": {
      "text/html": [
       "<div>\n",
       "<style scoped>\n",
       "    .dataframe tbody tr th:only-of-type {\n",
       "        vertical-align: middle;\n",
       "    }\n",
       "\n",
       "    .dataframe tbody tr th {\n",
       "        vertical-align: top;\n",
       "    }\n",
       "\n",
       "    .dataframe thead th {\n",
       "        text-align: right;\n",
       "    }\n",
       "</style>\n",
       "<table border=\"1\" class=\"dataframe\">\n",
       "  <thead>\n",
       "    <tr style=\"text-align: right;\">\n",
       "      <th></th>\n",
       "      <th>?a</th>\n",
       "      <th>desc_negative</th>\n",
       "      <th>negative_pref_desc_intesection</th>\n",
       "      <th>negative_desc_nn_score</th>\n",
       "    </tr>\n",
       "  </thead>\n",
       "  <tbody>\n",
       "    <tr>\n",
       "      <th>0</th>\n",
       "      <td>http://data.europa.eu/esco/isced-f/00</td>\n",
       "      <td>[Anwenden von Verfahren und Techniken, die gee...</td>\n",
       "      <td>[0.0, 0.0, 0.0, 0.0, 0.0, 0.0, 0.0, 0.0, 0.0, ...</td>\n",
       "      <td>[0.04569447040557861, 0.15889166295528412, -0....</td>\n",
       "    </tr>\n",
       "    <tr>\n",
       "      <th>1</th>\n",
       "      <td>http://data.europa.eu/esco/isced-f/000</td>\n",
       "      <td>[Vermessen des Platzes für eine Vorstellung, u...</td>\n",
       "      <td>[0.0, 0.0, 0.0, 0.0, 0.0, 0.0, 0.0, 0.0, 0.0, ...</td>\n",
       "      <td>[-0.04008367657661438, -0.07715119421482086, 0...</td>\n",
       "    </tr>\n",
       "    <tr>\n",
       "      <th>2</th>\n",
       "      <td>http://data.europa.eu/esco/isced-f/0000</td>\n",
       "      <td>[Erhebliche medizinische Probleme in einer Wei...</td>\n",
       "      <td>[0.0, 0.0, 0.0, 0.0, 0.0, 0.0, 0.0, 0.0, 0.0, ...</td>\n",
       "      <td>[0.07257924228906631, 0.04098954796791077, -0....</td>\n",
       "    </tr>\n",
       "    <tr>\n",
       "      <th>3</th>\n",
       "      <td>http://data.europa.eu/esco/isced-f/001</td>\n",
       "      <td>[Die angebotenen psychologischen Gesundheitsma...</td>\n",
       "      <td>[0.0, 0.0, 0.0, 0.0, 0.0, 0.0, 0.0, 0.0, 0.0, ...</td>\n",
       "      <td>[0.2016340047121048, 0.013529770076274872, 0.0...</td>\n",
       "    </tr>\n",
       "    <tr>\n",
       "      <th>4</th>\n",
       "      <td>http://data.europa.eu/esco/isced-f/0011</td>\n",
       "      <td>[Die medizinische Behandlungsmethode, bei der ...</td>\n",
       "      <td>[0.0, 0.0, 0.0, 0.0, 0.0, 0.0, 0.0, 0.0, 0.0, ...</td>\n",
       "      <td>[-0.009830817580223083, 0.4399043321609497, -0...</td>\n",
       "    </tr>\n",
       "  </tbody>\n",
       "</table>\n",
       "</div>"
      ],
      "text/plain": [
       "                                        ?a  \\\n",
       "0    http://data.europa.eu/esco/isced-f/00   \n",
       "1   http://data.europa.eu/esco/isced-f/000   \n",
       "2  http://data.europa.eu/esco/isced-f/0000   \n",
       "3   http://data.europa.eu/esco/isced-f/001   \n",
       "4  http://data.europa.eu/esco/isced-f/0011   \n",
       "\n",
       "                                       desc_negative  \\\n",
       "0  [Anwenden von Verfahren und Techniken, die gee...   \n",
       "1  [Vermessen des Platzes für eine Vorstellung, u...   \n",
       "2  [Erhebliche medizinische Probleme in einer Wei...   \n",
       "3  [Die angebotenen psychologischen Gesundheitsma...   \n",
       "4  [Die medizinische Behandlungsmethode, bei der ...   \n",
       "\n",
       "                      negative_pref_desc_intesection  \\\n",
       "0  [0.0, 0.0, 0.0, 0.0, 0.0, 0.0, 0.0, 0.0, 0.0, ...   \n",
       "1  [0.0, 0.0, 0.0, 0.0, 0.0, 0.0, 0.0, 0.0, 0.0, ...   \n",
       "2  [0.0, 0.0, 0.0, 0.0, 0.0, 0.0, 0.0, 0.0, 0.0, ...   \n",
       "3  [0.0, 0.0, 0.0, 0.0, 0.0, 0.0, 0.0, 0.0, 0.0, ...   \n",
       "4  [0.0, 0.0, 0.0, 0.0, 0.0, 0.0, 0.0, 0.0, 0.0, ...   \n",
       "\n",
       "                              negative_desc_nn_score  \n",
       "0  [0.04569447040557861, 0.15889166295528412, -0....  \n",
       "1  [-0.04008367657661438, -0.07715119421482086, 0...  \n",
       "2  [0.07257924228906631, 0.04098954796791077, -0....  \n",
       "3  [0.2016340047121048, 0.013529770076274872, 0.0...  \n",
       "4  [-0.009830817580223083, 0.4399043321609497, -0...  "
      ]
     },
     "execution_count": 64,
     "metadata": {},
     "output_type": "execute_result"
    }
   ],
   "source": [
    "triplet_data_appended.head()"
   ]
  },
  {
   "cell_type": "code",
   "execution_count": 65,
   "id": "9ab7d256",
   "metadata": {},
   "outputs": [],
   "source": [
    "# triplet_data_appended.to_csv(f'/cluster/scratch/yakram/sbert-copy/turtle_files/classification_data/{model_dir_language}/triplet_data_without_negatives.csv', sep='\\t')"
   ]
  },
  {
   "cell_type": "code",
   "execution_count": 66,
   "id": "f6c2b5dd",
   "metadata": {},
   "outputs": [],
   "source": [
    "def compute_hard_negatives(main_uri, df):\n",
    "    \n",
    "    df_filtered = df[df['?a'] == main_uri]\n",
    "    df_subset = df_filtered.explode(['desc_negative','negative_pref_desc_intesection', 'negative_desc_nn_score'])\n",
    "    df_subset.reset_index(drop=True, inplace=True)\n",
    "    \n",
    "    df_intersected = df_subset[df_subset['negative_pref_desc_intesection'] > 0]\n",
    "    \n",
    "    if len(df_intersected) == 0:\n",
    "        df_subset.sort_values(by='negative_desc_nn_score', ascending=False, inplace=True)\n",
    "        return df_subset['desc_negative'].iloc[0]\n",
    "    else:\n",
    "        df_intersected.sort_values(by='negative_desc_nn_score', ascending=False, inplace=True)\n",
    "\n",
    "        return df_intersected['desc_negative'].iloc[0]"
   ]
  },
  {
   "cell_type": "code",
   "execution_count": 67,
   "id": "4e8c30ad",
   "metadata": {
    "scrolled": true
   },
   "outputs": [
    {
     "data": {
      "application/vnd.jupyter.widget-view+json": {
       "model_id": "59553b68894145d6bdf232474cc7d2ef",
       "version_major": 2,
       "version_minor": 0
      },
      "text/plain": [
       "VBox(children=(HBox(children=(IntProgress(value=0, description='0.00%', max=404), Label(value='0 / 404'))), HB…"
      ]
     },
     "metadata": {},
     "output_type": "display_data"
    }
   ],
   "source": [
    "triplet_data_appended['hard_negative'] = triplet_data_appended.parallel_apply(\n",
    "    lambda x: compute_hard_negatives(x['?a'], triplet_data_appended), axis=1\n",
    "                                                                                             )"
   ]
  },
  {
   "cell_type": "code",
   "execution_count": 68,
   "id": "7b2c2120",
   "metadata": {},
   "outputs": [],
   "source": [
    "# triplet_data_appended.to_csv(f'/cluster/scratch/yakram/sbert-copy/turtle_files/classification_data/{model_dir_language}/triplets_hard_negatives.csv', sep='\\t')"
   ]
  },
  {
   "cell_type": "markdown",
   "id": "46af0d4b",
   "metadata": {},
   "source": [
    "# creating final classification_data"
   ]
  },
  {
   "cell_type": "code",
   "execution_count": 69,
   "id": "9f899822",
   "metadata": {},
   "outputs": [
    {
     "data": {
      "text/html": [
       "<div>\n",
       "<style scoped>\n",
       "    .dataframe tbody tr th:only-of-type {\n",
       "        vertical-align: middle;\n",
       "    }\n",
       "\n",
       "    .dataframe tbody tr th {\n",
       "        vertical-align: top;\n",
       "    }\n",
       "\n",
       "    .dataframe thead th {\n",
       "        text-align: right;\n",
       "    }\n",
       "</style>\n",
       "<table border=\"1\" class=\"dataframe\">\n",
       "  <thead>\n",
       "    <tr style=\"text-align: right;\">\n",
       "      <th></th>\n",
       "      <th>?a</th>\n",
       "      <th>desc_negative</th>\n",
       "      <th>negative_pref_desc_intesection</th>\n",
       "      <th>negative_desc_nn_score</th>\n",
       "      <th>hard_negative</th>\n",
       "    </tr>\n",
       "  </thead>\n",
       "  <tbody>\n",
       "    <tr>\n",
       "      <th>0</th>\n",
       "      <td>http://data.europa.eu/esco/isced-f/00</td>\n",
       "      <td>[Anwenden von Verfahren und Techniken, die gee...</td>\n",
       "      <td>[0.0, 0.0, 0.0, 0.0, 0.0, 0.0, 0.0, 0.0, 0.0, ...</td>\n",
       "      <td>[0.04569447040557861, 0.15889166295528412, -0....</td>\n",
       "      <td>Bewertung der Vorkenntnisse von Studierenden, ...</td>\n",
       "    </tr>\n",
       "    <tr>\n",
       "      <th>1</th>\n",
       "      <td>http://data.europa.eu/esco/isced-f/000</td>\n",
       "      <td>[Vermessen des Platzes für eine Vorstellung, u...</td>\n",
       "      <td>[0.0, 0.0, 0.0, 0.0, 0.0, 0.0, 0.0, 0.0, 0.0, ...</td>\n",
       "      <td>[-0.04008367657661438, -0.07715119421482086, 0...</td>\n",
       "      <td>Schüler in der Regel zu Freizeitzwecken in der...</td>\n",
       "    </tr>\n",
       "    <tr>\n",
       "      <th>2</th>\n",
       "      <td>http://data.europa.eu/esco/isced-f/0000</td>\n",
       "      <td>[Erhebliche medizinische Probleme in einer Wei...</td>\n",
       "      <td>[0.0, 0.0, 0.0, 0.0, 0.0, 0.0, 0.0, 0.0, 0.0, ...</td>\n",
       "      <td>[0.07257924228906631, 0.04098954796791077, -0....</td>\n",
       "      <td>Planung, Durchführung und Beaufsichtigung von ...</td>\n",
       "    </tr>\n",
       "    <tr>\n",
       "      <th>3</th>\n",
       "      <td>http://data.europa.eu/esco/isced-f/001</td>\n",
       "      <td>[Die angebotenen psychologischen Gesundheitsma...</td>\n",
       "      <td>[0.0, 0.0, 0.0, 0.0, 0.0, 0.0, 0.0, 0.0, 0.0, ...</td>\n",
       "      <td>[0.2016340047121048, 0.013529770076274872, 0.0...</td>\n",
       "      <td>Beaufsichtigen von Auszubildenden in den sozia...</td>\n",
       "    </tr>\n",
       "    <tr>\n",
       "      <th>4</th>\n",
       "      <td>http://data.europa.eu/esco/isced-f/0011</td>\n",
       "      <td>[Die medizinische Behandlungsmethode, bei der ...</td>\n",
       "      <td>[0.0, 0.0, 0.0, 0.0, 0.0, 0.0, 0.0, 0.0, 0.0, ...</td>\n",
       "      <td>[-0.009830817580223083, 0.4399043321609497, -0...</td>\n",
       "      <td>Arbeiten in einer Berufsschule, die praktische...</td>\n",
       "    </tr>\n",
       "  </tbody>\n",
       "</table>\n",
       "</div>"
      ],
      "text/plain": [
       "                                        ?a  \\\n",
       "0    http://data.europa.eu/esco/isced-f/00   \n",
       "1   http://data.europa.eu/esco/isced-f/000   \n",
       "2  http://data.europa.eu/esco/isced-f/0000   \n",
       "3   http://data.europa.eu/esco/isced-f/001   \n",
       "4  http://data.europa.eu/esco/isced-f/0011   \n",
       "\n",
       "                                       desc_negative  \\\n",
       "0  [Anwenden von Verfahren und Techniken, die gee...   \n",
       "1  [Vermessen des Platzes für eine Vorstellung, u...   \n",
       "2  [Erhebliche medizinische Probleme in einer Wei...   \n",
       "3  [Die angebotenen psychologischen Gesundheitsma...   \n",
       "4  [Die medizinische Behandlungsmethode, bei der ...   \n",
       "\n",
       "                      negative_pref_desc_intesection  \\\n",
       "0  [0.0, 0.0, 0.0, 0.0, 0.0, 0.0, 0.0, 0.0, 0.0, ...   \n",
       "1  [0.0, 0.0, 0.0, 0.0, 0.0, 0.0, 0.0, 0.0, 0.0, ...   \n",
       "2  [0.0, 0.0, 0.0, 0.0, 0.0, 0.0, 0.0, 0.0, 0.0, ...   \n",
       "3  [0.0, 0.0, 0.0, 0.0, 0.0, 0.0, 0.0, 0.0, 0.0, ...   \n",
       "4  [0.0, 0.0, 0.0, 0.0, 0.0, 0.0, 0.0, 0.0, 0.0, ...   \n",
       "\n",
       "                              negative_desc_nn_score  \\\n",
       "0  [0.04569447040557861, 0.15889166295528412, -0....   \n",
       "1  [-0.04008367657661438, -0.07715119421482086, 0...   \n",
       "2  [0.07257924228906631, 0.04098954796791077, -0....   \n",
       "3  [0.2016340047121048, 0.013529770076274872, 0.0...   \n",
       "4  [-0.009830817580223083, 0.4399043321609497, -0...   \n",
       "\n",
       "                                       hard_negative  \n",
       "0  Bewertung der Vorkenntnisse von Studierenden, ...  \n",
       "1  Schüler in der Regel zu Freizeitzwecken in der...  \n",
       "2  Planung, Durchführung und Beaufsichtigung von ...  \n",
       "3  Beaufsichtigen von Auszubildenden in den sozia...  \n",
       "4  Arbeiten in einer Berufsschule, die praktische...  "
      ]
     },
     "execution_count": 69,
     "metadata": {},
     "output_type": "execute_result"
    }
   ],
   "source": [
    "triplet_data_appended.head()"
   ]
  },
  {
   "cell_type": "code",
   "execution_count": 70,
   "id": "5a2b7163",
   "metadata": {},
   "outputs": [
    {
     "data": {
      "text/html": [
       "<div>\n",
       "<style scoped>\n",
       "    .dataframe tbody tr th:only-of-type {\n",
       "        vertical-align: middle;\n",
       "    }\n",
       "\n",
       "    .dataframe tbody tr th {\n",
       "        vertical-align: top;\n",
       "    }\n",
       "\n",
       "    .dataframe thead th {\n",
       "        text-align: right;\n",
       "    }\n",
       "</style>\n",
       "<table border=\"1\" class=\"dataframe\">\n",
       "  <thead>\n",
       "    <tr style=\"text-align: right;\">\n",
       "      <th></th>\n",
       "      <th>?a</th>\n",
       "      <th>prefLabel</th>\n",
       "      <th>desc_positive</th>\n",
       "      <th>positive_pref_desc_intesection</th>\n",
       "      <th>positive_desc_pref_intesection</th>\n",
       "    </tr>\n",
       "  </thead>\n",
       "  <tbody>\n",
       "    <tr>\n",
       "      <th>0</th>\n",
       "      <td>http://data.europa.eu/esco/skill/29b326ea-a9c8...</td>\n",
       "      <td>Lebensmittelrohstoffe lagern</td>\n",
       "      <td>Lagerung von Rohstoffen und anderen Lebensmitt...</td>\n",
       "      <td>0.000000</td>\n",
       "      <td>0.000000</td>\n",
       "    </tr>\n",
       "    <tr>\n",
       "      <th>1</th>\n",
       "      <td>http://data.europa.eu/esco/skill/1a61a520-f4a5...</td>\n",
       "      <td>geschriebenes Irisch verstehen</td>\n",
       "      <td>Texte auf Irisch lesen und verstehen.</td>\n",
       "      <td>0.500000</td>\n",
       "      <td>0.666667</td>\n",
       "    </tr>\n",
       "    <tr>\n",
       "      <th>2</th>\n",
       "      <td>http://data.europa.eu/esco/skill/f6c10ed9-763a...</td>\n",
       "      <td>mit heißem Stickstoff arbeiten</td>\n",
       "      <td>Arbeiten mit heißem Stickstoff, indem dieser d...</td>\n",
       "      <td>0.500000</td>\n",
       "      <td>1.000000</td>\n",
       "    </tr>\n",
       "    <tr>\n",
       "      <th>3</th>\n",
       "      <td>http://data.europa.eu/esco/skill/7e11b04d-c6b5...</td>\n",
       "      <td>Patienten/Patientinnen zur Verbesserung des Sp...</td>\n",
       "      <td>Beraten und Anleiten von Patienten in Technike...</td>\n",
       "      <td>0.250000</td>\n",
       "      <td>0.400000</td>\n",
       "    </tr>\n",
       "    <tr>\n",
       "      <th>4</th>\n",
       "      <td>http://data.europa.eu/esco/skill/5279200c-d6ed...</td>\n",
       "      <td>Forschungsergebnisse in die Musiktherapie inte...</td>\n",
       "      <td>Nutzung der aus verschiedenen wissenschaftlich...</td>\n",
       "      <td>0.058824</td>\n",
       "      <td>0.333333</td>\n",
       "    </tr>\n",
       "  </tbody>\n",
       "</table>\n",
       "</div>"
      ],
      "text/plain": [
       "                                                  ?a  \\\n",
       "0  http://data.europa.eu/esco/skill/29b326ea-a9c8...   \n",
       "1  http://data.europa.eu/esco/skill/1a61a520-f4a5...   \n",
       "2  http://data.europa.eu/esco/skill/f6c10ed9-763a...   \n",
       "3  http://data.europa.eu/esco/skill/7e11b04d-c6b5...   \n",
       "4  http://data.europa.eu/esco/skill/5279200c-d6ed...   \n",
       "\n",
       "                                           prefLabel  \\\n",
       "0                       Lebensmittelrohstoffe lagern   \n",
       "1                     geschriebenes Irisch verstehen   \n",
       "2                     mit heißem Stickstoff arbeiten   \n",
       "3  Patienten/Patientinnen zur Verbesserung des Sp...   \n",
       "4  Forschungsergebnisse in die Musiktherapie inte...   \n",
       "\n",
       "                                       desc_positive  \\\n",
       "0  Lagerung von Rohstoffen und anderen Lebensmitt...   \n",
       "1              Texte auf Irisch lesen und verstehen.   \n",
       "2  Arbeiten mit heißem Stickstoff, indem dieser d...   \n",
       "3  Beraten und Anleiten von Patienten in Technike...   \n",
       "4  Nutzung der aus verschiedenen wissenschaftlich...   \n",
       "\n",
       "   positive_pref_desc_intesection  positive_desc_pref_intesection  \n",
       "0                        0.000000                        0.000000  \n",
       "1                        0.500000                        0.666667  \n",
       "2                        0.500000                        1.000000  \n",
       "3                        0.250000                        0.400000  \n",
       "4                        0.058824                        0.333333  "
      ]
     },
     "execution_count": 70,
     "metadata": {},
     "output_type": "execute_result"
    }
   ],
   "source": [
    "skill_pref_desc.head()"
   ]
  },
  {
   "cell_type": "code",
   "execution_count": 71,
   "id": "4bfa1aa3",
   "metadata": {},
   "outputs": [],
   "source": [
    "negative_subset = triplet_data_appended[['?a', 'hard_negative']]"
   ]
  },
  {
   "cell_type": "code",
   "execution_count": 72,
   "id": "56df5117",
   "metadata": {},
   "outputs": [],
   "source": [
    "positive_subset = skill_pref_desc[['?a', 'prefLabel', 'desc_positive']]"
   ]
  },
  {
   "cell_type": "code",
   "execution_count": 73,
   "id": "0d22390f",
   "metadata": {},
   "outputs": [
    {
     "data": {
      "text/html": [
       "<div>\n",
       "<style scoped>\n",
       "    .dataframe tbody tr th:only-of-type {\n",
       "        vertical-align: middle;\n",
       "    }\n",
       "\n",
       "    .dataframe tbody tr th {\n",
       "        vertical-align: top;\n",
       "    }\n",
       "\n",
       "    .dataframe thead th {\n",
       "        text-align: right;\n",
       "    }\n",
       "</style>\n",
       "<table border=\"1\" class=\"dataframe\">\n",
       "  <thead>\n",
       "    <tr style=\"text-align: right;\">\n",
       "      <th></th>\n",
       "      <th>?a</th>\n",
       "      <th>prefLabel</th>\n",
       "      <th>desc_positive</th>\n",
       "    </tr>\n",
       "  </thead>\n",
       "  <tbody>\n",
       "    <tr>\n",
       "      <th>0</th>\n",
       "      <td>http://data.europa.eu/esco/skill/29b326ea-a9c8...</td>\n",
       "      <td>Lebensmittelrohstoffe lagern</td>\n",
       "      <td>Lagerung von Rohstoffen und anderen Lebensmitt...</td>\n",
       "    </tr>\n",
       "    <tr>\n",
       "      <th>1</th>\n",
       "      <td>http://data.europa.eu/esco/skill/1a61a520-f4a5...</td>\n",
       "      <td>geschriebenes Irisch verstehen</td>\n",
       "      <td>Texte auf Irisch lesen und verstehen.</td>\n",
       "    </tr>\n",
       "    <tr>\n",
       "      <th>2</th>\n",
       "      <td>http://data.europa.eu/esco/skill/f6c10ed9-763a...</td>\n",
       "      <td>mit heißem Stickstoff arbeiten</td>\n",
       "      <td>Arbeiten mit heißem Stickstoff, indem dieser d...</td>\n",
       "    </tr>\n",
       "    <tr>\n",
       "      <th>3</th>\n",
       "      <td>http://data.europa.eu/esco/skill/7e11b04d-c6b5...</td>\n",
       "      <td>Patienten/Patientinnen zur Verbesserung des Sp...</td>\n",
       "      <td>Beraten und Anleiten von Patienten in Technike...</td>\n",
       "    </tr>\n",
       "    <tr>\n",
       "      <th>4</th>\n",
       "      <td>http://data.europa.eu/esco/skill/5279200c-d6ed...</td>\n",
       "      <td>Forschungsergebnisse in die Musiktherapie inte...</td>\n",
       "      <td>Nutzung der aus verschiedenen wissenschaftlich...</td>\n",
       "    </tr>\n",
       "  </tbody>\n",
       "</table>\n",
       "</div>"
      ],
      "text/plain": [
       "                                                  ?a  \\\n",
       "0  http://data.europa.eu/esco/skill/29b326ea-a9c8...   \n",
       "1  http://data.europa.eu/esco/skill/1a61a520-f4a5...   \n",
       "2  http://data.europa.eu/esco/skill/f6c10ed9-763a...   \n",
       "3  http://data.europa.eu/esco/skill/7e11b04d-c6b5...   \n",
       "4  http://data.europa.eu/esco/skill/5279200c-d6ed...   \n",
       "\n",
       "                                           prefLabel  \\\n",
       "0                       Lebensmittelrohstoffe lagern   \n",
       "1                     geschriebenes Irisch verstehen   \n",
       "2                     mit heißem Stickstoff arbeiten   \n",
       "3  Patienten/Patientinnen zur Verbesserung des Sp...   \n",
       "4  Forschungsergebnisse in die Musiktherapie inte...   \n",
       "\n",
       "                                       desc_positive  \n",
       "0  Lagerung von Rohstoffen und anderen Lebensmitt...  \n",
       "1              Texte auf Irisch lesen und verstehen.  \n",
       "2  Arbeiten mit heißem Stickstoff, indem dieser d...  \n",
       "3  Beraten und Anleiten von Patienten in Technike...  \n",
       "4  Nutzung der aus verschiedenen wissenschaftlich...  "
      ]
     },
     "execution_count": 73,
     "metadata": {},
     "output_type": "execute_result"
    }
   ],
   "source": [
    "positive_subset.head()"
   ]
  },
  {
   "cell_type": "code",
   "execution_count": 74,
   "id": "1644dbca",
   "metadata": {},
   "outputs": [
    {
     "data": {
      "text/html": [
       "<div>\n",
       "<style scoped>\n",
       "    .dataframe tbody tr th:only-of-type {\n",
       "        vertical-align: middle;\n",
       "    }\n",
       "\n",
       "    .dataframe tbody tr th {\n",
       "        vertical-align: top;\n",
       "    }\n",
       "\n",
       "    .dataframe thead th {\n",
       "        text-align: right;\n",
       "    }\n",
       "</style>\n",
       "<table border=\"1\" class=\"dataframe\">\n",
       "  <thead>\n",
       "    <tr style=\"text-align: right;\">\n",
       "      <th></th>\n",
       "      <th>?a</th>\n",
       "      <th>hard_negative</th>\n",
       "    </tr>\n",
       "  </thead>\n",
       "  <tbody>\n",
       "    <tr>\n",
       "      <th>0</th>\n",
       "      <td>http://data.europa.eu/esco/isced-f/00</td>\n",
       "      <td>Bewertung der Vorkenntnisse von Studierenden, ...</td>\n",
       "    </tr>\n",
       "    <tr>\n",
       "      <th>1</th>\n",
       "      <td>http://data.europa.eu/esco/isced-f/000</td>\n",
       "      <td>Schüler in der Regel zu Freizeitzwecken in der...</td>\n",
       "    </tr>\n",
       "    <tr>\n",
       "      <th>2</th>\n",
       "      <td>http://data.europa.eu/esco/isced-f/0000</td>\n",
       "      <td>Planung, Durchführung und Beaufsichtigung von ...</td>\n",
       "    </tr>\n",
       "    <tr>\n",
       "      <th>3</th>\n",
       "      <td>http://data.europa.eu/esco/isced-f/001</td>\n",
       "      <td>Beaufsichtigen von Auszubildenden in den sozia...</td>\n",
       "    </tr>\n",
       "    <tr>\n",
       "      <th>4</th>\n",
       "      <td>http://data.europa.eu/esco/isced-f/0011</td>\n",
       "      <td>Arbeiten in einer Berufsschule, die praktische...</td>\n",
       "    </tr>\n",
       "  </tbody>\n",
       "</table>\n",
       "</div>"
      ],
      "text/plain": [
       "                                        ?a  \\\n",
       "0    http://data.europa.eu/esco/isced-f/00   \n",
       "1   http://data.europa.eu/esco/isced-f/000   \n",
       "2  http://data.europa.eu/esco/isced-f/0000   \n",
       "3   http://data.europa.eu/esco/isced-f/001   \n",
       "4  http://data.europa.eu/esco/isced-f/0011   \n",
       "\n",
       "                                       hard_negative  \n",
       "0  Bewertung der Vorkenntnisse von Studierenden, ...  \n",
       "1  Schüler in der Regel zu Freizeitzwecken in der...  \n",
       "2  Planung, Durchführung und Beaufsichtigung von ...  \n",
       "3  Beaufsichtigen von Auszubildenden in den sozia...  \n",
       "4  Arbeiten in einer Berufsschule, die praktische...  "
      ]
     },
     "execution_count": 74,
     "metadata": {},
     "output_type": "execute_result"
    }
   ],
   "source": [
    "negative_subset.head()"
   ]
  },
  {
   "cell_type": "code",
   "execution_count": 75,
   "id": "b1998eec",
   "metadata": {},
   "outputs": [],
   "source": [
    "classficiation_data_triplets = negative_subset.merge(positive_subset, on=['?a'], how='left')"
   ]
  },
  {
   "cell_type": "code",
   "execution_count": 76,
   "id": "ce240c92",
   "metadata": {},
   "outputs": [
    {
     "data": {
      "text/plain": [
       "(14525, 4)"
      ]
     },
     "execution_count": 76,
     "metadata": {},
     "output_type": "execute_result"
    }
   ],
   "source": [
    "classficiation_data_triplets.shape"
   ]
  },
  {
   "cell_type": "code",
   "execution_count": 77,
   "id": "cd37af81",
   "metadata": {},
   "outputs": [
    {
     "data": {
      "text/html": [
       "<div>\n",
       "<style scoped>\n",
       "    .dataframe tbody tr th:only-of-type {\n",
       "        vertical-align: middle;\n",
       "    }\n",
       "\n",
       "    .dataframe tbody tr th {\n",
       "        vertical-align: top;\n",
       "    }\n",
       "\n",
       "    .dataframe thead th {\n",
       "        text-align: right;\n",
       "    }\n",
       "</style>\n",
       "<table border=\"1\" class=\"dataframe\">\n",
       "  <thead>\n",
       "    <tr style=\"text-align: right;\">\n",
       "      <th></th>\n",
       "      <th>?a</th>\n",
       "      <th>hard_negative</th>\n",
       "      <th>prefLabel</th>\n",
       "      <th>desc_positive</th>\n",
       "    </tr>\n",
       "  </thead>\n",
       "  <tbody>\n",
       "    <tr>\n",
       "      <th>0</th>\n",
       "      <td>http://data.europa.eu/esco/isced-f/00</td>\n",
       "      <td>Bewertung der Vorkenntnisse von Studierenden, ...</td>\n",
       "      <td>NaN</td>\n",
       "      <td>NaN</td>\n",
       "    </tr>\n",
       "    <tr>\n",
       "      <th>1</th>\n",
       "      <td>http://data.europa.eu/esco/isced-f/000</td>\n",
       "      <td>Schüler in der Regel zu Freizeitzwecken in der...</td>\n",
       "      <td>NaN</td>\n",
       "      <td>NaN</td>\n",
       "    </tr>\n",
       "    <tr>\n",
       "      <th>2</th>\n",
       "      <td>http://data.europa.eu/esco/isced-f/0000</td>\n",
       "      <td>Planung, Durchführung und Beaufsichtigung von ...</td>\n",
       "      <td>NaN</td>\n",
       "      <td>NaN</td>\n",
       "    </tr>\n",
       "    <tr>\n",
       "      <th>3</th>\n",
       "      <td>http://data.europa.eu/esco/isced-f/001</td>\n",
       "      <td>Beaufsichtigen von Auszubildenden in den sozia...</td>\n",
       "      <td>NaN</td>\n",
       "      <td>NaN</td>\n",
       "    </tr>\n",
       "    <tr>\n",
       "      <th>4</th>\n",
       "      <td>http://data.europa.eu/esco/isced-f/0011</td>\n",
       "      <td>Arbeiten in einer Berufsschule, die praktische...</td>\n",
       "      <td>NaN</td>\n",
       "      <td>NaN</td>\n",
       "    </tr>\n",
       "  </tbody>\n",
       "</table>\n",
       "</div>"
      ],
      "text/plain": [
       "                                        ?a  \\\n",
       "0    http://data.europa.eu/esco/isced-f/00   \n",
       "1   http://data.europa.eu/esco/isced-f/000   \n",
       "2  http://data.europa.eu/esco/isced-f/0000   \n",
       "3   http://data.europa.eu/esco/isced-f/001   \n",
       "4  http://data.europa.eu/esco/isced-f/0011   \n",
       "\n",
       "                                       hard_negative prefLabel desc_positive  \n",
       "0  Bewertung der Vorkenntnisse von Studierenden, ...       NaN           NaN  \n",
       "1  Schüler in der Regel zu Freizeitzwecken in der...       NaN           NaN  \n",
       "2  Planung, Durchführung und Beaufsichtigung von ...       NaN           NaN  \n",
       "3  Beaufsichtigen von Auszubildenden in den sozia...       NaN           NaN  \n",
       "4  Arbeiten in einer Berufsschule, die praktische...       NaN           NaN  "
      ]
     },
     "execution_count": 77,
     "metadata": {},
     "output_type": "execute_result"
    }
   ],
   "source": [
    "classficiation_data_triplets.head()"
   ]
  },
  {
   "cell_type": "code",
   "execution_count": 78,
   "id": "1a94642b",
   "metadata": {},
   "outputs": [],
   "source": [
    "positive_classification_data = classficiation_data_triplets[['?a', 'prefLabel', 'desc_positive']]\n",
    "negative_classification_data = classficiation_data_triplets[['?a', 'prefLabel', 'hard_negative']]"
   ]
  },
  {
   "cell_type": "code",
   "execution_count": 79,
   "id": "c835398e",
   "metadata": {},
   "outputs": [
    {
     "name": "stderr",
     "output_type": "stream",
     "text": [
      "/scratch/tmp.7262910.yakram/ipykernel_137919/4189035163.py:1: SettingWithCopyWarning: \n",
      "A value is trying to be set on a copy of a slice from a DataFrame\n",
      "\n",
      "See the caveats in the documentation: https://pandas.pydata.org/pandas-docs/stable/user_guide/indexing.html#returning-a-view-versus-a-copy\n",
      "  positive_classification_data.dropna(inplace=True)\n",
      "/scratch/tmp.7262910.yakram/ipykernel_137919/4189035163.py:2: SettingWithCopyWarning: \n",
      "A value is trying to be set on a copy of a slice from a DataFrame\n",
      "\n",
      "See the caveats in the documentation: https://pandas.pydata.org/pandas-docs/stable/user_guide/indexing.html#returning-a-view-versus-a-copy\n",
      "  negative_classification_data.dropna(inplace=True)\n"
     ]
    }
   ],
   "source": [
    "positive_classification_data.dropna(inplace=True)\n",
    "negative_classification_data.dropna(inplace=True)"
   ]
  },
  {
   "cell_type": "code",
   "execution_count": 80,
   "id": "5ba50eda",
   "metadata": {},
   "outputs": [
    {
     "data": {
      "text/html": [
       "<div>\n",
       "<style scoped>\n",
       "    .dataframe tbody tr th:only-of-type {\n",
       "        vertical-align: middle;\n",
       "    }\n",
       "\n",
       "    .dataframe tbody tr th {\n",
       "        vertical-align: top;\n",
       "    }\n",
       "\n",
       "    .dataframe thead th {\n",
       "        text-align: right;\n",
       "    }\n",
       "</style>\n",
       "<table border=\"1\" class=\"dataframe\">\n",
       "  <thead>\n",
       "    <tr style=\"text-align: right;\">\n",
       "      <th></th>\n",
       "      <th>?a</th>\n",
       "      <th>prefLabel</th>\n",
       "      <th>desc_positive</th>\n",
       "    </tr>\n",
       "  </thead>\n",
       "  <tbody>\n",
       "    <tr>\n",
       "      <th>220</th>\n",
       "      <td>http://data.europa.eu/esco/skill/0005c151-5b5a...</td>\n",
       "      <td>Musikpersonal verwalten</td>\n",
       "      <td>Zuweisen und Verwalten der Aufgaben des Person...</td>\n",
       "    </tr>\n",
       "    <tr>\n",
       "      <th>221</th>\n",
       "      <td>http://data.europa.eu/esco/skill/00064735-8fad...</td>\n",
       "      <td>Strafvollzugsverfahren beaufsichtigen</td>\n",
       "      <td>Überwachen des Betriebs einer Justizvollzugsan...</td>\n",
       "    </tr>\n",
       "    <tr>\n",
       "      <th>222</th>\n",
       "      <td>http://data.europa.eu/esco/skill/000709ed-2be5...</td>\n",
       "      <td>nicht unterdrückende Praktiken anwenden</td>\n",
       "      <td>Ermitteln von Repressionen in Gesellschaften, ...</td>\n",
       "    </tr>\n",
       "    <tr>\n",
       "      <th>223</th>\n",
       "      <td>http://data.europa.eu/esco/skill/0007bdc2-dd15...</td>\n",
       "      <td>Einhaltung von Vorschriften von Eisenbahnfahrz...</td>\n",
       "      <td>Kontrollieren von Fahrzeugen, Komponenten und ...</td>\n",
       "    </tr>\n",
       "    <tr>\n",
       "      <th>224</th>\n",
       "      <td>http://data.europa.eu/esco/skill/00090cc1-1f27...</td>\n",
       "      <td>verfügbare Dienste ermitteln</td>\n",
       "      <td>Ermitteln der verschiedenen verfügbaren Dienst...</td>\n",
       "    </tr>\n",
       "  </tbody>\n",
       "</table>\n",
       "</div>"
      ],
      "text/plain": [
       "                                                    ?a  \\\n",
       "220  http://data.europa.eu/esco/skill/0005c151-5b5a...   \n",
       "221  http://data.europa.eu/esco/skill/00064735-8fad...   \n",
       "222  http://data.europa.eu/esco/skill/000709ed-2be5...   \n",
       "223  http://data.europa.eu/esco/skill/0007bdc2-dd15...   \n",
       "224  http://data.europa.eu/esco/skill/00090cc1-1f27...   \n",
       "\n",
       "                                             prefLabel  \\\n",
       "220                            Musikpersonal verwalten   \n",
       "221              Strafvollzugsverfahren beaufsichtigen   \n",
       "222            nicht unterdrückende Praktiken anwenden   \n",
       "223  Einhaltung von Vorschriften von Eisenbahnfahrz...   \n",
       "224                       verfügbare Dienste ermitteln   \n",
       "\n",
       "                                         desc_positive  \n",
       "220  Zuweisen und Verwalten der Aufgaben des Person...  \n",
       "221  Überwachen des Betriebs einer Justizvollzugsan...  \n",
       "222  Ermitteln von Repressionen in Gesellschaften, ...  \n",
       "223  Kontrollieren von Fahrzeugen, Komponenten und ...  \n",
       "224  Ermitteln der verschiedenen verfügbaren Dienst...  "
      ]
     },
     "execution_count": 80,
     "metadata": {},
     "output_type": "execute_result"
    }
   ],
   "source": [
    "positive_classification_data.head()"
   ]
  },
  {
   "cell_type": "code",
   "execution_count": 81,
   "id": "6df99599",
   "metadata": {},
   "outputs": [
    {
     "data": {
      "text/html": [
       "<div>\n",
       "<style scoped>\n",
       "    .dataframe tbody tr th:only-of-type {\n",
       "        vertical-align: middle;\n",
       "    }\n",
       "\n",
       "    .dataframe tbody tr th {\n",
       "        vertical-align: top;\n",
       "    }\n",
       "\n",
       "    .dataframe thead th {\n",
       "        text-align: right;\n",
       "    }\n",
       "</style>\n",
       "<table border=\"1\" class=\"dataframe\">\n",
       "  <thead>\n",
       "    <tr style=\"text-align: right;\">\n",
       "      <th></th>\n",
       "      <th>?a</th>\n",
       "      <th>prefLabel</th>\n",
       "      <th>hard_negative</th>\n",
       "    </tr>\n",
       "  </thead>\n",
       "  <tbody>\n",
       "    <tr>\n",
       "      <th>220</th>\n",
       "      <td>http://data.europa.eu/esco/skill/0005c151-5b5a...</td>\n",
       "      <td>Musikpersonal verwalten</td>\n",
       "      <td>Die verschiedenen Technologien für Tonprodukti...</td>\n",
       "    </tr>\n",
       "    <tr>\n",
       "      <th>221</th>\n",
       "      <td>http://data.europa.eu/esco/skill/00064735-8fad...</td>\n",
       "      <td>Strafvollzugsverfahren beaufsichtigen</td>\n",
       "      <td>Ausstellung von Bescheinigungen für Tiergesund...</td>\n",
       "    </tr>\n",
       "    <tr>\n",
       "      <th>222</th>\n",
       "      <td>http://data.europa.eu/esco/skill/000709ed-2be5...</td>\n",
       "      <td>nicht unterdrückende Praktiken anwenden</td>\n",
       "      <td>Praktiken in Bezug auf die sichere Reinigung v...</td>\n",
       "    </tr>\n",
       "    <tr>\n",
       "      <th>223</th>\n",
       "      <td>http://data.europa.eu/esco/skill/0007bdc2-dd15...</td>\n",
       "      <td>Einhaltung von Vorschriften von Eisenbahnfahrz...</td>\n",
       "      <td>Durchführen der Reparatur und routinemäßigen W...</td>\n",
       "    </tr>\n",
       "    <tr>\n",
       "      <th>224</th>\n",
       "      <td>http://data.europa.eu/esco/skill/00090cc1-1f27...</td>\n",
       "      <td>verfügbare Dienste ermitteln</td>\n",
       "      <td>Erweiterung des Dienstleistungsangebots für Ku...</td>\n",
       "    </tr>\n",
       "  </tbody>\n",
       "</table>\n",
       "</div>"
      ],
      "text/plain": [
       "                                                    ?a  \\\n",
       "220  http://data.europa.eu/esco/skill/0005c151-5b5a...   \n",
       "221  http://data.europa.eu/esco/skill/00064735-8fad...   \n",
       "222  http://data.europa.eu/esco/skill/000709ed-2be5...   \n",
       "223  http://data.europa.eu/esco/skill/0007bdc2-dd15...   \n",
       "224  http://data.europa.eu/esco/skill/00090cc1-1f27...   \n",
       "\n",
       "                                             prefLabel  \\\n",
       "220                            Musikpersonal verwalten   \n",
       "221              Strafvollzugsverfahren beaufsichtigen   \n",
       "222            nicht unterdrückende Praktiken anwenden   \n",
       "223  Einhaltung von Vorschriften von Eisenbahnfahrz...   \n",
       "224                       verfügbare Dienste ermitteln   \n",
       "\n",
       "                                         hard_negative  \n",
       "220  Die verschiedenen Technologien für Tonprodukti...  \n",
       "221  Ausstellung von Bescheinigungen für Tiergesund...  \n",
       "222  Praktiken in Bezug auf die sichere Reinigung v...  \n",
       "223  Durchführen der Reparatur und routinemäßigen W...  \n",
       "224  Erweiterung des Dienstleistungsangebots für Ku...  "
      ]
     },
     "execution_count": 81,
     "metadata": {},
     "output_type": "execute_result"
    }
   ],
   "source": [
    "negative_classification_data.head()"
   ]
  },
  {
   "cell_type": "code",
   "execution_count": 82,
   "id": "496efdda",
   "metadata": {},
   "outputs": [
    {
     "name": "stderr",
     "output_type": "stream",
     "text": [
      "/scratch/tmp.7262910.yakram/ipykernel_137919/1617624918.py:1: SettingWithCopyWarning: \n",
      "A value is trying to be set on a copy of a slice from a DataFrame.\n",
      "Try using .loc[row_indexer,col_indexer] = value instead\n",
      "\n",
      "See the caveats in the documentation: https://pandas.pydata.org/pandas-docs/stable/user_guide/indexing.html#returning-a-view-versus-a-copy\n",
      "  positive_classification_data['labels'] = 1\n",
      "/scratch/tmp.7262910.yakram/ipykernel_137919/1617624918.py:2: SettingWithCopyWarning: \n",
      "A value is trying to be set on a copy of a slice from a DataFrame.\n",
      "Try using .loc[row_indexer,col_indexer] = value instead\n",
      "\n",
      "See the caveats in the documentation: https://pandas.pydata.org/pandas-docs/stable/user_guide/indexing.html#returning-a-view-versus-a-copy\n",
      "  negative_classification_data['labels'] = 0\n"
     ]
    }
   ],
   "source": [
    "positive_classification_data['labels'] = 1\n",
    "negative_classification_data['labels'] = 0"
   ]
  },
  {
   "cell_type": "code",
   "execution_count": 83,
   "id": "b37ea449",
   "metadata": {
    "scrolled": true
   },
   "outputs": [],
   "source": [
    "positive_classification_data.columns = ['?a', 'term1', 'term2', 'labels']\n",
    "negative_classification_data.columns = ['?a', 'term1', 'term2', 'labels']"
   ]
  },
  {
   "cell_type": "code",
   "execution_count": 84,
   "id": "4bda049d",
   "metadata": {},
   "outputs": [],
   "source": [
    "classification_data_full = pd.concat([positive_classification_data, negative_classification_data])"
   ]
  },
  {
   "cell_type": "code",
   "execution_count": 85,
   "id": "2443760d",
   "metadata": {},
   "outputs": [],
   "source": [
    "classification_data_full.reset_index(drop=True, inplace=True)"
   ]
  },
  {
   "cell_type": "code",
   "execution_count": 86,
   "id": "9a2fa10c",
   "metadata": {},
   "outputs": [
    {
     "data": {
      "text/html": [
       "<div>\n",
       "<style scoped>\n",
       "    .dataframe tbody tr th:only-of-type {\n",
       "        vertical-align: middle;\n",
       "    }\n",
       "\n",
       "    .dataframe tbody tr th {\n",
       "        vertical-align: top;\n",
       "    }\n",
       "\n",
       "    .dataframe thead th {\n",
       "        text-align: right;\n",
       "    }\n",
       "</style>\n",
       "<table border=\"1\" class=\"dataframe\">\n",
       "  <thead>\n",
       "    <tr style=\"text-align: right;\">\n",
       "      <th></th>\n",
       "      <th>?a</th>\n",
       "      <th>term1</th>\n",
       "      <th>term2</th>\n",
       "      <th>labels</th>\n",
       "    </tr>\n",
       "  </thead>\n",
       "  <tbody>\n",
       "    <tr>\n",
       "      <th>0</th>\n",
       "      <td>http://data.europa.eu/esco/skill/0005c151-5b5a...</td>\n",
       "      <td>Musikpersonal verwalten</td>\n",
       "      <td>Zuweisen und Verwalten der Aufgaben des Person...</td>\n",
       "      <td>1</td>\n",
       "    </tr>\n",
       "    <tr>\n",
       "      <th>1</th>\n",
       "      <td>http://data.europa.eu/esco/skill/00064735-8fad...</td>\n",
       "      <td>Strafvollzugsverfahren beaufsichtigen</td>\n",
       "      <td>Überwachen des Betriebs einer Justizvollzugsan...</td>\n",
       "      <td>1</td>\n",
       "    </tr>\n",
       "    <tr>\n",
       "      <th>2</th>\n",
       "      <td>http://data.europa.eu/esco/skill/000709ed-2be5...</td>\n",
       "      <td>nicht unterdrückende Praktiken anwenden</td>\n",
       "      <td>Ermitteln von Repressionen in Gesellschaften, ...</td>\n",
       "      <td>1</td>\n",
       "    </tr>\n",
       "    <tr>\n",
       "      <th>3</th>\n",
       "      <td>http://data.europa.eu/esco/skill/0007bdc2-dd15...</td>\n",
       "      <td>Einhaltung von Vorschriften von Eisenbahnfahrz...</td>\n",
       "      <td>Kontrollieren von Fahrzeugen, Komponenten und ...</td>\n",
       "      <td>1</td>\n",
       "    </tr>\n",
       "    <tr>\n",
       "      <th>4</th>\n",
       "      <td>http://data.europa.eu/esco/skill/00090cc1-1f27...</td>\n",
       "      <td>verfügbare Dienste ermitteln</td>\n",
       "      <td>Ermitteln der verschiedenen verfügbaren Dienst...</td>\n",
       "      <td>1</td>\n",
       "    </tr>\n",
       "  </tbody>\n",
       "</table>\n",
       "</div>"
      ],
      "text/plain": [
       "                                                  ?a  \\\n",
       "0  http://data.europa.eu/esco/skill/0005c151-5b5a...   \n",
       "1  http://data.europa.eu/esco/skill/00064735-8fad...   \n",
       "2  http://data.europa.eu/esco/skill/000709ed-2be5...   \n",
       "3  http://data.europa.eu/esco/skill/0007bdc2-dd15...   \n",
       "4  http://data.europa.eu/esco/skill/00090cc1-1f27...   \n",
       "\n",
       "                                               term1  \\\n",
       "0                            Musikpersonal verwalten   \n",
       "1              Strafvollzugsverfahren beaufsichtigen   \n",
       "2            nicht unterdrückende Praktiken anwenden   \n",
       "3  Einhaltung von Vorschriften von Eisenbahnfahrz...   \n",
       "4                       verfügbare Dienste ermitteln   \n",
       "\n",
       "                                               term2  labels  \n",
       "0  Zuweisen und Verwalten der Aufgaben des Person...       1  \n",
       "1  Überwachen des Betriebs einer Justizvollzugsan...       1  \n",
       "2  Ermitteln von Repressionen in Gesellschaften, ...       1  \n",
       "3  Kontrollieren von Fahrzeugen, Komponenten und ...       1  \n",
       "4  Ermitteln der verschiedenen verfügbaren Dienst...       1  "
      ]
     },
     "execution_count": 86,
     "metadata": {},
     "output_type": "execute_result"
    }
   ],
   "source": [
    "classification_data_full.head()"
   ]
  },
  {
   "cell_type": "code",
   "execution_count": 87,
   "id": "79aec180",
   "metadata": {},
   "outputs": [],
   "source": [
    "# classification_data_full.to_csv(f'/cluster/scratch/yakram/sbert-copy/turtle_files/classification_data/{model_dir_language}/classification_term_desc.csv', sep='\\t')"
   ]
  },
  {
   "cell_type": "markdown",
   "id": "98db35b0",
   "metadata": {},
   "source": [
    "### shuffle classification data"
   ]
  },
  {
   "cell_type": "code",
   "execution_count": 88,
   "id": "c7eface2",
   "metadata": {},
   "outputs": [],
   "source": [
    "shuffled_classification_data = classification_data_full.sample(frac=1)"
   ]
  },
  {
   "cell_type": "code",
   "execution_count": 89,
   "id": "78ae6a0c",
   "metadata": {},
   "outputs": [],
   "source": [
    "first_half = shuffled_classification_data[: shuffled_classification_data.shape[0]]\n",
    "second_half = shuffled_classification_data[shuffled_classification_data.shape[0]:]"
   ]
  },
  {
   "cell_type": "code",
   "execution_count": 90,
   "id": "3d24a396",
   "metadata": {},
   "outputs": [],
   "source": [
    "first_half_shuffled = first_half[['?a', 'term2', 'term1', 'labels']]"
   ]
  },
  {
   "cell_type": "code",
   "execution_count": 91,
   "id": "24cf1d35",
   "metadata": {},
   "outputs": [
    {
     "data": {
      "text/html": [
       "<div>\n",
       "<style scoped>\n",
       "    .dataframe tbody tr th:only-of-type {\n",
       "        vertical-align: middle;\n",
       "    }\n",
       "\n",
       "    .dataframe tbody tr th {\n",
       "        vertical-align: top;\n",
       "    }\n",
       "\n",
       "    .dataframe thead th {\n",
       "        text-align: right;\n",
       "    }\n",
       "</style>\n",
       "<table border=\"1\" class=\"dataframe\">\n",
       "  <thead>\n",
       "    <tr style=\"text-align: right;\">\n",
       "      <th></th>\n",
       "      <th>?a</th>\n",
       "      <th>term2</th>\n",
       "      <th>term1</th>\n",
       "      <th>labels</th>\n",
       "    </tr>\n",
       "  </thead>\n",
       "  <tbody>\n",
       "    <tr>\n",
       "      <th>23537</th>\n",
       "      <td>http://data.europa.eu/esco/skill/b0275474-2d6a...</td>\n",
       "      <td>Die verschiedenen Dienste wie Liniendienste, S...</td>\n",
       "      <td>Schiffs-Steuerungsvorrichtungen warten</td>\n",
       "      <td>0</td>\n",
       "    </tr>\n",
       "    <tr>\n",
       "      <th>1673</th>\n",
       "      <td>http://data.europa.eu/esco/skill/1f4a4458-af5e...</td>\n",
       "      <td>Kräne und Krananlagen reparieren und bei Bedar...</td>\n",
       "      <td>Krananlagen reparieren</td>\n",
       "      <td>1</td>\n",
       "    </tr>\n",
       "    <tr>\n",
       "      <th>26149</th>\n",
       "      <td>http://data.europa.eu/esco/skill/e18ee06c-7a0f...</td>\n",
       "      <td>Hören, Verstehen und Tippen von Inhalt aus Aud...</td>\n",
       "      <td>gesprochenes Okzitanisch verstehen</td>\n",
       "      <td>0</td>\n",
       "    </tr>\n",
       "    <tr>\n",
       "      <th>18787</th>\n",
       "      <td>http://data.europa.eu/esco/skill/58d8e348-8bbc...</td>\n",
       "      <td>Finanzbereich, der sich mit der Analyse prakti...</td>\n",
       "      <td>Anlageberatung leisten</td>\n",
       "      <td>0</td>\n",
       "    </tr>\n",
       "    <tr>\n",
       "      <th>24399</th>\n",
       "      <td>http://data.europa.eu/esco/skill/c0f51665-5a3c...</td>\n",
       "      <td>Maschinen, die für die Baustoffhandhabung in a...</td>\n",
       "      <td>Maschinen für den Möbelbau reparieren</td>\n",
       "      <td>0</td>\n",
       "    </tr>\n",
       "  </tbody>\n",
       "</table>\n",
       "</div>"
      ],
      "text/plain": [
       "                                                      ?a  \\\n",
       "23537  http://data.europa.eu/esco/skill/b0275474-2d6a...   \n",
       "1673   http://data.europa.eu/esco/skill/1f4a4458-af5e...   \n",
       "26149  http://data.europa.eu/esco/skill/e18ee06c-7a0f...   \n",
       "18787  http://data.europa.eu/esco/skill/58d8e348-8bbc...   \n",
       "24399  http://data.europa.eu/esco/skill/c0f51665-5a3c...   \n",
       "\n",
       "                                                   term2  \\\n",
       "23537  Die verschiedenen Dienste wie Liniendienste, S...   \n",
       "1673   Kräne und Krananlagen reparieren und bei Bedar...   \n",
       "26149  Hören, Verstehen und Tippen von Inhalt aus Aud...   \n",
       "18787  Finanzbereich, der sich mit der Analyse prakti...   \n",
       "24399  Maschinen, die für die Baustoffhandhabung in a...   \n",
       "\n",
       "                                        term1  labels  \n",
       "23537  Schiffs-Steuerungsvorrichtungen warten       0  \n",
       "1673                   Krananlagen reparieren       1  \n",
       "26149      gesprochenes Okzitanisch verstehen       0  \n",
       "18787                  Anlageberatung leisten       0  \n",
       "24399   Maschinen für den Möbelbau reparieren       0  "
      ]
     },
     "execution_count": 91,
     "metadata": {},
     "output_type": "execute_result"
    }
   ],
   "source": [
    "first_half_shuffled.head()"
   ]
  },
  {
   "cell_type": "code",
   "execution_count": 92,
   "id": "77fb4ad7",
   "metadata": {},
   "outputs": [],
   "source": [
    "classification_data_shuffled = pd.concat([first_half_shuffled, second_half])\n",
    "\n",
    "classification_data_shuffled.reset_index(inplace=True, drop=True)"
   ]
  },
  {
   "cell_type": "code",
   "execution_count": 93,
   "id": "2d67ddf4",
   "metadata": {},
   "outputs": [],
   "source": [
    "classification_data_shuffled.to_csv(f'/cluster/scratch/yakram/sbert-copy/turtle_files/classification_data/{model_dir_language}/shuffled_classification_data_desc.csv', sep='\\t')"
   ]
  },
  {
   "cell_type": "code",
   "execution_count": null,
   "id": "345af151",
   "metadata": {},
   "outputs": [],
   "source": []
  }
 ],
 "metadata": {
  "kernelspec": {
   "display_name": "Python 3 (ipykernel)",
   "language": "python",
   "name": "python3"
  },
  "language_info": {
   "codemirror_mode": {
    "name": "ipython",
    "version": 3
   },
   "file_extension": ".py",
   "mimetype": "text/x-python",
   "name": "python",
   "nbconvert_exporter": "python",
   "pygments_lexer": "ipython3",
   "version": "3.8.2"
  }
 },
 "nbformat": 4,
 "nbformat_minor": 5
}
