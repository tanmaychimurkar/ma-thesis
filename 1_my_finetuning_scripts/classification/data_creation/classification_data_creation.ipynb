{
 "cells": [
  {
   "cell_type": "code",
   "execution_count": 1,
   "id": "2f39982c",
   "metadata": {},
   "outputs": [
    {
     "name": "stdout",
     "output_type": "stream",
     "text": [
      "INFO: Pandarallel will run on 128 workers.\n",
      "INFO: Pandarallel will use Memory file system to transfer data between the main process and workers.\n"
     ]
    },
    {
     "name": "stderr",
     "output_type": "stream",
     "text": [
      "[nltk_data] Downloading package stopwords to\n",
      "[nltk_data]     /cluster/home/yakram/nltk_data...\n",
      "[nltk_data]   Package stopwords is already up-to-date!\n"
     ]
    },
    {
     "data": {
      "text/plain": [
       "True"
      ]
     },
     "execution_count": 1,
     "metadata": {},
     "output_type": "execute_result"
    }
   ],
   "source": [
    "import pandas as pd\n",
    "import numpy as np\n",
    "import pandas as pd\n",
    "from tqdm import tqdm\n",
    "import os\n",
    "from nltk.corpus import stopwords\n",
    "import itertools\n",
    "import nltk\n",
    "import re\n",
    "tqdm.pandas()\n",
    "import ast\n",
    "\n",
    "from pandarallel import pandarallel\n",
    "pandarallel.initialize(progress_bar=True)\n",
    "\n",
    "nltk.download('stopwords')"
   ]
  },
  {
   "cell_type": "code",
   "execution_count": 2,
   "id": "5d111883",
   "metadata": {},
   "outputs": [],
   "source": [
    "LANGUAGE = 'de'\n",
    "DATA_DIR = 'german'"
   ]
  },
  {
   "cell_type": "code",
   "execution_count": 3,
   "id": "e86213f4",
   "metadata": {},
   "outputs": [
    {
     "data": {
      "text/plain": [
       "'/cluster/scratch/yakram/sbert-copy/turtle_files/mnr_data/de/hard_neg_triplets.csv'"
      ]
     },
     "execution_count": 3,
     "metadata": {},
     "output_type": "execute_result"
    }
   ],
   "source": [
    "triplet_save_dir = f'/cluster/scratch/yakram/sbert-copy/turtle_files/mnr_data/{LANGUAGE}/hard_neg_triplets.csv'\n",
    "triplet_save_dir"
   ]
  },
  {
   "cell_type": "code",
   "execution_count": 4,
   "id": "1b4f1c1d",
   "metadata": {},
   "outputs": [],
   "source": [
    "triplet_classification_data = pd.read_csv(triplet_save_dir, sep='\\t', index_col=[0])"
   ]
  },
  {
   "cell_type": "code",
   "execution_count": 5,
   "id": "5183f1fb",
   "metadata": {},
   "outputs": [],
   "source": [
    "positive_classification_data = triplet_classification_data[\n",
    "    ['?a', 'anchor', 'positive_term']\n",
    "]\n",
    "\n",
    "negative_classification_data = triplet_classification_data[\n",
    "    ['?a', 'anchor', 'negative_term']\n",
    "]"
   ]
  },
  {
   "cell_type": "code",
   "execution_count": 6,
   "id": "8d8dc175",
   "metadata": {},
   "outputs": [],
   "source": [
    "positive_classification_data['labels'] = 1\n",
    "negative_classification_data['labels'] = 0"
   ]
  },
  {
   "cell_type": "code",
   "execution_count": 7,
   "id": "b008be33",
   "metadata": {},
   "outputs": [],
   "source": [
    "positive_classification_data.columns = ['?a', 'term1', 'term2', 'labels']\n",
    "negative_classification_data.columns = ['?a', 'term1', 'term2', 'labels']"
   ]
  },
  {
   "cell_type": "code",
   "execution_count": 8,
   "id": "1f101473",
   "metadata": {},
   "outputs": [],
   "source": [
    "classification_data_unshuffled = pd.concat([positive_classification_data, negative_classification_data])"
   ]
  },
  {
   "cell_type": "code",
   "execution_count": 9,
   "id": "03b8ff4e",
   "metadata": {},
   "outputs": [
    {
     "data": {
      "text/plain": [
       "(14374, 4)"
      ]
     },
     "execution_count": 9,
     "metadata": {},
     "output_type": "execute_result"
    }
   ],
   "source": [
    "classification_data_unshuffled.shape"
   ]
  },
  {
   "cell_type": "code",
   "execution_count": 10,
   "id": "72524bb9",
   "metadata": {},
   "outputs": [
    {
     "data": {
      "text/plain": [
       "(14143, 4)"
      ]
     },
     "execution_count": 10,
     "metadata": {},
     "output_type": "execute_result"
    }
   ],
   "source": [
    "classification_data_unshuffled.drop_duplicates(inplace=True)\n",
    "classification_data_unshuffled.shape"
   ]
  },
  {
   "cell_type": "code",
   "execution_count": 11,
   "id": "3c31cdf0",
   "metadata": {},
   "outputs": [],
   "source": [
    "classification_data_unshuffled_dir = f'/cluster/scratch/yakram/sbert-copy/turtle_files/classification_data/{LANGUAGE}/unshuffled_classification_data.csv'\n",
    "classification_data_shuffled_dir = f'/cluster/scratch/yakram/sbert-copy/turtle_files/classification_data/{LANGUAGE}/shuffled_classification_data.csv'"
   ]
  },
  {
   "cell_type": "code",
   "execution_count": 12,
   "id": "ae527127",
   "metadata": {},
   "outputs": [
    {
     "data": {
      "text/plain": [
       "('/cluster/scratch/yakram/sbert-copy/turtle_files/classification_data/de/unshuffled_classification_data.csv',\n",
       " '/cluster/scratch/yakram/sbert-copy/turtle_files/classification_data/de/shuffled_classification_data.csv')"
      ]
     },
     "execution_count": 12,
     "metadata": {},
     "output_type": "execute_result"
    }
   ],
   "source": [
    "classification_data_unshuffled_dir, classification_data_shuffled_dir"
   ]
  },
  {
   "cell_type": "code",
   "execution_count": 13,
   "id": "ba783d9a",
   "metadata": {},
   "outputs": [],
   "source": [
    "classification_data_unshuffled.to_csv(classification_data_unshuffled_dir, sep='\\t')"
   ]
  },
  {
   "cell_type": "code",
   "execution_count": 14,
   "id": "5316caac",
   "metadata": {},
   "outputs": [],
   "source": [
    "classification_data_unshuffled = classification_data_unshuffled.sample(frac=1)"
   ]
  },
  {
   "cell_type": "code",
   "execution_count": 15,
   "id": "e8a8f961",
   "metadata": {},
   "outputs": [],
   "source": [
    "first_half_unshuffled = classification_data_unshuffled[: int(len(classification_data_unshuffled)/2)]\n",
    "second_half_unshuffled = classification_data_unshuffled[int(len(classification_data_unshuffled)/2) :]"
   ]
  },
  {
   "cell_type": "code",
   "execution_count": 16,
   "id": "3a48f9c5",
   "metadata": {},
   "outputs": [
    {
     "data": {
      "text/plain": [
       "((7071, 4), (7072, 4), (14143, 4))"
      ]
     },
     "execution_count": 16,
     "metadata": {},
     "output_type": "execute_result"
    }
   ],
   "source": [
    "first_half_unshuffled.shape, second_half_unshuffled.shape, classification_data_unshuffled.shape"
   ]
  },
  {
   "cell_type": "code",
   "execution_count": 17,
   "id": "be128c3b",
   "metadata": {},
   "outputs": [
    {
     "data": {
      "text/html": [
       "<div>\n",
       "<style scoped>\n",
       "    .dataframe tbody tr th:only-of-type {\n",
       "        vertical-align: middle;\n",
       "    }\n",
       "\n",
       "    .dataframe tbody tr th {\n",
       "        vertical-align: top;\n",
       "    }\n",
       "\n",
       "    .dataframe thead th {\n",
       "        text-align: right;\n",
       "    }\n",
       "</style>\n",
       "<table border=\"1\" class=\"dataframe\">\n",
       "  <thead>\n",
       "    <tr style=\"text-align: right;\">\n",
       "      <th></th>\n",
       "      <th>?a</th>\n",
       "      <th>term1</th>\n",
       "      <th>term2</th>\n",
       "      <th>labels</th>\n",
       "    </tr>\n",
       "  </thead>\n",
       "  <tbody>\n",
       "    <tr>\n",
       "      <th>3251</th>\n",
       "      <td>http://data.europa.eu/esco/skill/7b406d9a-3887...</td>\n",
       "      <td>Anlagen zum Erhitzen von Metallen bedienen</td>\n",
       "      <td>Verwenden von Anlagen zum Brennen der ausgegos...</td>\n",
       "      <td>1</td>\n",
       "    </tr>\n",
       "    <tr>\n",
       "      <th>4093</th>\n",
       "      <td>http://data.europa.eu/esco/skill/9b9dc550-351e...</td>\n",
       "      <td>Verfahren des Vertriebsmanagements überprüfen</td>\n",
       "      <td>Entwickeln und Überprüfen von Vertriebsverfahr...</td>\n",
       "      <td>1</td>\n",
       "    </tr>\n",
       "    <tr>\n",
       "      <th>1907</th>\n",
       "      <td>http://data.europa.eu/esco/skill/497b85db-c3ba...</td>\n",
       "      <td>Unterstützung beim Ankleiden leisten</td>\n",
       "      <td>Hilfestellung beim Auswählen von Kleidung für ...</td>\n",
       "      <td>1</td>\n",
       "    </tr>\n",
       "    <tr>\n",
       "      <th>3481</th>\n",
       "      <td>http://data.europa.eu/esco/skill/849c8e8f-0416...</td>\n",
       "      <td>Schleifmaschine bedienen</td>\n",
       "      <td>Bedienen und Überwachen der Schleifmaschine, u...</td>\n",
       "      <td>1</td>\n",
       "    </tr>\n",
       "    <tr>\n",
       "      <th>6423</th>\n",
       "      <td>http://data.europa.eu/esco/skill/f780a6ad-b01e...</td>\n",
       "      <td>Krisenmanagement anwenden</td>\n",
       "      <td>Übernahme der Kontrolle über Pläne und Strateg...</td>\n",
       "      <td>1</td>\n",
       "    </tr>\n",
       "  </tbody>\n",
       "</table>\n",
       "</div>"
      ],
      "text/plain": [
       "                                                     ?a  \\\n",
       "3251  http://data.europa.eu/esco/skill/7b406d9a-3887...   \n",
       "4093  http://data.europa.eu/esco/skill/9b9dc550-351e...   \n",
       "1907  http://data.europa.eu/esco/skill/497b85db-c3ba...   \n",
       "3481  http://data.europa.eu/esco/skill/849c8e8f-0416...   \n",
       "6423  http://data.europa.eu/esco/skill/f780a6ad-b01e...   \n",
       "\n",
       "                                              term1  \\\n",
       "3251     Anlagen zum Erhitzen von Metallen bedienen   \n",
       "4093  Verfahren des Vertriebsmanagements überprüfen   \n",
       "1907           Unterstützung beim Ankleiden leisten   \n",
       "3481                       Schleifmaschine bedienen   \n",
       "6423                      Krisenmanagement anwenden   \n",
       "\n",
       "                                                  term2  labels  \n",
       "3251  Verwenden von Anlagen zum Brennen der ausgegos...       1  \n",
       "4093  Entwickeln und Überprüfen von Vertriebsverfahr...       1  \n",
       "1907  Hilfestellung beim Auswählen von Kleidung für ...       1  \n",
       "3481  Bedienen und Überwachen der Schleifmaschine, u...       1  \n",
       "6423  Übernahme der Kontrolle über Pläne und Strateg...       1  "
      ]
     },
     "execution_count": 17,
     "metadata": {},
     "output_type": "execute_result"
    }
   ],
   "source": [
    "second_half_unshuffled.head()"
   ]
  },
  {
   "cell_type": "code",
   "execution_count": 18,
   "id": "c02f35e7",
   "metadata": {},
   "outputs": [],
   "source": [
    "second_half_shuffled = second_half_unshuffled[['?a', 'term2', 'term1', 'labels']]\n",
    "second_half_shuffled.columns = ['?a', 'term1', 'term2', 'labels']"
   ]
  },
  {
   "cell_type": "code",
   "execution_count": 19,
   "id": "fb2ee269",
   "metadata": {},
   "outputs": [
    {
     "data": {
      "text/plain": [
       "(14143, 4)"
      ]
     },
     "execution_count": 19,
     "metadata": {},
     "output_type": "execute_result"
    }
   ],
   "source": [
    "classification_data_shuffled = pd.concat([first_half_unshuffled, second_half_shuffled])\n",
    "classification_data_shuffled.shape"
   ]
  },
  {
   "cell_type": "code",
   "execution_count": 20,
   "id": "e90c9366",
   "metadata": {},
   "outputs": [],
   "source": [
    "classification_data_shuffled.to_csv(classification_data_shuffled_dir, sep='\\t')"
   ]
  },
  {
   "cell_type": "code",
   "execution_count": null,
   "id": "d0078129",
   "metadata": {},
   "outputs": [],
   "source": []
  }
 ],
 "metadata": {
  "kernelspec": {
   "display_name": "Python 3 (ipykernel)",
   "language": "python",
   "name": "python3"
  },
  "language_info": {
   "codemirror_mode": {
    "name": "ipython",
    "version": 3
   },
   "file_extension": ".py",
   "mimetype": "text/x-python",
   "name": "python",
   "nbconvert_exporter": "python",
   "pygments_lexer": "ipython3",
   "version": "3.8.2"
  }
 },
 "nbformat": 4,
 "nbformat_minor": 5
}
